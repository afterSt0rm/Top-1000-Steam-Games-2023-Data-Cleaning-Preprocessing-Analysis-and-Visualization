{
 "cells": [
  {
   "cell_type": "code",
   "execution_count": 1,
   "id": "4cbbcd0a-3e5d-48c5-a46e-fdeecd60e238",
   "metadata": {},
   "outputs": [],
   "source": [
    "# import libraries\n",
    "import numpy as np\n",
    "import pandas as pd\n",
    "from ast import literal_eval"
   ]
  },
  {
   "cell_type": "code",
   "execution_count": 2,
   "id": "61d2fe04-83fa-435a-870c-2f09dafa6ae7",
   "metadata": {},
   "outputs": [],
   "source": [
    "# display all columns\n",
    "pd.set_option('display.max_columns', None)"
   ]
  },
  {
   "cell_type": "code",
   "execution_count": 3,
   "id": "c925b939-3eda-4c4f-9c1f-70685ebe084d",
   "metadata": {},
   "outputs": [],
   "source": [
    "# load dataset into dataframe\n",
    "steamspy_data = pd.read_csv('Top 1000 Steam Games 2023/steamspy_data.csv')\n",
    "steam_app_data = pd.read_csv('Top 1000 Steam Games 2023/steam_app_data.csv')"
   ]
  },
  {
   "cell_type": "code",
   "execution_count": 4,
   "id": "874007c8-2e7d-4301-8eca-737616dff454",
   "metadata": {},
   "outputs": [
    {
     "data": {
      "text/plain": [
       "(0, 1)"
      ]
     },
     "execution_count": 4,
     "metadata": {},
     "output_type": "execute_result"
    }
   ],
   "source": [
    "# Check for duplicates\n",
    "duplicates_steamspy = steamspy_data.duplicated().sum()\n",
    "duplicates_steam_app = steam_app_data.duplicated().sum()\n",
    "\n",
    "duplicates_steamspy, duplicates_steam_app"
   ]
  },
  {
   "cell_type": "code",
   "execution_count": 5,
   "id": "61014b16-35f1-47c7-80fd-acf6bebd7cd7",
   "metadata": {},
   "outputs": [
    {
     "data": {
      "text/plain": [
       "0"
      ]
     },
     "execution_count": 5,
     "metadata": {},
     "output_type": "execute_result"
    }
   ],
   "source": [
    "# Remove duplicates from the steam_app_data dataset\n",
    "steam_app_data = steam_app_data.drop_duplicates()\n",
    "\n",
    "# Check again for duplicates to confirm\n",
    "duplicates_steam_app = steam_app_data.duplicated().sum()\n",
    "duplicates_steam_app"
   ]
  },
  {
   "cell_type": "markdown",
   "id": "0e557882-19ae-49a0-bd08-df926af23780",
   "metadata": {},
   "source": [
    "# Steamspy Data Cleaning and Preprocessing"
   ]
  },
  {
   "cell_type": "code",
   "execution_count": 6,
   "id": "6c0c7214-5c15-43da-b5ba-e12283ae5999",
   "metadata": {},
   "outputs": [
    {
     "data": {
      "text/html": [
       "<div>\n",
       "<style scoped>\n",
       "    .dataframe tbody tr th:only-of-type {\n",
       "        vertical-align: middle;\n",
       "    }\n",
       "\n",
       "    .dataframe tbody tr th {\n",
       "        vertical-align: top;\n",
       "    }\n",
       "\n",
       "    .dataframe thead th {\n",
       "        text-align: right;\n",
       "    }\n",
       "</style>\n",
       "<table border=\"1\" class=\"dataframe\">\n",
       "  <thead>\n",
       "    <tr style=\"text-align: right;\">\n",
       "      <th></th>\n",
       "      <th>appid</th>\n",
       "      <th>name</th>\n",
       "      <th>developer</th>\n",
       "      <th>publisher</th>\n",
       "      <th>score_rank</th>\n",
       "      <th>positive</th>\n",
       "      <th>negative</th>\n",
       "      <th>userscore</th>\n",
       "      <th>owners</th>\n",
       "      <th>average_forever</th>\n",
       "      <th>average_2weeks</th>\n",
       "      <th>median_forever</th>\n",
       "      <th>median_2weeks</th>\n",
       "      <th>price</th>\n",
       "      <th>initialprice</th>\n",
       "      <th>discount</th>\n",
       "      <th>languages</th>\n",
       "      <th>genre</th>\n",
       "      <th>ccu</th>\n",
       "      <th>tags</th>\n",
       "    </tr>\n",
       "  </thead>\n",
       "  <tbody>\n",
       "    <tr>\n",
       "      <th>0</th>\n",
       "      <td>10</td>\n",
       "      <td>Counter-Strike</td>\n",
       "      <td>Valve</td>\n",
       "      <td>Valve</td>\n",
       "      <td>NaN</td>\n",
       "      <td>216345</td>\n",
       "      <td>5530</td>\n",
       "      <td>0</td>\n",
       "      <td>10,000,000 .. 20,000,000</td>\n",
       "      <td>0</td>\n",
       "      <td>0</td>\n",
       "      <td>0</td>\n",
       "      <td>0</td>\n",
       "      <td>999</td>\n",
       "      <td>999</td>\n",
       "      <td>0</td>\n",
       "      <td>English, French, German, Italian, Spanish - Sp...</td>\n",
       "      <td>Action</td>\n",
       "      <td>10775</td>\n",
       "      <td>{'Action': 5448, 'FPS': 4862, 'Multiplayer': 3...</td>\n",
       "    </tr>\n",
       "    <tr>\n",
       "      <th>1</th>\n",
       "      <td>20</td>\n",
       "      <td>Team Fortress Classic</td>\n",
       "      <td>Valve</td>\n",
       "      <td>Valve</td>\n",
       "      <td>NaN</td>\n",
       "      <td>6472</td>\n",
       "      <td>990</td>\n",
       "      <td>0</td>\n",
       "      <td>5,000,000 .. 10,000,000</td>\n",
       "      <td>0</td>\n",
       "      <td>0</td>\n",
       "      <td>0</td>\n",
       "      <td>0</td>\n",
       "      <td>499</td>\n",
       "      <td>499</td>\n",
       "      <td>0</td>\n",
       "      <td>English, French, German, Italian, Spanish - Sp...</td>\n",
       "      <td>Action</td>\n",
       "      <td>77</td>\n",
       "      <td>{'Action': 759, 'FPS': 320, 'Multiplayer': 272...</td>\n",
       "    </tr>\n",
       "    <tr>\n",
       "      <th>2</th>\n",
       "      <td>30</td>\n",
       "      <td>Day of Defeat</td>\n",
       "      <td>Valve</td>\n",
       "      <td>Valve</td>\n",
       "      <td>NaN</td>\n",
       "      <td>5686</td>\n",
       "      <td>634</td>\n",
       "      <td>0</td>\n",
       "      <td>5,000,000 .. 10,000,000</td>\n",
       "      <td>0</td>\n",
       "      <td>0</td>\n",
       "      <td>0</td>\n",
       "      <td>0</td>\n",
       "      <td>499</td>\n",
       "      <td>499</td>\n",
       "      <td>0</td>\n",
       "      <td>English, French, German, Italian, Spanish - Spain</td>\n",
       "      <td>Action</td>\n",
       "      <td>89</td>\n",
       "      <td>{'FPS': 794, 'World War II': 261, 'Multiplayer...</td>\n",
       "    </tr>\n",
       "    <tr>\n",
       "      <th>3</th>\n",
       "      <td>40</td>\n",
       "      <td>Deathmatch Classic</td>\n",
       "      <td>Valve</td>\n",
       "      <td>Valve</td>\n",
       "      <td>NaN</td>\n",
       "      <td>2242</td>\n",
       "      <td>490</td>\n",
       "      <td>0</td>\n",
       "      <td>5,000,000 .. 10,000,000</td>\n",
       "      <td>0</td>\n",
       "      <td>0</td>\n",
       "      <td>0</td>\n",
       "      <td>0</td>\n",
       "      <td>499</td>\n",
       "      <td>499</td>\n",
       "      <td>0</td>\n",
       "      <td>English, French, German, Italian, Spanish - Sp...</td>\n",
       "      <td>Action</td>\n",
       "      <td>8</td>\n",
       "      <td>{'Action': 633, 'FPS': 147, 'Classic': 113, 'M...</td>\n",
       "    </tr>\n",
       "    <tr>\n",
       "      <th>4</th>\n",
       "      <td>50</td>\n",
       "      <td>Half-Life: Opposing Force</td>\n",
       "      <td>Gearbox Software</td>\n",
       "      <td>Valve</td>\n",
       "      <td>NaN</td>\n",
       "      <td>17468</td>\n",
       "      <td>890</td>\n",
       "      <td>0</td>\n",
       "      <td>2,000,000 .. 5,000,000</td>\n",
       "      <td>0</td>\n",
       "      <td>0</td>\n",
       "      <td>0</td>\n",
       "      <td>0</td>\n",
       "      <td>499</td>\n",
       "      <td>499</td>\n",
       "      <td>0</td>\n",
       "      <td>English, French, German, Korean</td>\n",
       "      <td>Action</td>\n",
       "      <td>162</td>\n",
       "      <td>{'FPS': 905, 'Action': 343, 'Classic': 271, 'S...</td>\n",
       "    </tr>\n",
       "  </tbody>\n",
       "</table>\n",
       "</div>"
      ],
      "text/plain": [
       "   appid                       name         developer publisher  score_rank  \\\n",
       "0     10             Counter-Strike             Valve     Valve         NaN   \n",
       "1     20      Team Fortress Classic             Valve     Valve         NaN   \n",
       "2     30              Day of Defeat             Valve     Valve         NaN   \n",
       "3     40         Deathmatch Classic             Valve     Valve         NaN   \n",
       "4     50  Half-Life: Opposing Force  Gearbox Software     Valve         NaN   \n",
       "\n",
       "   positive  negative  userscore                    owners  average_forever  \\\n",
       "0    216345      5530          0  10,000,000 .. 20,000,000                0   \n",
       "1      6472       990          0   5,000,000 .. 10,000,000                0   \n",
       "2      5686       634          0   5,000,000 .. 10,000,000                0   \n",
       "3      2242       490          0   5,000,000 .. 10,000,000                0   \n",
       "4     17468       890          0    2,000,000 .. 5,000,000                0   \n",
       "\n",
       "   average_2weeks  median_forever  median_2weeks  price  initialprice  \\\n",
       "0               0               0              0    999           999   \n",
       "1               0               0              0    499           499   \n",
       "2               0               0              0    499           499   \n",
       "3               0               0              0    499           499   \n",
       "4               0               0              0    499           499   \n",
       "\n",
       "   discount                                          languages   genre    ccu  \\\n",
       "0         0  English, French, German, Italian, Spanish - Sp...  Action  10775   \n",
       "1         0  English, French, German, Italian, Spanish - Sp...  Action     77   \n",
       "2         0  English, French, German, Italian, Spanish - Spain  Action     89   \n",
       "3         0  English, French, German, Italian, Spanish - Sp...  Action      8   \n",
       "4         0                    English, French, German, Korean  Action    162   \n",
       "\n",
       "                                                tags  \n",
       "0  {'Action': 5448, 'FPS': 4862, 'Multiplayer': 3...  \n",
       "1  {'Action': 759, 'FPS': 320, 'Multiplayer': 272...  \n",
       "2  {'FPS': 794, 'World War II': 261, 'Multiplayer...  \n",
       "3  {'Action': 633, 'FPS': 147, 'Classic': 113, 'M...  \n",
       "4  {'FPS': 905, 'Action': 343, 'Classic': 271, 'S...  "
      ]
     },
     "execution_count": 6,
     "metadata": {},
     "output_type": "execute_result"
    }
   ],
   "source": [
    "# show first five rows\n",
    "steamspy_data.head()"
   ]
  },
  {
   "cell_type": "code",
   "execution_count": 7,
   "id": "2a249442-115c-45e7-9f52-296708b21655",
   "metadata": {},
   "outputs": [
    {
     "name": "stdout",
     "output_type": "stream",
     "text": [
      "<class 'pandas.core.frame.DataFrame'>\n",
      "RangeIndex: 1000 entries, 0 to 999\n",
      "Data columns (total 20 columns):\n",
      " #   Column           Non-Null Count  Dtype  \n",
      "---  ------           --------------  -----  \n",
      " 0   appid            1000 non-null   int64  \n",
      " 1   name             1000 non-null   object \n",
      " 2   developer        999 non-null    object \n",
      " 3   publisher        1000 non-null   object \n",
      " 4   score_rank       0 non-null      float64\n",
      " 5   positive         1000 non-null   int64  \n",
      " 6   negative         1000 non-null   int64  \n",
      " 7   userscore        1000 non-null   int64  \n",
      " 8   owners           1000 non-null   object \n",
      " 9   average_forever  1000 non-null   int64  \n",
      " 10  average_2weeks   1000 non-null   int64  \n",
      " 11  median_forever   1000 non-null   int64  \n",
      " 12  median_2weeks    1000 non-null   int64  \n",
      " 13  price            1000 non-null   int64  \n",
      " 14  initialprice     1000 non-null   int64  \n",
      " 15  discount         1000 non-null   int64  \n",
      " 16  languages        1000 non-null   object \n",
      " 17  genre            997 non-null    object \n",
      " 18  ccu              1000 non-null   int64  \n",
      " 19  tags             1000 non-null   object \n",
      "dtypes: float64(1), int64(12), object(7)\n",
      "memory usage: 156.4+ KB\n"
     ]
    }
   ],
   "source": [
    "# check information about dataframe\n",
    "steamspy_data.info()"
   ]
  },
  {
   "cell_type": "code",
   "execution_count": 8,
   "id": "fa8818eb-1fa5-4f48-afe4-68f70cb5a5eb",
   "metadata": {},
   "outputs": [
    {
     "data": {
      "text/plain": [
       "appid                 0\n",
       "name                  0\n",
       "developer             1\n",
       "publisher             0\n",
       "score_rank         1000\n",
       "positive              0\n",
       "negative              0\n",
       "userscore             0\n",
       "owners                0\n",
       "average_forever       0\n",
       "average_2weeks        0\n",
       "median_forever        0\n",
       "median_2weeks         0\n",
       "price                 0\n",
       "initialprice          0\n",
       "discount              0\n",
       "languages             0\n",
       "genre                 3\n",
       "ccu                   0\n",
       "tags                  0\n",
       "dtype: int64"
      ]
     },
     "execution_count": 8,
     "metadata": {},
     "output_type": "execute_result"
    }
   ],
   "source": [
    "# check count of null values in each column\n",
    "steamspy_data.isnull().sum()"
   ]
  },
  {
   "cell_type": "code",
   "execution_count": 9,
   "id": "fad92734-47e1-40b2-99b4-6457bbf46053",
   "metadata": {},
   "outputs": [],
   "source": [
    "# drop null column\n",
    "steamspy_data = steamspy_data.drop(columns='score_rank')"
   ]
  },
  {
   "cell_type": "code",
   "execution_count": 10,
   "id": "23fef64e-1770-4adf-bce7-58b492f8f4ca",
   "metadata": {},
   "outputs": [
    {
     "name": "stdout",
     "output_type": "stream",
     "text": [
      "<class 'pandas.core.frame.DataFrame'>\n",
      "RangeIndex: 1000 entries, 0 to 999\n",
      "Data columns (total 19 columns):\n",
      " #   Column           Non-Null Count  Dtype \n",
      "---  ------           --------------  ----- \n",
      " 0   appid            1000 non-null   int64 \n",
      " 1   name             1000 non-null   object\n",
      " 2   developer        999 non-null    object\n",
      " 3   publisher        1000 non-null   object\n",
      " 4   positive         1000 non-null   int64 \n",
      " 5   negative         1000 non-null   int64 \n",
      " 6   userscore        1000 non-null   int64 \n",
      " 7   owners           1000 non-null   object\n",
      " 8   average_forever  1000 non-null   int64 \n",
      " 9   average_2weeks   1000 non-null   int64 \n",
      " 10  median_forever   1000 non-null   int64 \n",
      " 11  median_2weeks    1000 non-null   int64 \n",
      " 12  price            1000 non-null   int64 \n",
      " 13  initialprice     1000 non-null   int64 \n",
      " 14  discount         1000 non-null   int64 \n",
      " 15  languages        1000 non-null   object\n",
      " 16  genre            997 non-null    object\n",
      " 17  ccu              1000 non-null   int64 \n",
      " 18  tags             1000 non-null   object\n",
      "dtypes: int64(12), object(7)\n",
      "memory usage: 148.6+ KB\n"
     ]
    }
   ],
   "source": [
    "steamspy_data.info()"
   ]
  },
  {
   "cell_type": "code",
   "execution_count": 11,
   "id": "a29aa917-fe5f-4bec-89e0-d8bca810e636",
   "metadata": {},
   "outputs": [
    {
     "data": {
      "text/plain": [
       "genre\n",
       "Action                                                                      148\n",
       "Action, Adventure                                                            98\n",
       "Strategy                                                                     41\n",
       "Action, RPG                                                                  36\n",
       "Action, Adventure, Indie                                                     34\n",
       "                                                                           ... \n",
       "Casual, Free to Play, Indie, Simulation                                       1\n",
       "Action, Adventure, Racing, Simulation, Sports                                 1\n",
       "Action, Adventure, Massively Multiplayer, Early Access                        1\n",
       "Action, Casual, Free to Play, Massively Multiplayer                           1\n",
       "Action, Adventure, Casual, Indie, Massively Multiplayer, RPG, Simulation      1\n",
       "Name: count, Length: 231, dtype: int64"
      ]
     },
     "execution_count": 11,
     "metadata": {},
     "output_type": "execute_result"
    }
   ],
   "source": [
    "# show count of unique values in genre column \n",
    "steamspy_data['genre'].value_counts()"
   ]
  },
  {
   "cell_type": "code",
   "execution_count": 12,
   "id": "3f16dc77-366e-46ca-92a6-40b626049451",
   "metadata": {},
   "outputs": [],
   "source": [
    "# fill null values in genre column with mode of of that column\n",
    "steamspy_data['genre'] = steamspy_data['genre'].fillna(steamspy_data['genre'].mode()[0])"
   ]
  },
  {
   "cell_type": "code",
   "execution_count": 13,
   "id": "177f426d-3e08-4ee9-956a-814b031ced78",
   "metadata": {},
   "outputs": [],
   "source": [
    "# fill null value in developer column\n",
    "steamspy_data['developer'] = steamspy_data['developer'].fillna('Unknown')"
   ]
  },
  {
   "cell_type": "code",
   "execution_count": 14,
   "id": "cb12eb29-fe24-43a8-ba53-9d2c3c13266c",
   "metadata": {},
   "outputs": [
    {
     "data": {
      "text/plain": [
       "appid              0\n",
       "name               0\n",
       "developer          0\n",
       "publisher          0\n",
       "positive           0\n",
       "negative           0\n",
       "userscore          0\n",
       "owners             0\n",
       "average_forever    0\n",
       "average_2weeks     0\n",
       "median_forever     0\n",
       "median_2weeks      0\n",
       "price              0\n",
       "initialprice       0\n",
       "discount           0\n",
       "languages          0\n",
       "genre              0\n",
       "ccu                0\n",
       "tags               0\n",
       "dtype: int64"
      ]
     },
     "execution_count": 14,
     "metadata": {},
     "output_type": "execute_result"
    }
   ],
   "source": [
    "steamspy_data.isnull().sum()"
   ]
  },
  {
   "cell_type": "code",
   "execution_count": 15,
   "id": "56d14e7f-49af-4e3b-8064-6d20697e2e9f",
   "metadata": {},
   "outputs": [
    {
     "data": {
      "text/html": [
       "<div>\n",
       "<style scoped>\n",
       "    .dataframe tbody tr th:only-of-type {\n",
       "        vertical-align: middle;\n",
       "    }\n",
       "\n",
       "    .dataframe tbody tr th {\n",
       "        vertical-align: top;\n",
       "    }\n",
       "\n",
       "    .dataframe thead th {\n",
       "        text-align: right;\n",
       "    }\n",
       "</style>\n",
       "<table border=\"1\" class=\"dataframe\">\n",
       "  <thead>\n",
       "    <tr style=\"text-align: right;\">\n",
       "      <th></th>\n",
       "      <th>appid</th>\n",
       "      <th>name</th>\n",
       "      <th>developer</th>\n",
       "      <th>publisher</th>\n",
       "      <th>positive</th>\n",
       "      <th>negative</th>\n",
       "      <th>userscore</th>\n",
       "      <th>owners</th>\n",
       "      <th>average_forever</th>\n",
       "      <th>average_2weeks</th>\n",
       "      <th>median_forever</th>\n",
       "      <th>median_2weeks</th>\n",
       "      <th>price</th>\n",
       "      <th>initialprice</th>\n",
       "      <th>discount</th>\n",
       "      <th>languages</th>\n",
       "      <th>genre</th>\n",
       "      <th>ccu</th>\n",
       "      <th>tags</th>\n",
       "    </tr>\n",
       "  </thead>\n",
       "  <tbody>\n",
       "    <tr>\n",
       "      <th>0</th>\n",
       "      <td>10</td>\n",
       "      <td>Counter-Strike</td>\n",
       "      <td>Valve</td>\n",
       "      <td>Valve</td>\n",
       "      <td>216345</td>\n",
       "      <td>5530</td>\n",
       "      <td>0</td>\n",
       "      <td>10,000,000 .. 20,000,000</td>\n",
       "      <td>0</td>\n",
       "      <td>0</td>\n",
       "      <td>0</td>\n",
       "      <td>0</td>\n",
       "      <td>999</td>\n",
       "      <td>999</td>\n",
       "      <td>0</td>\n",
       "      <td>English, French, German, Italian, Spanish - Sp...</td>\n",
       "      <td>Action</td>\n",
       "      <td>10775</td>\n",
       "      <td>{'Action': 5448, 'FPS': 4862, 'Multiplayer': 3...</td>\n",
       "    </tr>\n",
       "    <tr>\n",
       "      <th>1</th>\n",
       "      <td>20</td>\n",
       "      <td>Team Fortress Classic</td>\n",
       "      <td>Valve</td>\n",
       "      <td>Valve</td>\n",
       "      <td>6472</td>\n",
       "      <td>990</td>\n",
       "      <td>0</td>\n",
       "      <td>5,000,000 .. 10,000,000</td>\n",
       "      <td>0</td>\n",
       "      <td>0</td>\n",
       "      <td>0</td>\n",
       "      <td>0</td>\n",
       "      <td>499</td>\n",
       "      <td>499</td>\n",
       "      <td>0</td>\n",
       "      <td>English, French, German, Italian, Spanish - Sp...</td>\n",
       "      <td>Action</td>\n",
       "      <td>77</td>\n",
       "      <td>{'Action': 759, 'FPS': 320, 'Multiplayer': 272...</td>\n",
       "    </tr>\n",
       "    <tr>\n",
       "      <th>2</th>\n",
       "      <td>30</td>\n",
       "      <td>Day of Defeat</td>\n",
       "      <td>Valve</td>\n",
       "      <td>Valve</td>\n",
       "      <td>5686</td>\n",
       "      <td>634</td>\n",
       "      <td>0</td>\n",
       "      <td>5,000,000 .. 10,000,000</td>\n",
       "      <td>0</td>\n",
       "      <td>0</td>\n",
       "      <td>0</td>\n",
       "      <td>0</td>\n",
       "      <td>499</td>\n",
       "      <td>499</td>\n",
       "      <td>0</td>\n",
       "      <td>English, French, German, Italian, Spanish - Spain</td>\n",
       "      <td>Action</td>\n",
       "      <td>89</td>\n",
       "      <td>{'FPS': 794, 'World War II': 261, 'Multiplayer...</td>\n",
       "    </tr>\n",
       "    <tr>\n",
       "      <th>3</th>\n",
       "      <td>40</td>\n",
       "      <td>Deathmatch Classic</td>\n",
       "      <td>Valve</td>\n",
       "      <td>Valve</td>\n",
       "      <td>2242</td>\n",
       "      <td>490</td>\n",
       "      <td>0</td>\n",
       "      <td>5,000,000 .. 10,000,000</td>\n",
       "      <td>0</td>\n",
       "      <td>0</td>\n",
       "      <td>0</td>\n",
       "      <td>0</td>\n",
       "      <td>499</td>\n",
       "      <td>499</td>\n",
       "      <td>0</td>\n",
       "      <td>English, French, German, Italian, Spanish - Sp...</td>\n",
       "      <td>Action</td>\n",
       "      <td>8</td>\n",
       "      <td>{'Action': 633, 'FPS': 147, 'Classic': 113, 'M...</td>\n",
       "    </tr>\n",
       "    <tr>\n",
       "      <th>4</th>\n",
       "      <td>50</td>\n",
       "      <td>Half-Life: Opposing Force</td>\n",
       "      <td>Gearbox Software</td>\n",
       "      <td>Valve</td>\n",
       "      <td>17468</td>\n",
       "      <td>890</td>\n",
       "      <td>0</td>\n",
       "      <td>2,000,000 .. 5,000,000</td>\n",
       "      <td>0</td>\n",
       "      <td>0</td>\n",
       "      <td>0</td>\n",
       "      <td>0</td>\n",
       "      <td>499</td>\n",
       "      <td>499</td>\n",
       "      <td>0</td>\n",
       "      <td>English, French, German, Korean</td>\n",
       "      <td>Action</td>\n",
       "      <td>162</td>\n",
       "      <td>{'FPS': 905, 'Action': 343, 'Classic': 271, 'S...</td>\n",
       "    </tr>\n",
       "  </tbody>\n",
       "</table>\n",
       "</div>"
      ],
      "text/plain": [
       "   appid                       name         developer publisher  positive  \\\n",
       "0     10             Counter-Strike             Valve     Valve    216345   \n",
       "1     20      Team Fortress Classic             Valve     Valve      6472   \n",
       "2     30              Day of Defeat             Valve     Valve      5686   \n",
       "3     40         Deathmatch Classic             Valve     Valve      2242   \n",
       "4     50  Half-Life: Opposing Force  Gearbox Software     Valve     17468   \n",
       "\n",
       "   negative  userscore                    owners  average_forever  \\\n",
       "0      5530          0  10,000,000 .. 20,000,000                0   \n",
       "1       990          0   5,000,000 .. 10,000,000                0   \n",
       "2       634          0   5,000,000 .. 10,000,000                0   \n",
       "3       490          0   5,000,000 .. 10,000,000                0   \n",
       "4       890          0    2,000,000 .. 5,000,000                0   \n",
       "\n",
       "   average_2weeks  median_forever  median_2weeks  price  initialprice  \\\n",
       "0               0               0              0    999           999   \n",
       "1               0               0              0    499           499   \n",
       "2               0               0              0    499           499   \n",
       "3               0               0              0    499           499   \n",
       "4               0               0              0    499           499   \n",
       "\n",
       "   discount                                          languages   genre    ccu  \\\n",
       "0         0  English, French, German, Italian, Spanish - Sp...  Action  10775   \n",
       "1         0  English, French, German, Italian, Spanish - Sp...  Action     77   \n",
       "2         0  English, French, German, Italian, Spanish - Spain  Action     89   \n",
       "3         0  English, French, German, Italian, Spanish - Sp...  Action      8   \n",
       "4         0                    English, French, German, Korean  Action    162   \n",
       "\n",
       "                                                tags  \n",
       "0  {'Action': 5448, 'FPS': 4862, 'Multiplayer': 3...  \n",
       "1  {'Action': 759, 'FPS': 320, 'Multiplayer': 272...  \n",
       "2  {'FPS': 794, 'World War II': 261, 'Multiplayer...  \n",
       "3  {'Action': 633, 'FPS': 147, 'Classic': 113, 'M...  \n",
       "4  {'FPS': 905, 'Action': 343, 'Classic': 271, 'S...  "
      ]
     },
     "execution_count": 15,
     "metadata": {},
     "output_type": "execute_result"
    }
   ],
   "source": [
    "steamspy_data.head()"
   ]
  },
  {
   "cell_type": "code",
   "execution_count": 16,
   "id": "7f3199ff-9718-41c4-89f3-feb1d14841db",
   "metadata": {},
   "outputs": [
    {
     "data": {
      "text/plain": [
       "userscore\n",
       "0    1000\n",
       "Name: count, dtype: int64"
      ]
     },
     "execution_count": 16,
     "metadata": {},
     "output_type": "execute_result"
    }
   ],
   "source": [
    "# show count of unique values in userscore column \n",
    "steamspy_data['userscore'].value_counts()"
   ]
  },
  {
   "cell_type": "markdown",
   "id": "0fc2b83f-f3a2-452c-bef0-4952954e5624",
   "metadata": {},
   "source": [
    "* ### It can be seen that the \"userscore\" column has no values other than zero, so it does not provide any meaningful information. \n",
    "* ### The case is same with \"average_forever, average_2weeks, median_2weeks, medain_forever\". Hence, I am dropping these columns."
   ]
  },
  {
   "cell_type": "code",
   "execution_count": 17,
   "id": "b5914470-576b-4acb-8cae-686e7883f10a",
   "metadata": {},
   "outputs": [],
   "source": [
    "steamspy_data = steamspy_data.drop(columns='userscore')"
   ]
  },
  {
   "cell_type": "code",
   "execution_count": 18,
   "id": "bb5243df-f0c9-460b-b9cc-6603f78aea57",
   "metadata": {},
   "outputs": [
    {
     "data": {
      "text/plain": [
       "average_forever\n",
       "0    1000\n",
       "Name: count, dtype: int64"
      ]
     },
     "execution_count": 18,
     "metadata": {},
     "output_type": "execute_result"
    }
   ],
   "source": [
    "steamspy_data['average_forever'].value_counts()"
   ]
  },
  {
   "cell_type": "code",
   "execution_count": 19,
   "id": "c13788fd-a6ab-4284-bc8d-111027ec2280",
   "metadata": {},
   "outputs": [],
   "source": [
    "steamspy_data = steamspy_data.drop(columns='average_forever')"
   ]
  },
  {
   "cell_type": "code",
   "execution_count": 20,
   "id": "d44024d6-b72f-44c4-808e-c28a02e1f23e",
   "metadata": {},
   "outputs": [
    {
     "data": {
      "text/plain": [
       "average_2weeks\n",
       "0    1000\n",
       "Name: count, dtype: int64"
      ]
     },
     "execution_count": 20,
     "metadata": {},
     "output_type": "execute_result"
    }
   ],
   "source": [
    "steamspy_data['average_2weeks'].value_counts()"
   ]
  },
  {
   "cell_type": "code",
   "execution_count": 21,
   "id": "e9ec6c67-d59a-4476-afd0-8481af956e37",
   "metadata": {},
   "outputs": [],
   "source": [
    "steamspy_data = steamspy_data.drop(columns='average_2weeks')"
   ]
  },
  {
   "cell_type": "code",
   "execution_count": 22,
   "id": "ac93958d-f447-40b1-9051-fb7ff101f14b",
   "metadata": {},
   "outputs": [
    {
     "data": {
      "text/plain": [
       "median_2weeks\n",
       "0    1000\n",
       "Name: count, dtype: int64"
      ]
     },
     "execution_count": 22,
     "metadata": {},
     "output_type": "execute_result"
    }
   ],
   "source": [
    "steamspy_data['median_2weeks'].value_counts()"
   ]
  },
  {
   "cell_type": "code",
   "execution_count": 23,
   "id": "c3c4d5c1-3621-488d-af0d-f392f6b45096",
   "metadata": {},
   "outputs": [],
   "source": [
    "steamspy_data = steamspy_data.drop(columns='median_2weeks')"
   ]
  },
  {
   "cell_type": "code",
   "execution_count": 24,
   "id": "f09db75e-1491-420b-9c81-540e11e2dd2b",
   "metadata": {},
   "outputs": [
    {
     "data": {
      "text/plain": [
       "median_forever\n",
       "0    1000\n",
       "Name: count, dtype: int64"
      ]
     },
     "execution_count": 24,
     "metadata": {},
     "output_type": "execute_result"
    }
   ],
   "source": [
    "steamspy_data['median_forever'].value_counts()"
   ]
  },
  {
   "cell_type": "code",
   "execution_count": 25,
   "id": "24d45655-757a-4cac-9dab-b5f082a95ed5",
   "metadata": {},
   "outputs": [],
   "source": [
    "steamspy_data = steamspy_data.drop(columns='median_forever')"
   ]
  },
  {
   "cell_type": "code",
   "execution_count": 26,
   "id": "0a3e5dfb-78b1-4606-8e0c-0e9096437481",
   "metadata": {},
   "outputs": [
    {
     "data": {
      "text/plain": [
       "discount\n",
       "0     856\n",
       "75     42\n",
       "80     17\n",
       "70     16\n",
       "85     15\n",
       "50     12\n",
       "60     10\n",
       "90      8\n",
       "67      5\n",
       "30      3\n",
       "65      3\n",
       "86      2\n",
       "35      2\n",
       "40      2\n",
       "66      2\n",
       "77      1\n",
       "83      1\n",
       "84      1\n",
       "87      1\n",
       "25      1\n",
       "Name: count, dtype: int64"
      ]
     },
     "execution_count": 26,
     "metadata": {},
     "output_type": "execute_result"
    }
   ],
   "source": [
    "# show count of unique values in discount column \n",
    "steamspy_data['discount'].value_counts()"
   ]
  },
  {
   "cell_type": "code",
   "execution_count": 27,
   "id": "8f97fa14-fb75-47bc-992b-1a7a299ffe25",
   "metadata": {},
   "outputs": [
    {
     "name": "stdout",
     "output_type": "stream",
     "text": [
      "<class 'pandas.core.frame.DataFrame'>\n",
      "RangeIndex: 1000 entries, 0 to 999\n",
      "Data columns (total 14 columns):\n",
      " #   Column        Non-Null Count  Dtype \n",
      "---  ------        --------------  ----- \n",
      " 0   appid         1000 non-null   int64 \n",
      " 1   name          1000 non-null   object\n",
      " 2   developer     1000 non-null   object\n",
      " 3   publisher     1000 non-null   object\n",
      " 4   positive      1000 non-null   int64 \n",
      " 5   negative      1000 non-null   int64 \n",
      " 6   owners        1000 non-null   object\n",
      " 7   price         1000 non-null   int64 \n",
      " 8   initialprice  1000 non-null   int64 \n",
      " 9   discount      1000 non-null   int64 \n",
      " 10  languages     1000 non-null   object\n",
      " 11  genre         1000 non-null   object\n",
      " 12  ccu           1000 non-null   int64 \n",
      " 13  tags          1000 non-null   object\n",
      "dtypes: int64(7), object(7)\n",
      "memory usage: 109.5+ KB\n"
     ]
    }
   ],
   "source": [
    "steamspy_data.info()"
   ]
  },
  {
   "cell_type": "code",
   "execution_count": 28,
   "id": "84dacf3c-dc51-47f0-b63a-04b3ba58e39e",
   "metadata": {},
   "outputs": [
    {
     "data": {
      "text/plain": [
       "0    English, French, German, Italian, Spanish - Sp...\n",
       "1    English, French, German, Italian, Spanish - Sp...\n",
       "2    English, French, German, Italian, Spanish - Spain\n",
       "3    English, French, German, Italian, Spanish - Sp...\n",
       "4                      English, French, German, Korean\n",
       "Name: languages, dtype: object"
      ]
     },
     "execution_count": 28,
     "metadata": {},
     "output_type": "execute_result"
    }
   ],
   "source": [
    "steamspy_data['languages'].head()"
   ]
  },
  {
   "cell_type": "code",
   "execution_count": 29,
   "id": "fb5cfcd0-5f77-4f96-8efe-3f559b6f84a4",
   "metadata": {},
   "outputs": [
    {
     "name": "stdout",
     "output_type": "stream",
     "text": [
      "English, French, German, Italian, Spanish - Spain, Simplified Chinese, Traditional Chinese, Korean\n"
     ]
    }
   ],
   "source": [
    "# checking the first row of languages column\n",
    "print(steamspy_data['languages'][0])"
   ]
  },
  {
   "cell_type": "code",
   "execution_count": 30,
   "id": "53c09e27-b855-432b-9429-251d756d304d",
   "metadata": {},
   "outputs": [
    {
     "data": {
      "text/plain": [
       "0    {'Action': 5448, 'FPS': 4862, 'Multiplayer': 3...\n",
       "1    {'Action': 759, 'FPS': 320, 'Multiplayer': 272...\n",
       "2    {'FPS': 794, 'World War II': 261, 'Multiplayer...\n",
       "3    {'Action': 633, 'FPS': 147, 'Classic': 113, 'M...\n",
       "4    {'FPS': 905, 'Action': 343, 'Classic': 271, 'S...\n",
       "Name: tags, dtype: object"
      ]
     },
     "execution_count": 30,
     "metadata": {},
     "output_type": "execute_result"
    }
   ],
   "source": [
    "steamspy_data['tags'].head()"
   ]
  },
  {
   "cell_type": "code",
   "execution_count": 31,
   "id": "7bdea44e-335a-4fa5-9026-9e18f0525483",
   "metadata": {},
   "outputs": [
    {
     "data": {
      "text/plain": [
       "'{\\'Action\\': 5448, \\'FPS\\': 4862, \\'Multiplayer\\': 3414, \\'Shooter\\': 3369, \\'Classic\\': 2802, \\'Team-Based\\': 1879, \\'First-Person\\': 1717, \\'Competitive\\': 1618, \\'Tactical\\': 1357, \"1990\\'s\": 1212, \\'e-sports\\': 1202, \\'PvP\\': 893, \\'Old School\\': 783, \\'Military\\': 638, \\'Strategy\\': 622, \\'Survival\\': 308, \\'Score Attack\\': 295, \\'1980s\\': 273, \\'Assassin\\': 231, \\'Nostalgia\\': 152}'"
      ]
     },
     "execution_count": 31,
     "metadata": {},
     "output_type": "execute_result"
    }
   ],
   "source": [
    "steamspy_data['tags'][0]"
   ]
  },
  {
   "cell_type": "code",
   "execution_count": 32,
   "id": "5f96cef7-8fc0-433f-beed-bd92919fd7d9",
   "metadata": {},
   "outputs": [
    {
     "data": {
      "text/plain": [
       "genre\n",
       "Action                                                         151\n",
       "Action, Adventure                                               98\n",
       "Strategy                                                        41\n",
       "Action, RPG                                                     36\n",
       "Action, Adventure, Indie                                        34\n",
       "Action, Indie                                                   28\n",
       "Action, Free to Play                                            26\n",
       "RPG                                                             24\n",
       "Action, Adventure, RPG                                          21\n",
       "Action, Adventure, Indie, RPG                                   20\n",
       "Simulation, Strategy                                            16\n",
       "Action, Free to Play, Indie                                     16\n",
       "Indie, Simulation                                               15\n",
       "Adventure, Indie                                                15\n",
       "Simulation, Sports                                              13\n",
       "Action, Casual, Indie                                           11\n",
       "Free to Play, Massively Multiplayer, RPG                        11\n",
       "Action, Adventure, Free to Play, Massively Multiplayer, RPG     11\n",
       "Indie, Simulation, Strategy                                     10\n",
       "Indie                                                            9\n",
       "Name: count, dtype: int64"
      ]
     },
     "execution_count": 32,
     "metadata": {},
     "output_type": "execute_result"
    }
   ],
   "source": [
    "steamspy_data['genre'].value_counts().head(20)"
   ]
  },
  {
   "cell_type": "markdown",
   "id": "73811b6c-723e-44ec-a7dd-287f6822049e",
   "metadata": {},
   "source": [
    "## It can be seen that the genre and tags column hold the same information. So, I am dropping tags column because it seems redundant."
   ]
  },
  {
   "cell_type": "code",
   "execution_count": 33,
   "id": "3b99d678-a1a7-4efe-bb9d-0113d639a1f9",
   "metadata": {},
   "outputs": [],
   "source": [
    "steamspy_data = steamspy_data.drop(columns='tags')"
   ]
  },
  {
   "cell_type": "code",
   "execution_count": 34,
   "id": "11a76269-6909-4e40-8d70-109bc41de5b0",
   "metadata": {},
   "outputs": [
    {
     "data": {
      "text/html": [
       "<div>\n",
       "<style scoped>\n",
       "    .dataframe tbody tr th:only-of-type {\n",
       "        vertical-align: middle;\n",
       "    }\n",
       "\n",
       "    .dataframe tbody tr th {\n",
       "        vertical-align: top;\n",
       "    }\n",
       "\n",
       "    .dataframe thead th {\n",
       "        text-align: right;\n",
       "    }\n",
       "</style>\n",
       "<table border=\"1\" class=\"dataframe\">\n",
       "  <thead>\n",
       "    <tr style=\"text-align: right;\">\n",
       "      <th></th>\n",
       "      <th>appid</th>\n",
       "      <th>name</th>\n",
       "      <th>developer</th>\n",
       "      <th>publisher</th>\n",
       "      <th>positive</th>\n",
       "      <th>negative</th>\n",
       "      <th>owners</th>\n",
       "      <th>price</th>\n",
       "      <th>initialprice</th>\n",
       "      <th>discount</th>\n",
       "      <th>languages</th>\n",
       "      <th>genre</th>\n",
       "      <th>ccu</th>\n",
       "    </tr>\n",
       "  </thead>\n",
       "  <tbody>\n",
       "    <tr>\n",
       "      <th>0</th>\n",
       "      <td>10</td>\n",
       "      <td>Counter-Strike</td>\n",
       "      <td>Valve</td>\n",
       "      <td>Valve</td>\n",
       "      <td>216345</td>\n",
       "      <td>5530</td>\n",
       "      <td>10,000,000 .. 20,000,000</td>\n",
       "      <td>999</td>\n",
       "      <td>999</td>\n",
       "      <td>0</td>\n",
       "      <td>English, French, German, Italian, Spanish - Sp...</td>\n",
       "      <td>Action</td>\n",
       "      <td>10775</td>\n",
       "    </tr>\n",
       "    <tr>\n",
       "      <th>1</th>\n",
       "      <td>20</td>\n",
       "      <td>Team Fortress Classic</td>\n",
       "      <td>Valve</td>\n",
       "      <td>Valve</td>\n",
       "      <td>6472</td>\n",
       "      <td>990</td>\n",
       "      <td>5,000,000 .. 10,000,000</td>\n",
       "      <td>499</td>\n",
       "      <td>499</td>\n",
       "      <td>0</td>\n",
       "      <td>English, French, German, Italian, Spanish - Sp...</td>\n",
       "      <td>Action</td>\n",
       "      <td>77</td>\n",
       "    </tr>\n",
       "    <tr>\n",
       "      <th>2</th>\n",
       "      <td>30</td>\n",
       "      <td>Day of Defeat</td>\n",
       "      <td>Valve</td>\n",
       "      <td>Valve</td>\n",
       "      <td>5686</td>\n",
       "      <td>634</td>\n",
       "      <td>5,000,000 .. 10,000,000</td>\n",
       "      <td>499</td>\n",
       "      <td>499</td>\n",
       "      <td>0</td>\n",
       "      <td>English, French, German, Italian, Spanish - Spain</td>\n",
       "      <td>Action</td>\n",
       "      <td>89</td>\n",
       "    </tr>\n",
       "    <tr>\n",
       "      <th>3</th>\n",
       "      <td>40</td>\n",
       "      <td>Deathmatch Classic</td>\n",
       "      <td>Valve</td>\n",
       "      <td>Valve</td>\n",
       "      <td>2242</td>\n",
       "      <td>490</td>\n",
       "      <td>5,000,000 .. 10,000,000</td>\n",
       "      <td>499</td>\n",
       "      <td>499</td>\n",
       "      <td>0</td>\n",
       "      <td>English, French, German, Italian, Spanish - Sp...</td>\n",
       "      <td>Action</td>\n",
       "      <td>8</td>\n",
       "    </tr>\n",
       "    <tr>\n",
       "      <th>4</th>\n",
       "      <td>50</td>\n",
       "      <td>Half-Life: Opposing Force</td>\n",
       "      <td>Gearbox Software</td>\n",
       "      <td>Valve</td>\n",
       "      <td>17468</td>\n",
       "      <td>890</td>\n",
       "      <td>2,000,000 .. 5,000,000</td>\n",
       "      <td>499</td>\n",
       "      <td>499</td>\n",
       "      <td>0</td>\n",
       "      <td>English, French, German, Korean</td>\n",
       "      <td>Action</td>\n",
       "      <td>162</td>\n",
       "    </tr>\n",
       "  </tbody>\n",
       "</table>\n",
       "</div>"
      ],
      "text/plain": [
       "   appid                       name         developer publisher  positive  \\\n",
       "0     10             Counter-Strike             Valve     Valve    216345   \n",
       "1     20      Team Fortress Classic             Valve     Valve      6472   \n",
       "2     30              Day of Defeat             Valve     Valve      5686   \n",
       "3     40         Deathmatch Classic             Valve     Valve      2242   \n",
       "4     50  Half-Life: Opposing Force  Gearbox Software     Valve     17468   \n",
       "\n",
       "   negative                    owners  price  initialprice  discount  \\\n",
       "0      5530  10,000,000 .. 20,000,000    999           999         0   \n",
       "1       990   5,000,000 .. 10,000,000    499           499         0   \n",
       "2       634   5,000,000 .. 10,000,000    499           499         0   \n",
       "3       490   5,000,000 .. 10,000,000    499           499         0   \n",
       "4       890    2,000,000 .. 5,000,000    499           499         0   \n",
       "\n",
       "                                           languages   genre    ccu  \n",
       "0  English, French, German, Italian, Spanish - Sp...  Action  10775  \n",
       "1  English, French, German, Italian, Spanish - Sp...  Action     77  \n",
       "2  English, French, German, Italian, Spanish - Spain  Action     89  \n",
       "3  English, French, German, Italian, Spanish - Sp...  Action      8  \n",
       "4                    English, French, German, Korean  Action    162  "
      ]
     },
     "execution_count": 34,
     "metadata": {},
     "output_type": "execute_result"
    }
   ],
   "source": [
    "steamspy_data.head()"
   ]
  },
  {
   "cell_type": "code",
   "execution_count": 35,
   "id": "a4320834-b1b4-431a-9434-34dc6ff847f6",
   "metadata": {},
   "outputs": [
    {
     "data": {
      "text/plain": [
       "0    10,000,000 .. 20,000,000\n",
       "1     5,000,000 .. 10,000,000\n",
       "2     5,000,000 .. 10,000,000\n",
       "3     5,000,000 .. 10,000,000\n",
       "4      2,000,000 .. 5,000,000\n",
       "Name: owners, dtype: object"
      ]
     },
     "execution_count": 35,
     "metadata": {},
     "output_type": "execute_result"
    }
   ],
   "source": [
    "steamspy_data['owners'].head()"
   ]
  },
  {
   "cell_type": "code",
   "execution_count": 36,
   "id": "8c02cd49-d47d-4b25-adb6-cbf46a6a89aa",
   "metadata": {},
   "outputs": [],
   "source": [
    "# Format the owners column\n",
    "steamspy_data['owners'] = steamspy_data['owners'].str.replace(',', '').str.replace(' .. ', '-')"
   ]
  },
  {
   "cell_type": "code",
   "execution_count": 37,
   "id": "75b92754-0bf7-4ab7-a2b1-86297af66f43",
   "metadata": {},
   "outputs": [
    {
     "data": {
      "text/plain": [
       "0    10000000-20000000\n",
       "1     5000000-10000000\n",
       "2     5000000-10000000\n",
       "3     5000000-10000000\n",
       "4      2000000-5000000\n",
       "Name: owners, dtype: object"
      ]
     },
     "execution_count": 37,
     "metadata": {},
     "output_type": "execute_result"
    }
   ],
   "source": [
    "steamspy_data['owners'].head()"
   ]
  },
  {
   "cell_type": "code",
   "execution_count": 38,
   "id": "714080c2-147e-44ae-b86e-2132cbd15000",
   "metadata": {},
   "outputs": [
    {
     "data": {
      "text/html": [
       "<div>\n",
       "<style scoped>\n",
       "    .dataframe tbody tr th:only-of-type {\n",
       "        vertical-align: middle;\n",
       "    }\n",
       "\n",
       "    .dataframe tbody tr th {\n",
       "        vertical-align: top;\n",
       "    }\n",
       "\n",
       "    .dataframe thead th {\n",
       "        text-align: right;\n",
       "    }\n",
       "</style>\n",
       "<table border=\"1\" class=\"dataframe\">\n",
       "  <thead>\n",
       "    <tr style=\"text-align: right;\">\n",
       "      <th></th>\n",
       "      <th>appid</th>\n",
       "      <th>name</th>\n",
       "      <th>developer</th>\n",
       "      <th>publisher</th>\n",
       "      <th>positive</th>\n",
       "      <th>negative</th>\n",
       "      <th>owners</th>\n",
       "      <th>price</th>\n",
       "      <th>initialprice</th>\n",
       "      <th>discount</th>\n",
       "      <th>languages</th>\n",
       "      <th>genre</th>\n",
       "      <th>ccu</th>\n",
       "    </tr>\n",
       "  </thead>\n",
       "  <tbody>\n",
       "    <tr>\n",
       "      <th>0</th>\n",
       "      <td>10</td>\n",
       "      <td>Counter-Strike</td>\n",
       "      <td>Valve</td>\n",
       "      <td>Valve</td>\n",
       "      <td>216345</td>\n",
       "      <td>5530</td>\n",
       "      <td>10000000-20000000</td>\n",
       "      <td>999</td>\n",
       "      <td>999</td>\n",
       "      <td>0</td>\n",
       "      <td>English, French, German, Italian, Spanish - Sp...</td>\n",
       "      <td>Action</td>\n",
       "      <td>10775</td>\n",
       "    </tr>\n",
       "    <tr>\n",
       "      <th>1</th>\n",
       "      <td>20</td>\n",
       "      <td>Team Fortress Classic</td>\n",
       "      <td>Valve</td>\n",
       "      <td>Valve</td>\n",
       "      <td>6472</td>\n",
       "      <td>990</td>\n",
       "      <td>5000000-10000000</td>\n",
       "      <td>499</td>\n",
       "      <td>499</td>\n",
       "      <td>0</td>\n",
       "      <td>English, French, German, Italian, Spanish - Sp...</td>\n",
       "      <td>Action</td>\n",
       "      <td>77</td>\n",
       "    </tr>\n",
       "    <tr>\n",
       "      <th>2</th>\n",
       "      <td>30</td>\n",
       "      <td>Day of Defeat</td>\n",
       "      <td>Valve</td>\n",
       "      <td>Valve</td>\n",
       "      <td>5686</td>\n",
       "      <td>634</td>\n",
       "      <td>5000000-10000000</td>\n",
       "      <td>499</td>\n",
       "      <td>499</td>\n",
       "      <td>0</td>\n",
       "      <td>English, French, German, Italian, Spanish - Spain</td>\n",
       "      <td>Action</td>\n",
       "      <td>89</td>\n",
       "    </tr>\n",
       "    <tr>\n",
       "      <th>3</th>\n",
       "      <td>40</td>\n",
       "      <td>Deathmatch Classic</td>\n",
       "      <td>Valve</td>\n",
       "      <td>Valve</td>\n",
       "      <td>2242</td>\n",
       "      <td>490</td>\n",
       "      <td>5000000-10000000</td>\n",
       "      <td>499</td>\n",
       "      <td>499</td>\n",
       "      <td>0</td>\n",
       "      <td>English, French, German, Italian, Spanish - Sp...</td>\n",
       "      <td>Action</td>\n",
       "      <td>8</td>\n",
       "    </tr>\n",
       "    <tr>\n",
       "      <th>4</th>\n",
       "      <td>50</td>\n",
       "      <td>Half-Life: Opposing Force</td>\n",
       "      <td>Gearbox Software</td>\n",
       "      <td>Valve</td>\n",
       "      <td>17468</td>\n",
       "      <td>890</td>\n",
       "      <td>2000000-5000000</td>\n",
       "      <td>499</td>\n",
       "      <td>499</td>\n",
       "      <td>0</td>\n",
       "      <td>English, French, German, Korean</td>\n",
       "      <td>Action</td>\n",
       "      <td>162</td>\n",
       "    </tr>\n",
       "  </tbody>\n",
       "</table>\n",
       "</div>"
      ],
      "text/plain": [
       "   appid                       name         developer publisher  positive  \\\n",
       "0     10             Counter-Strike             Valve     Valve    216345   \n",
       "1     20      Team Fortress Classic             Valve     Valve      6472   \n",
       "2     30              Day of Defeat             Valve     Valve      5686   \n",
       "3     40         Deathmatch Classic             Valve     Valve      2242   \n",
       "4     50  Half-Life: Opposing Force  Gearbox Software     Valve     17468   \n",
       "\n",
       "   negative             owners  price  initialprice  discount  \\\n",
       "0      5530  10000000-20000000    999           999         0   \n",
       "1       990   5000000-10000000    499           499         0   \n",
       "2       634   5000000-10000000    499           499         0   \n",
       "3       490   5000000-10000000    499           499         0   \n",
       "4       890    2000000-5000000    499           499         0   \n",
       "\n",
       "                                           languages   genre    ccu  \n",
       "0  English, French, German, Italian, Spanish - Sp...  Action  10775  \n",
       "1  English, French, German, Italian, Spanish - Sp...  Action     77  \n",
       "2  English, French, German, Italian, Spanish - Spain  Action     89  \n",
       "3  English, French, German, Italian, Spanish - Sp...  Action      8  \n",
       "4                    English, French, German, Korean  Action    162  "
      ]
     },
     "execution_count": 38,
     "metadata": {},
     "output_type": "execute_result"
    }
   ],
   "source": [
    "steamspy_data.head()"
   ]
  },
  {
   "cell_type": "code",
   "execution_count": 39,
   "id": "20395bca-dedf-4256-a62d-cba1532aa567",
   "metadata": {},
   "outputs": [
    {
     "data": {
      "text/plain": [
       "initialprice\n",
       "0       262\n",
       "99        8\n",
       "199      10\n",
       "249       1\n",
       "299       5\n",
       "399       2\n",
       "499      38\n",
       "599       4\n",
       "699       8\n",
       "799       6\n",
       "899       3\n",
       "999      78\n",
       "1000      2\n",
       "1099      1\n",
       "1199      1\n",
       "1299      8\n",
       "1399      2\n",
       "1499     77\n",
       "1520      1\n",
       "1599      1\n",
       "1699      1\n",
       "1799      3\n",
       "1996      1\n",
       "1997      1\n",
       "1999    188\n",
       "2199      1\n",
       "2479      1\n",
       "2499     32\n",
       "2999     96\n",
       "3196      1\n",
       "3499      5\n",
       "3500      1\n",
       "3999     67\n",
       "4499      8\n",
       "4999     21\n",
       "5499      2\n",
       "5952      1\n",
       "5999     47\n",
       "6999      4\n",
       "8499      1\n",
       "Name: count, dtype: int64"
      ]
     },
     "execution_count": 39,
     "metadata": {},
     "output_type": "execute_result"
    }
   ],
   "source": [
    "# show count of unique values in initialprice column and sort the index in ascending order\n",
    "steamspy_data['initialprice'].value_counts().sort_index()"
   ]
  },
  {
   "cell_type": "code",
   "execution_count": 40,
   "id": "a3015438-0aed-4cd2-93e2-f62ab8671ef7",
   "metadata": {},
   "outputs": [
    {
     "data": {
      "text/plain": [
       "price\n",
       "0       262\n",
       "30        2\n",
       "65        1\n",
       "77        1\n",
       "84        1\n",
       "       ... \n",
       "4999     17\n",
       "5499      2\n",
       "5952      1\n",
       "5999     31\n",
       "6999      3\n",
       "Name: count, Length: 64, dtype: int64"
      ]
     },
     "execution_count": 40,
     "metadata": {},
     "output_type": "execute_result"
    }
   ],
   "source": [
    "steamspy_data['price'].value_counts().sort_index()"
   ]
  },
  {
   "cell_type": "code",
   "execution_count": 41,
   "id": "7756ceb7-1254-4ad7-aa9b-fb4ef5d84308",
   "metadata": {},
   "outputs": [
    {
     "data": {
      "text/plain": [
       "discount\n",
       "0     856\n",
       "25      1\n",
       "30      3\n",
       "35      2\n",
       "40      2\n",
       "50     12\n",
       "60     10\n",
       "65      3\n",
       "66      2\n",
       "67      5\n",
       "70     16\n",
       "75     42\n",
       "77      1\n",
       "80     17\n",
       "83      1\n",
       "84      1\n",
       "85     15\n",
       "86      2\n",
       "87      1\n",
       "90      8\n",
       "Name: count, dtype: int64"
      ]
     },
     "execution_count": 41,
     "metadata": {},
     "output_type": "execute_result"
    }
   ],
   "source": [
    "steamspy_data['discount'].value_counts().sort_index()"
   ]
  },
  {
   "cell_type": "code",
   "execution_count": 42,
   "id": "413270fe-d63f-4917-b701-2e7c7f9ae7a7",
   "metadata": {},
   "outputs": [],
   "source": [
    "def process_original_price(df):\n",
    "\n",
    "    \"\"\"\n",
    "    Process the 'initialprice' and 'price' columns in the DataFrame.\n",
    "    \"\"\"\n",
    "    \n",
    "    # Create a copy of the input DataFrame to avoid modifying the original data\n",
    "    df = df.copy()\n",
    "\n",
    "    # Divide values in the 'initialprice' column by 100 if they are greater than 0\n",
    "    df.loc[df[\"initialprice\"] > 0, \"initialprice\"] /= 100\n",
    "\n",
    "    # Divide values in the 'price' column by 100 if they are greater than 0\n",
    "    df.loc[df['price'] > 0, 'price'] /= 100\n",
    "    \n",
    "    return df"
   ]
  },
  {
   "cell_type": "code",
   "execution_count": 43,
   "id": "69b13e49-ac66-469c-afb0-9e9bc217f02b",
   "metadata": {},
   "outputs": [],
   "source": [
    "steamspy_data = process_original_price(steamspy_data)"
   ]
  },
  {
   "cell_type": "code",
   "execution_count": 44,
   "id": "5d3ccf9f-5741-4a20-a777-233f9373ee63",
   "metadata": {},
   "outputs": [
    {
     "data": {
      "text/html": [
       "<div>\n",
       "<style scoped>\n",
       "    .dataframe tbody tr th:only-of-type {\n",
       "        vertical-align: middle;\n",
       "    }\n",
       "\n",
       "    .dataframe tbody tr th {\n",
       "        vertical-align: top;\n",
       "    }\n",
       "\n",
       "    .dataframe thead th {\n",
       "        text-align: right;\n",
       "    }\n",
       "</style>\n",
       "<table border=\"1\" class=\"dataframe\">\n",
       "  <thead>\n",
       "    <tr style=\"text-align: right;\">\n",
       "      <th></th>\n",
       "      <th>appid</th>\n",
       "      <th>name</th>\n",
       "      <th>developer</th>\n",
       "      <th>publisher</th>\n",
       "      <th>positive</th>\n",
       "      <th>negative</th>\n",
       "      <th>owners</th>\n",
       "      <th>price</th>\n",
       "      <th>initialprice</th>\n",
       "      <th>discount</th>\n",
       "      <th>languages</th>\n",
       "      <th>genre</th>\n",
       "      <th>ccu</th>\n",
       "    </tr>\n",
       "  </thead>\n",
       "  <tbody>\n",
       "    <tr>\n",
       "      <th>0</th>\n",
       "      <td>10</td>\n",
       "      <td>Counter-Strike</td>\n",
       "      <td>Valve</td>\n",
       "      <td>Valve</td>\n",
       "      <td>216345</td>\n",
       "      <td>5530</td>\n",
       "      <td>10000000-20000000</td>\n",
       "      <td>9.99</td>\n",
       "      <td>9.99</td>\n",
       "      <td>0</td>\n",
       "      <td>English, French, German, Italian, Spanish - Sp...</td>\n",
       "      <td>Action</td>\n",
       "      <td>10775</td>\n",
       "    </tr>\n",
       "    <tr>\n",
       "      <th>1</th>\n",
       "      <td>20</td>\n",
       "      <td>Team Fortress Classic</td>\n",
       "      <td>Valve</td>\n",
       "      <td>Valve</td>\n",
       "      <td>6472</td>\n",
       "      <td>990</td>\n",
       "      <td>5000000-10000000</td>\n",
       "      <td>4.99</td>\n",
       "      <td>4.99</td>\n",
       "      <td>0</td>\n",
       "      <td>English, French, German, Italian, Spanish - Sp...</td>\n",
       "      <td>Action</td>\n",
       "      <td>77</td>\n",
       "    </tr>\n",
       "    <tr>\n",
       "      <th>2</th>\n",
       "      <td>30</td>\n",
       "      <td>Day of Defeat</td>\n",
       "      <td>Valve</td>\n",
       "      <td>Valve</td>\n",
       "      <td>5686</td>\n",
       "      <td>634</td>\n",
       "      <td>5000000-10000000</td>\n",
       "      <td>4.99</td>\n",
       "      <td>4.99</td>\n",
       "      <td>0</td>\n",
       "      <td>English, French, German, Italian, Spanish - Spain</td>\n",
       "      <td>Action</td>\n",
       "      <td>89</td>\n",
       "    </tr>\n",
       "    <tr>\n",
       "      <th>3</th>\n",
       "      <td>40</td>\n",
       "      <td>Deathmatch Classic</td>\n",
       "      <td>Valve</td>\n",
       "      <td>Valve</td>\n",
       "      <td>2242</td>\n",
       "      <td>490</td>\n",
       "      <td>5000000-10000000</td>\n",
       "      <td>4.99</td>\n",
       "      <td>4.99</td>\n",
       "      <td>0</td>\n",
       "      <td>English, French, German, Italian, Spanish - Sp...</td>\n",
       "      <td>Action</td>\n",
       "      <td>8</td>\n",
       "    </tr>\n",
       "    <tr>\n",
       "      <th>4</th>\n",
       "      <td>50</td>\n",
       "      <td>Half-Life: Opposing Force</td>\n",
       "      <td>Gearbox Software</td>\n",
       "      <td>Valve</td>\n",
       "      <td>17468</td>\n",
       "      <td>890</td>\n",
       "      <td>2000000-5000000</td>\n",
       "      <td>4.99</td>\n",
       "      <td>4.99</td>\n",
       "      <td>0</td>\n",
       "      <td>English, French, German, Korean</td>\n",
       "      <td>Action</td>\n",
       "      <td>162</td>\n",
       "    </tr>\n",
       "  </tbody>\n",
       "</table>\n",
       "</div>"
      ],
      "text/plain": [
       "   appid                       name         developer publisher  positive  \\\n",
       "0     10             Counter-Strike             Valve     Valve    216345   \n",
       "1     20      Team Fortress Classic             Valve     Valve      6472   \n",
       "2     30              Day of Defeat             Valve     Valve      5686   \n",
       "3     40         Deathmatch Classic             Valve     Valve      2242   \n",
       "4     50  Half-Life: Opposing Force  Gearbox Software     Valve     17468   \n",
       "\n",
       "   negative             owners  price  initialprice  discount  \\\n",
       "0      5530  10000000-20000000   9.99          9.99         0   \n",
       "1       990   5000000-10000000   4.99          4.99         0   \n",
       "2       634   5000000-10000000   4.99          4.99         0   \n",
       "3       490   5000000-10000000   4.99          4.99         0   \n",
       "4       890    2000000-5000000   4.99          4.99         0   \n",
       "\n",
       "                                           languages   genre    ccu  \n",
       "0  English, French, German, Italian, Spanish - Sp...  Action  10775  \n",
       "1  English, French, German, Italian, Spanish - Sp...  Action     77  \n",
       "2  English, French, German, Italian, Spanish - Spain  Action     89  \n",
       "3  English, French, German, Italian, Spanish - Sp...  Action      8  \n",
       "4                    English, French, German, Korean  Action    162  "
      ]
     },
     "execution_count": 44,
     "metadata": {},
     "output_type": "execute_result"
    }
   ],
   "source": [
    "steamspy_data.head()"
   ]
  },
  {
   "cell_type": "code",
   "execution_count": 45,
   "id": "87a7a1ba-143f-463c-a7fb-7deb893b2303",
   "metadata": {},
   "outputs": [
    {
     "data": {
      "text/plain": [
       "price\n",
       "0.00     262\n",
       "19.99    152\n",
       "9.99      75\n",
       "14.99     75\n",
       "29.99     71\n",
       "        ... \n",
       "20.39      1\n",
       "27.99      1\n",
       "6.98       1\n",
       "10.99      1\n",
       "59.52      1\n",
       "Name: count, Length: 64, dtype: int64"
      ]
     },
     "execution_count": 45,
     "metadata": {},
     "output_type": "execute_result"
    }
   ],
   "source": [
    "steamspy_data['price'].value_counts()"
   ]
  },
  {
   "cell_type": "code",
   "execution_count": 46,
   "id": "12cbe9d0-ce41-4dbb-89be-67a11c855c1a",
   "metadata": {},
   "outputs": [],
   "source": [
    "# create a csv file to store the cleaned steamspy data\n",
    "steamspy_data.to_csv('Top 1000 Steam Games 2023/steamspy_data_clean.csv')"
   ]
  },
  {
   "cell_type": "markdown",
   "id": "fb76ca7e-3bd7-44bf-9075-33f2696c0f7e",
   "metadata": {},
   "source": [
    "# Steamapp Data Cleaning and Preprocessing"
   ]
  },
  {
   "cell_type": "code",
   "execution_count": 47,
   "id": "1f4ac9e0-1629-48d0-8dba-68374be2ad54",
   "metadata": {},
   "outputs": [
    {
     "data": {
      "text/html": [
       "<div>\n",
       "<style scoped>\n",
       "    .dataframe tbody tr th:only-of-type {\n",
       "        vertical-align: middle;\n",
       "    }\n",
       "\n",
       "    .dataframe tbody tr th {\n",
       "        vertical-align: top;\n",
       "    }\n",
       "\n",
       "    .dataframe thead th {\n",
       "        text-align: right;\n",
       "    }\n",
       "</style>\n",
       "<table border=\"1\" class=\"dataframe\">\n",
       "  <thead>\n",
       "    <tr style=\"text-align: right;\">\n",
       "      <th></th>\n",
       "      <th>type</th>\n",
       "      <th>name</th>\n",
       "      <th>steam_appid</th>\n",
       "      <th>required_age</th>\n",
       "      <th>is_free</th>\n",
       "      <th>controller_support</th>\n",
       "      <th>dlc</th>\n",
       "      <th>detailed_description</th>\n",
       "      <th>about_the_game</th>\n",
       "      <th>short_description</th>\n",
       "      <th>fullgame</th>\n",
       "      <th>supported_languages</th>\n",
       "      <th>header_image</th>\n",
       "      <th>website</th>\n",
       "      <th>pc_requirements</th>\n",
       "      <th>mac_requirements</th>\n",
       "      <th>linux_requirements</th>\n",
       "      <th>legal_notice</th>\n",
       "      <th>drm_notice</th>\n",
       "      <th>ext_user_account_notice</th>\n",
       "      <th>developers</th>\n",
       "      <th>publishers</th>\n",
       "      <th>demos</th>\n",
       "      <th>price_overview</th>\n",
       "      <th>packages</th>\n",
       "      <th>package_groups</th>\n",
       "      <th>platforms</th>\n",
       "      <th>metacritic</th>\n",
       "      <th>reviews</th>\n",
       "      <th>categories</th>\n",
       "      <th>genres</th>\n",
       "      <th>screenshots</th>\n",
       "      <th>movies</th>\n",
       "      <th>recommendations</th>\n",
       "      <th>achievements</th>\n",
       "      <th>release_date</th>\n",
       "      <th>support_info</th>\n",
       "      <th>background</th>\n",
       "      <th>content_descriptors</th>\n",
       "    </tr>\n",
       "  </thead>\n",
       "  <tbody>\n",
       "    <tr>\n",
       "      <th>0</th>\n",
       "      <td>game</td>\n",
       "      <td>Counter-Strike</td>\n",
       "      <td>10</td>\n",
       "      <td>0.0</td>\n",
       "      <td>False</td>\n",
       "      <td>NaN</td>\n",
       "      <td>NaN</td>\n",
       "      <td>Play the world's number 1 online action game. ...</td>\n",
       "      <td>Play the world's number 1 online action game. ...</td>\n",
       "      <td>Play the world's number 1 online action game. ...</td>\n",
       "      <td>NaN</td>\n",
       "      <td>English&lt;strong&gt;*&lt;/strong&gt;, French&lt;strong&gt;*&lt;/st...</td>\n",
       "      <td>https://cdn.akamai.steamstatic.com/steam/apps/...</td>\n",
       "      <td>NaN</td>\n",
       "      <td>{'minimum': '\\r\\n\\t\\t\\t&lt;p&gt;&lt;strong&gt;Minimum:&lt;/st...</td>\n",
       "      <td>{'minimum': 'Minimum: OS X  Snow Leopard 10.6....</td>\n",
       "      <td>{'minimum': 'Minimum: Linux Ubuntu 12.04, Dual...</td>\n",
       "      <td>NaN</td>\n",
       "      <td>NaN</td>\n",
       "      <td>NaN</td>\n",
       "      <td>['Valve']</td>\n",
       "      <td>['Valve']</td>\n",
       "      <td>NaN</td>\n",
       "      <td>{'currency': 'AUD', 'initial': 1450, 'final': ...</td>\n",
       "      <td>[574941, 7]</td>\n",
       "      <td>[{'name': 'default', 'title': 'Buy Counter-Str...</td>\n",
       "      <td>{'windows': True, 'mac': True, 'linux': True}</td>\n",
       "      <td>{'score': 88, 'url': 'https://www.metacritic.c...</td>\n",
       "      <td>NaN</td>\n",
       "      <td>[{'id': 1, 'description': 'Multi-player'}, {'i...</td>\n",
       "      <td>[{'id': '1', 'description': 'Action'}]</td>\n",
       "      <td>[{'id': 0, 'path_thumbnail': 'https://cdn.akam...</td>\n",
       "      <td>NaN</td>\n",
       "      <td>{'total': 137378}</td>\n",
       "      <td>NaN</td>\n",
       "      <td>{'coming_soon': False, 'date': '1 Nov, 2000'}</td>\n",
       "      <td>{'url': 'http://steamcommunity.com/app/10', 'e...</td>\n",
       "      <td>https://cdn.akamai.steamstatic.com/steam/apps/...</td>\n",
       "      <td>{'ids': [2, 5], 'notes': 'Includes intense vio...</td>\n",
       "    </tr>\n",
       "    <tr>\n",
       "      <th>1</th>\n",
       "      <td>game</td>\n",
       "      <td>Team Fortress Classic</td>\n",
       "      <td>20</td>\n",
       "      <td>0.0</td>\n",
       "      <td>False</td>\n",
       "      <td>NaN</td>\n",
       "      <td>NaN</td>\n",
       "      <td>One of the most popular online action games of...</td>\n",
       "      <td>One of the most popular online action games of...</td>\n",
       "      <td>One of the most popular online action games of...</td>\n",
       "      <td>NaN</td>\n",
       "      <td>English, French, German, Italian, Spanish - Sp...</td>\n",
       "      <td>https://cdn.akamai.steamstatic.com/steam/apps/...</td>\n",
       "      <td>NaN</td>\n",
       "      <td>{'minimum': '\\r\\n\\t\\t\\t&lt;p&gt;&lt;strong&gt;Minimum:&lt;/st...</td>\n",
       "      <td>{'minimum': 'Minimum: OS X  Snow Leopard 10.6....</td>\n",
       "      <td>{'minimum': 'Minimum: Linux Ubuntu 12.04, Dual...</td>\n",
       "      <td>NaN</td>\n",
       "      <td>NaN</td>\n",
       "      <td>NaN</td>\n",
       "      <td>['Valve']</td>\n",
       "      <td>['Valve']</td>\n",
       "      <td>NaN</td>\n",
       "      <td>{'currency': 'AUD', 'initial': 750, 'final': 7...</td>\n",
       "      <td>[29]</td>\n",
       "      <td>[{'name': 'default', 'title': 'Buy Team Fortre...</td>\n",
       "      <td>{'windows': True, 'mac': True, 'linux': True}</td>\n",
       "      <td>NaN</td>\n",
       "      <td>NaN</td>\n",
       "      <td>[{'id': 1, 'description': 'Multi-player'}, {'i...</td>\n",
       "      <td>[{'id': '1', 'description': 'Action'}]</td>\n",
       "      <td>[{'id': 0, 'path_thumbnail': 'https://cdn.akam...</td>\n",
       "      <td>NaN</td>\n",
       "      <td>{'total': 5474}</td>\n",
       "      <td>NaN</td>\n",
       "      <td>{'coming_soon': False, 'date': '1 Apr, 1999'}</td>\n",
       "      <td>{'url': '', 'email': ''}</td>\n",
       "      <td>https://cdn.akamai.steamstatic.com/steam/apps/...</td>\n",
       "      <td>{'ids': [2, 5], 'notes': 'Includes intense vio...</td>\n",
       "    </tr>\n",
       "    <tr>\n",
       "      <th>2</th>\n",
       "      <td>game</td>\n",
       "      <td>Day of Defeat</td>\n",
       "      <td>30</td>\n",
       "      <td>0.0</td>\n",
       "      <td>False</td>\n",
       "      <td>NaN</td>\n",
       "      <td>NaN</td>\n",
       "      <td>Enlist in an intense brand of Axis vs. Allied ...</td>\n",
       "      <td>Enlist in an intense brand of Axis vs. Allied ...</td>\n",
       "      <td>Enlist in an intense brand of Axis vs. Allied ...</td>\n",
       "      <td>NaN</td>\n",
       "      <td>English, French, German, Italian, Spanish - Spain</td>\n",
       "      <td>https://cdn.akamai.steamstatic.com/steam/apps/...</td>\n",
       "      <td>http://www.dayofdefeat.com/</td>\n",
       "      <td>{'minimum': '\\r\\n\\t\\t\\t&lt;p&gt;&lt;strong&gt;Minimum:&lt;/st...</td>\n",
       "      <td>{'minimum': 'Minimum: OS X  Snow Leopard 10.6....</td>\n",
       "      <td>{'minimum': 'Minimum: Linux Ubuntu 12.04, Dual...</td>\n",
       "      <td>NaN</td>\n",
       "      <td>NaN</td>\n",
       "      <td>NaN</td>\n",
       "      <td>['Valve']</td>\n",
       "      <td>['Valve']</td>\n",
       "      <td>NaN</td>\n",
       "      <td>{'currency': 'AUD', 'initial': 750, 'final': 7...</td>\n",
       "      <td>[30]</td>\n",
       "      <td>[{'name': 'default', 'title': 'Buy Day of Defe...</td>\n",
       "      <td>{'windows': True, 'mac': True, 'linux': True}</td>\n",
       "      <td>{'score': 79, 'url': 'https://www.metacritic.c...</td>\n",
       "      <td>NaN</td>\n",
       "      <td>[{'id': 1, 'description': 'Multi-player'}, {'i...</td>\n",
       "      <td>[{'id': '1', 'description': 'Action'}]</td>\n",
       "      <td>[{'id': 0, 'path_thumbnail': 'https://cdn.akam...</td>\n",
       "      <td>NaN</td>\n",
       "      <td>{'total': 3694}</td>\n",
       "      <td>NaN</td>\n",
       "      <td>{'coming_soon': False, 'date': '1 May, 2003'}</td>\n",
       "      <td>{'url': '', 'email': ''}</td>\n",
       "      <td>https://cdn.akamai.steamstatic.com/steam/apps/...</td>\n",
       "      <td>{'ids': [], 'notes': None}</td>\n",
       "    </tr>\n",
       "    <tr>\n",
       "      <th>3</th>\n",
       "      <td>game</td>\n",
       "      <td>Deathmatch Classic</td>\n",
       "      <td>40</td>\n",
       "      <td>0.0</td>\n",
       "      <td>False</td>\n",
       "      <td>NaN</td>\n",
       "      <td>NaN</td>\n",
       "      <td>Enjoy fast-paced multiplayer gaming with Death...</td>\n",
       "      <td>Enjoy fast-paced multiplayer gaming with Death...</td>\n",
       "      <td>Enjoy fast-paced multiplayer gaming with Death...</td>\n",
       "      <td>NaN</td>\n",
       "      <td>English, French, German, Italian, Spanish - Sp...</td>\n",
       "      <td>https://cdn.akamai.steamstatic.com/steam/apps/...</td>\n",
       "      <td>NaN</td>\n",
       "      <td>{'minimum': '\\r\\n\\t\\t\\t&lt;p&gt;&lt;strong&gt;Minimum:&lt;/st...</td>\n",
       "      <td>{'minimum': 'Minimum: OS X  Snow Leopard 10.6....</td>\n",
       "      <td>{'minimum': 'Minimum: Linux Ubuntu 12.04, Dual...</td>\n",
       "      <td>NaN</td>\n",
       "      <td>NaN</td>\n",
       "      <td>NaN</td>\n",
       "      <td>['Valve']</td>\n",
       "      <td>['Valve']</td>\n",
       "      <td>NaN</td>\n",
       "      <td>{'currency': 'AUD', 'initial': 750, 'final': 7...</td>\n",
       "      <td>[31]</td>\n",
       "      <td>[{'name': 'default', 'title': 'Buy Deathmatch ...</td>\n",
       "      <td>{'windows': True, 'mac': True, 'linux': True}</td>\n",
       "      <td>NaN</td>\n",
       "      <td>NaN</td>\n",
       "      <td>[{'id': 1, 'description': 'Multi-player'}, {'i...</td>\n",
       "      <td>[{'id': '1', 'description': 'Action'}]</td>\n",
       "      <td>[{'id': 0, 'path_thumbnail': 'https://cdn.akam...</td>\n",
       "      <td>NaN</td>\n",
       "      <td>{'total': 1924}</td>\n",
       "      <td>NaN</td>\n",
       "      <td>{'coming_soon': False, 'date': '1 Jun, 2001'}</td>\n",
       "      <td>{'url': '', 'email': ''}</td>\n",
       "      <td>https://cdn.akamai.steamstatic.com/steam/apps/...</td>\n",
       "      <td>{'ids': [], 'notes': None}</td>\n",
       "    </tr>\n",
       "    <tr>\n",
       "      <th>4</th>\n",
       "      <td>game</td>\n",
       "      <td>Half-Life: Opposing Force</td>\n",
       "      <td>50</td>\n",
       "      <td>0.0</td>\n",
       "      <td>False</td>\n",
       "      <td>NaN</td>\n",
       "      <td>NaN</td>\n",
       "      <td>Return to the Black Mesa Research Facility as ...</td>\n",
       "      <td>Return to the Black Mesa Research Facility as ...</td>\n",
       "      <td>Return to the Black Mesa Research Facility as ...</td>\n",
       "      <td>NaN</td>\n",
       "      <td>English, French, German, Korean</td>\n",
       "      <td>https://cdn.akamai.steamstatic.com/steam/apps/...</td>\n",
       "      <td>NaN</td>\n",
       "      <td>{'minimum': '\\r\\n\\t\\t\\t&lt;p&gt;&lt;strong&gt;Minimum:&lt;/st...</td>\n",
       "      <td>{'minimum': 'Minimum: OS X  Snow Leopard 10.6....</td>\n",
       "      <td>{'minimum': 'Minimum: Linux Ubuntu 12.04, Dual...</td>\n",
       "      <td>NaN</td>\n",
       "      <td>NaN</td>\n",
       "      <td>NaN</td>\n",
       "      <td>['Gearbox Software']</td>\n",
       "      <td>['Valve']</td>\n",
       "      <td>NaN</td>\n",
       "      <td>{'currency': 'AUD', 'initial': 750, 'final': 7...</td>\n",
       "      <td>[32]</td>\n",
       "      <td>[{'name': 'default', 'title': 'Buy Half-Life: ...</td>\n",
       "      <td>{'windows': True, 'mac': True, 'linux': True}</td>\n",
       "      <td>NaN</td>\n",
       "      <td>NaN</td>\n",
       "      <td>[{'id': 2, 'description': 'Single-player'}, {'...</td>\n",
       "      <td>[{'id': '1', 'description': 'Action'}]</td>\n",
       "      <td>[{'id': 0, 'path_thumbnail': 'https://cdn.akam...</td>\n",
       "      <td>NaN</td>\n",
       "      <td>{'total': 15478}</td>\n",
       "      <td>NaN</td>\n",
       "      <td>{'coming_soon': False, 'date': '1 Nov, 1999'}</td>\n",
       "      <td>{'url': 'https://help.steampowered.com', 'emai...</td>\n",
       "      <td>https://cdn.akamai.steamstatic.com/steam/apps/...</td>\n",
       "      <td>{'ids': [], 'notes': None}</td>\n",
       "    </tr>\n",
       "  </tbody>\n",
       "</table>\n",
       "</div>"
      ],
      "text/plain": [
       "   type                       name  steam_appid  required_age is_free  \\\n",
       "0  game             Counter-Strike           10           0.0   False   \n",
       "1  game      Team Fortress Classic           20           0.0   False   \n",
       "2  game              Day of Defeat           30           0.0   False   \n",
       "3  game         Deathmatch Classic           40           0.0   False   \n",
       "4  game  Half-Life: Opposing Force           50           0.0   False   \n",
       "\n",
       "  controller_support  dlc                               detailed_description  \\\n",
       "0                NaN  NaN  Play the world's number 1 online action game. ...   \n",
       "1                NaN  NaN  One of the most popular online action games of...   \n",
       "2                NaN  NaN  Enlist in an intense brand of Axis vs. Allied ...   \n",
       "3                NaN  NaN  Enjoy fast-paced multiplayer gaming with Death...   \n",
       "4                NaN  NaN  Return to the Black Mesa Research Facility as ...   \n",
       "\n",
       "                                      about_the_game  \\\n",
       "0  Play the world's number 1 online action game. ...   \n",
       "1  One of the most popular online action games of...   \n",
       "2  Enlist in an intense brand of Axis vs. Allied ...   \n",
       "3  Enjoy fast-paced multiplayer gaming with Death...   \n",
       "4  Return to the Black Mesa Research Facility as ...   \n",
       "\n",
       "                                   short_description  fullgame  \\\n",
       "0  Play the world's number 1 online action game. ...       NaN   \n",
       "1  One of the most popular online action games of...       NaN   \n",
       "2  Enlist in an intense brand of Axis vs. Allied ...       NaN   \n",
       "3  Enjoy fast-paced multiplayer gaming with Death...       NaN   \n",
       "4  Return to the Black Mesa Research Facility as ...       NaN   \n",
       "\n",
       "                                 supported_languages  \\\n",
       "0  English<strong>*</strong>, French<strong>*</st...   \n",
       "1  English, French, German, Italian, Spanish - Sp...   \n",
       "2  English, French, German, Italian, Spanish - Spain   \n",
       "3  English, French, German, Italian, Spanish - Sp...   \n",
       "4                    English, French, German, Korean   \n",
       "\n",
       "                                        header_image  \\\n",
       "0  https://cdn.akamai.steamstatic.com/steam/apps/...   \n",
       "1  https://cdn.akamai.steamstatic.com/steam/apps/...   \n",
       "2  https://cdn.akamai.steamstatic.com/steam/apps/...   \n",
       "3  https://cdn.akamai.steamstatic.com/steam/apps/...   \n",
       "4  https://cdn.akamai.steamstatic.com/steam/apps/...   \n",
       "\n",
       "                       website  \\\n",
       "0                          NaN   \n",
       "1                          NaN   \n",
       "2  http://www.dayofdefeat.com/   \n",
       "3                          NaN   \n",
       "4                          NaN   \n",
       "\n",
       "                                     pc_requirements  \\\n",
       "0  {'minimum': '\\r\\n\\t\\t\\t<p><strong>Minimum:</st...   \n",
       "1  {'minimum': '\\r\\n\\t\\t\\t<p><strong>Minimum:</st...   \n",
       "2  {'minimum': '\\r\\n\\t\\t\\t<p><strong>Minimum:</st...   \n",
       "3  {'minimum': '\\r\\n\\t\\t\\t<p><strong>Minimum:</st...   \n",
       "4  {'minimum': '\\r\\n\\t\\t\\t<p><strong>Minimum:</st...   \n",
       "\n",
       "                                    mac_requirements  \\\n",
       "0  {'minimum': 'Minimum: OS X  Snow Leopard 10.6....   \n",
       "1  {'minimum': 'Minimum: OS X  Snow Leopard 10.6....   \n",
       "2  {'minimum': 'Minimum: OS X  Snow Leopard 10.6....   \n",
       "3  {'minimum': 'Minimum: OS X  Snow Leopard 10.6....   \n",
       "4  {'minimum': 'Minimum: OS X  Snow Leopard 10.6....   \n",
       "\n",
       "                                  linux_requirements legal_notice drm_notice  \\\n",
       "0  {'minimum': 'Minimum: Linux Ubuntu 12.04, Dual...          NaN        NaN   \n",
       "1  {'minimum': 'Minimum: Linux Ubuntu 12.04, Dual...          NaN        NaN   \n",
       "2  {'minimum': 'Minimum: Linux Ubuntu 12.04, Dual...          NaN        NaN   \n",
       "3  {'minimum': 'Minimum: Linux Ubuntu 12.04, Dual...          NaN        NaN   \n",
       "4  {'minimum': 'Minimum: Linux Ubuntu 12.04, Dual...          NaN        NaN   \n",
       "\n",
       "  ext_user_account_notice            developers publishers demos  \\\n",
       "0                     NaN             ['Valve']  ['Valve']   NaN   \n",
       "1                     NaN             ['Valve']  ['Valve']   NaN   \n",
       "2                     NaN             ['Valve']  ['Valve']   NaN   \n",
       "3                     NaN             ['Valve']  ['Valve']   NaN   \n",
       "4                     NaN  ['Gearbox Software']  ['Valve']   NaN   \n",
       "\n",
       "                                      price_overview     packages  \\\n",
       "0  {'currency': 'AUD', 'initial': 1450, 'final': ...  [574941, 7]   \n",
       "1  {'currency': 'AUD', 'initial': 750, 'final': 7...         [29]   \n",
       "2  {'currency': 'AUD', 'initial': 750, 'final': 7...         [30]   \n",
       "3  {'currency': 'AUD', 'initial': 750, 'final': 7...         [31]   \n",
       "4  {'currency': 'AUD', 'initial': 750, 'final': 7...         [32]   \n",
       "\n",
       "                                      package_groups  \\\n",
       "0  [{'name': 'default', 'title': 'Buy Counter-Str...   \n",
       "1  [{'name': 'default', 'title': 'Buy Team Fortre...   \n",
       "2  [{'name': 'default', 'title': 'Buy Day of Defe...   \n",
       "3  [{'name': 'default', 'title': 'Buy Deathmatch ...   \n",
       "4  [{'name': 'default', 'title': 'Buy Half-Life: ...   \n",
       "\n",
       "                                       platforms  \\\n",
       "0  {'windows': True, 'mac': True, 'linux': True}   \n",
       "1  {'windows': True, 'mac': True, 'linux': True}   \n",
       "2  {'windows': True, 'mac': True, 'linux': True}   \n",
       "3  {'windows': True, 'mac': True, 'linux': True}   \n",
       "4  {'windows': True, 'mac': True, 'linux': True}   \n",
       "\n",
       "                                          metacritic reviews  \\\n",
       "0  {'score': 88, 'url': 'https://www.metacritic.c...     NaN   \n",
       "1                                                NaN     NaN   \n",
       "2  {'score': 79, 'url': 'https://www.metacritic.c...     NaN   \n",
       "3                                                NaN     NaN   \n",
       "4                                                NaN     NaN   \n",
       "\n",
       "                                          categories  \\\n",
       "0  [{'id': 1, 'description': 'Multi-player'}, {'i...   \n",
       "1  [{'id': 1, 'description': 'Multi-player'}, {'i...   \n",
       "2  [{'id': 1, 'description': 'Multi-player'}, {'i...   \n",
       "3  [{'id': 1, 'description': 'Multi-player'}, {'i...   \n",
       "4  [{'id': 2, 'description': 'Single-player'}, {'...   \n",
       "\n",
       "                                   genres  \\\n",
       "0  [{'id': '1', 'description': 'Action'}]   \n",
       "1  [{'id': '1', 'description': 'Action'}]   \n",
       "2  [{'id': '1', 'description': 'Action'}]   \n",
       "3  [{'id': '1', 'description': 'Action'}]   \n",
       "4  [{'id': '1', 'description': 'Action'}]   \n",
       "\n",
       "                                         screenshots movies  \\\n",
       "0  [{'id': 0, 'path_thumbnail': 'https://cdn.akam...    NaN   \n",
       "1  [{'id': 0, 'path_thumbnail': 'https://cdn.akam...    NaN   \n",
       "2  [{'id': 0, 'path_thumbnail': 'https://cdn.akam...    NaN   \n",
       "3  [{'id': 0, 'path_thumbnail': 'https://cdn.akam...    NaN   \n",
       "4  [{'id': 0, 'path_thumbnail': 'https://cdn.akam...    NaN   \n",
       "\n",
       "     recommendations achievements  \\\n",
       "0  {'total': 137378}          NaN   \n",
       "1    {'total': 5474}          NaN   \n",
       "2    {'total': 3694}          NaN   \n",
       "3    {'total': 1924}          NaN   \n",
       "4   {'total': 15478}          NaN   \n",
       "\n",
       "                                    release_date  \\\n",
       "0  {'coming_soon': False, 'date': '1 Nov, 2000'}   \n",
       "1  {'coming_soon': False, 'date': '1 Apr, 1999'}   \n",
       "2  {'coming_soon': False, 'date': '1 May, 2003'}   \n",
       "3  {'coming_soon': False, 'date': '1 Jun, 2001'}   \n",
       "4  {'coming_soon': False, 'date': '1 Nov, 1999'}   \n",
       "\n",
       "                                        support_info  \\\n",
       "0  {'url': 'http://steamcommunity.com/app/10', 'e...   \n",
       "1                           {'url': '', 'email': ''}   \n",
       "2                           {'url': '', 'email': ''}   \n",
       "3                           {'url': '', 'email': ''}   \n",
       "4  {'url': 'https://help.steampowered.com', 'emai...   \n",
       "\n",
       "                                          background  \\\n",
       "0  https://cdn.akamai.steamstatic.com/steam/apps/...   \n",
       "1  https://cdn.akamai.steamstatic.com/steam/apps/...   \n",
       "2  https://cdn.akamai.steamstatic.com/steam/apps/...   \n",
       "3  https://cdn.akamai.steamstatic.com/steam/apps/...   \n",
       "4  https://cdn.akamai.steamstatic.com/steam/apps/...   \n",
       "\n",
       "                                 content_descriptors  \n",
       "0  {'ids': [2, 5], 'notes': 'Includes intense vio...  \n",
       "1  {'ids': [2, 5], 'notes': 'Includes intense vio...  \n",
       "2                         {'ids': [], 'notes': None}  \n",
       "3                         {'ids': [], 'notes': None}  \n",
       "4                         {'ids': [], 'notes': None}  "
      ]
     },
     "execution_count": 47,
     "metadata": {},
     "output_type": "execute_result"
    }
   ],
   "source": [
    "steam_app_data.head()"
   ]
  },
  {
   "cell_type": "code",
   "execution_count": 48,
   "id": "ea4cf2e4-a9b3-422a-a691-c37666d7494c",
   "metadata": {},
   "outputs": [
    {
     "data": {
      "text/plain": [
       "type                         6\n",
       "name                         0\n",
       "steam_appid                  0\n",
       "required_age                 6\n",
       "is_free                      6\n",
       "controller_support         592\n",
       "dlc                        442\n",
       "detailed_description         6\n",
       "about_the_game               6\n",
       "short_description            6\n",
       "fullgame                   999\n",
       "supported_languages          6\n",
       "header_image                 6\n",
       "website                    126\n",
       "pc_requirements              6\n",
       "mac_requirements             6\n",
       "linux_requirements           6\n",
       "legal_notice               275\n",
       "drm_notice                 928\n",
       "ext_user_account_notice    888\n",
       "developers                   7\n",
       "publishers                   6\n",
       "demos                      891\n",
       "price_overview             279\n",
       "packages                   206\n",
       "package_groups               6\n",
       "platforms                    6\n",
       "metacritic                 414\n",
       "reviews                    627\n",
       "categories                   8\n",
       "genres                       8\n",
       "screenshots                  6\n",
       "movies                     138\n",
       "recommendations             82\n",
       "achievements               260\n",
       "release_date                 6\n",
       "support_info                 6\n",
       "background                   6\n",
       "content_descriptors          6\n",
       "dtype: int64"
      ]
     },
     "execution_count": 48,
     "metadata": {},
     "output_type": "execute_result"
    }
   ],
   "source": [
    "steam_app_data.isnull().sum()"
   ]
  },
  {
   "cell_type": "code",
   "execution_count": 49,
   "id": "7542652c-da4d-465b-9e39-765880097307",
   "metadata": {},
   "outputs": [
    {
     "data": {
      "text/plain": [
       "type                         0.600601\n",
       "name                         0.000000\n",
       "steam_appid                  0.000000\n",
       "required_age                 0.600601\n",
       "is_free                      0.600601\n",
       "controller_support          59.259259\n",
       "dlc                         44.244244\n",
       "detailed_description         0.600601\n",
       "about_the_game               0.600601\n",
       "short_description            0.600601\n",
       "fullgame                   100.000000\n",
       "supported_languages          0.600601\n",
       "header_image                 0.600601\n",
       "website                     12.612613\n",
       "pc_requirements              0.600601\n",
       "mac_requirements             0.600601\n",
       "linux_requirements           0.600601\n",
       "legal_notice                27.527528\n",
       "drm_notice                  92.892893\n",
       "ext_user_account_notice     88.888889\n",
       "developers                   0.700701\n",
       "publishers                   0.600601\n",
       "demos                       89.189189\n",
       "price_overview              27.927928\n",
       "packages                    20.620621\n",
       "package_groups               0.600601\n",
       "platforms                    0.600601\n",
       "metacritic                  41.441441\n",
       "reviews                     62.762763\n",
       "categories                   0.800801\n",
       "genres                       0.800801\n",
       "screenshots                  0.600601\n",
       "movies                      13.813814\n",
       "recommendations              8.208208\n",
       "achievements                26.026026\n",
       "release_date                 0.600601\n",
       "support_info                 0.600601\n",
       "background                   0.600601\n",
       "content_descriptors          0.600601\n",
       "dtype: float64"
      ]
     },
     "execution_count": 49,
     "metadata": {},
     "output_type": "execute_result"
    }
   ],
   "source": [
    "# calculate the percentage of null values in each column\n",
    "steam_app_data_null = steam_app_data.isnull().sum() / steam_app_data.shape[0] * 100\n",
    "steam_app_data_null"
   ]
  },
  {
   "cell_type": "code",
   "execution_count": 50,
   "id": "545a9511-46c8-4842-b333-3b884d8a9a06",
   "metadata": {},
   "outputs": [
    {
     "data": {
      "text/plain": [
       "controller_support          59.259259\n",
       "fullgame                   100.000000\n",
       "drm_notice                  92.892893\n",
       "ext_user_account_notice     88.888889\n",
       "demos                       89.189189\n",
       "reviews                     62.762763\n",
       "dtype: float64"
      ]
     },
     "execution_count": 50,
     "metadata": {},
     "output_type": "execute_result"
    }
   ],
   "source": [
    "# check if the null percentage of column is greater than 50\n",
    "drop_steam_app_data_null = steam_app_data_null[steam_app_data_null > 50]\n",
    "drop_steam_app_data_null"
   ]
  },
  {
   "cell_type": "code",
   "execution_count": 51,
   "id": "9ad79a0d-22ef-49cc-bee2-c196665ff122",
   "metadata": {},
   "outputs": [],
   "source": [
    "# drop the colun with greater null values than 50 percent\n",
    "steam_app_data = steam_app_data.drop(columns=drop_steam_app_data_null.index)"
   ]
  },
  {
   "cell_type": "code",
   "execution_count": 52,
   "id": "495d2364-3821-4b61-a593-f85bfb1b6c14",
   "metadata": {},
   "outputs": [
    {
     "name": "stdout",
     "output_type": "stream",
     "text": [
      "<class 'pandas.core.frame.DataFrame'>\n",
      "Index: 999 entries, 0 to 999\n",
      "Data columns (total 33 columns):\n",
      " #   Column                Non-Null Count  Dtype  \n",
      "---  ------                --------------  -----  \n",
      " 0   type                  993 non-null    object \n",
      " 1   name                  999 non-null    object \n",
      " 2   steam_appid           999 non-null    int64  \n",
      " 3   required_age          993 non-null    float64\n",
      " 4   is_free               993 non-null    object \n",
      " 5   dlc                   557 non-null    object \n",
      " 6   detailed_description  993 non-null    object \n",
      " 7   about_the_game        993 non-null    object \n",
      " 8   short_description     993 non-null    object \n",
      " 9   supported_languages   993 non-null    object \n",
      " 10  header_image          993 non-null    object \n",
      " 11  website               873 non-null    object \n",
      " 12  pc_requirements       993 non-null    object \n",
      " 13  mac_requirements      993 non-null    object \n",
      " 14  linux_requirements    993 non-null    object \n",
      " 15  legal_notice          724 non-null    object \n",
      " 16  developers            992 non-null    object \n",
      " 17  publishers            993 non-null    object \n",
      " 18  price_overview        720 non-null    object \n",
      " 19  packages              793 non-null    object \n",
      " 20  package_groups        993 non-null    object \n",
      " 21  platforms             993 non-null    object \n",
      " 22  metacritic            585 non-null    object \n",
      " 23  categories            991 non-null    object \n",
      " 24  genres                991 non-null    object \n",
      " 25  screenshots           993 non-null    object \n",
      " 26  movies                861 non-null    object \n",
      " 27  recommendations       917 non-null    object \n",
      " 28  achievements          739 non-null    object \n",
      " 29  release_date          993 non-null    object \n",
      " 30  support_info          993 non-null    object \n",
      " 31  background            993 non-null    object \n",
      " 32  content_descriptors   993 non-null    object \n",
      "dtypes: float64(1), int64(1), object(31)\n",
      "memory usage: 265.4+ KB\n"
     ]
    }
   ],
   "source": [
    "steam_app_data.info()"
   ]
  },
  {
   "cell_type": "code",
   "execution_count": 53,
   "id": "fc685951-a6ad-483c-a628-0fb58b36b727",
   "metadata": {},
   "outputs": [
    {
     "data": {
      "text/plain": [
       "0    {'minimum': '\\r\\n\\t\\t\\t<p><strong>Minimum:</st...\n",
       "1    {'minimum': '\\r\\n\\t\\t\\t<p><strong>Minimum:</st...\n",
       "2    {'minimum': '\\r\\n\\t\\t\\t<p><strong>Minimum:</st...\n",
       "3    {'minimum': '\\r\\n\\t\\t\\t<p><strong>Minimum:</st...\n",
       "4    {'minimum': '\\r\\n\\t\\t\\t<p><strong>Minimum:</st...\n",
       "Name: pc_requirements, dtype: object"
      ]
     },
     "execution_count": 53,
     "metadata": {},
     "output_type": "execute_result"
    }
   ],
   "source": [
    "steam_app_data['pc_requirements'].head()"
   ]
  },
  {
   "cell_type": "code",
   "execution_count": 54,
   "id": "6ff00541-315e-41a1-8eb8-270606f404ce",
   "metadata": {},
   "outputs": [
    {
     "data": {
      "text/plain": [
       "\"{'minimum': '\\\\r\\\\n\\\\t\\\\t\\\\t<p><strong>Minimum:</strong> 500 mhz processor, 96mb ram, 16mb video card, Windows XP, Mouse, Keyboard, Internet Connection<br /></p>\\\\r\\\\n\\\\t\\\\t\\\\t<p><strong>Recommended:</strong> 800 mhz processor, 128mb ram, 32mb+ video card, Windows XP, Mouse, Keyboard, Internet Connection<br /></p>\\\\r\\\\n\\\\t\\\\t\\\\t'}\""
      ]
     },
     "execution_count": 54,
     "metadata": {},
     "output_type": "execute_result"
    }
   ],
   "source": [
    "steam_app_data['pc_requirements'][0]"
   ]
  },
  {
   "cell_type": "code",
   "execution_count": 55,
   "id": "17cbd425-c7e8-4369-8e90-d3b65b297d03",
   "metadata": {},
   "outputs": [
    {
     "data": {
      "text/plain": [
       "0    English<strong>*</strong>, French<strong>*</st...\n",
       "1    English, French, German, Italian, Spanish - Sp...\n",
       "2    English, French, German, Italian, Spanish - Spain\n",
       "3    English, French, German, Italian, Spanish - Sp...\n",
       "4                      English, French, German, Korean\n",
       "Name: supported_languages, dtype: object"
      ]
     },
     "execution_count": 55,
     "metadata": {},
     "output_type": "execute_result"
    }
   ],
   "source": [
    "steam_app_data['supported_languages'].head()"
   ]
  },
  {
   "cell_type": "code",
   "execution_count": 56,
   "id": "5bce6863-4bbe-4f5d-8ce7-67ac00fa81e6",
   "metadata": {},
   "outputs": [
    {
     "data": {
      "text/plain": [
       "'English<strong>*</strong>, French<strong>*</strong>, German<strong>*</strong>, Italian<strong>*</strong>, Spanish - Spain<strong>*</strong>, Simplified Chinese<strong>*</strong>, Traditional Chinese<strong>*</strong>, Korean<strong>*</strong><br><strong>*</strong>languages with full audio support'"
      ]
     },
     "execution_count": 56,
     "metadata": {},
     "output_type": "execute_result"
    }
   ],
   "source": [
    "steam_app_data['supported_languages'][0]"
   ]
  },
  {
   "cell_type": "code",
   "execution_count": 57,
   "id": "1b71b089-79ef-49d8-b25d-a81a437648ad",
   "metadata": {},
   "outputs": [
    {
     "data": {
      "text/plain": [
       "0    NaN\n",
       "1    NaN\n",
       "2    NaN\n",
       "3    NaN\n",
       "4    NaN\n",
       "5    NaN\n",
       "6    NaN\n",
       "7    NaN\n",
       "8    NaN\n",
       "9    NaN\n",
       "Name: legal_notice, dtype: object"
      ]
     },
     "execution_count": 57,
     "metadata": {},
     "output_type": "execute_result"
    }
   ],
   "source": [
    "steam_app_data['legal_notice'].head(10)"
   ]
  },
  {
   "cell_type": "code",
   "execution_count": 58,
   "id": "8e30d3c3-37cd-4ef5-bb8f-2d1794beb369",
   "metadata": {},
   "outputs": [
    {
     "data": {
      "text/plain": [
       "\"The Witcher © 2008 CD PROJEKT S.A. All rights reserved. The Witcher and The Witcher logo are trademarks of CD PROJEKT Capital Group. All rights reserved. BioWare, the BioWare Aurora Engine and the BioWare logo are trademarks of BioWare Corp. All rights reserved. NVIDIA, the NVIDIA logo, GeForce and 'The Way It's Meant to be Played' logo are registered trademarks and/or trademarks of NVIDIA Corporation in the United States and other countries. All rights reserved. The Witcher game is set in the universe created by Andrzej Sapkowski in his series of books. All other copyrights and trademarks are the property of their respective owners.\""
      ]
     },
     "execution_count": 58,
     "metadata": {},
     "output_type": "execute_result"
    }
   ],
   "source": [
    "steam_app_data['legal_notice'][100]"
   ]
  },
  {
   "cell_type": "code",
   "execution_count": 59,
   "id": "fde9ec81-e8e3-4c88-8d0e-373e34e1bd1a",
   "metadata": {},
   "outputs": [
    {
     "data": {
      "text/plain": [
       "0    {'ids': [2, 5], 'notes': 'Includes intense vio...\n",
       "1    {'ids': [2, 5], 'notes': 'Includes intense vio...\n",
       "2                           {'ids': [], 'notes': None}\n",
       "3                           {'ids': [], 'notes': None}\n",
       "4                           {'ids': [], 'notes': None}\n",
       "Name: content_descriptors, dtype: object"
      ]
     },
     "execution_count": 59,
     "metadata": {},
     "output_type": "execute_result"
    }
   ],
   "source": [
    "steam_app_data['content_descriptors'].head()"
   ]
  },
  {
   "cell_type": "code",
   "execution_count": 60,
   "id": "4618f1b7-3c5b-4ff5-a577-9fe5842626e2",
   "metadata": {},
   "outputs": [
    {
     "data": {
      "text/plain": [
       "3                            {'ids': [], 'notes': None}\n",
       "4                            {'ids': [], 'notes': None}\n",
       "5                            {'ids': [], 'notes': None}\n",
       "6                            {'ids': [], 'notes': None}\n",
       "7                            {'ids': [], 'notes': None}\n",
       "8                            {'ids': [], 'notes': None}\n",
       "9                            {'ids': [], 'notes': None}\n",
       "10    {'ids': [2, 5], 'notes': 'Includes intense vio...\n",
       "11                           {'ids': [], 'notes': None}\n",
       "12                           {'ids': [], 'notes': None}\n",
       "13                           {'ids': [], 'notes': None}\n",
       "14                           {'ids': [], 'notes': None}\n",
       "15                           {'ids': [], 'notes': None}\n",
       "16                           {'ids': [], 'notes': None}\n",
       "17                           {'ids': [], 'notes': None}\n",
       "18                           {'ids': [], 'notes': None}\n",
       "19    {'ids': [2, 5], 'notes': 'Includes cartoon vio...\n",
       "20    {'ids': [2, 5], 'notes': 'Includes realistic v...\n",
       "21    {'ids': [2, 5], 'notes': 'Left 4 Dead 2 featur...\n",
       "22                           {'ids': [], 'notes': None}\n",
       "23                           {'ids': [], 'notes': None}\n",
       "24                           {'ids': [], 'notes': None}\n",
       "25    {'ids': [2, 5], 'notes': 'Includes intense vio...\n",
       "26                           {'ids': [], 'notes': None}\n",
       "27                           {'ids': [], 'notes': None}\n",
       "28                           {'ids': [], 'notes': None}\n",
       "29                           {'ids': [], 'notes': None}\n",
       "30                           {'ids': [], 'notes': None}\n",
       "31                           {'ids': [], 'notes': None}\n",
       "32                           {'ids': [], 'notes': None}\n",
       "33                           {'ids': [], 'notes': None}\n",
       "34                           {'ids': [], 'notes': None}\n",
       "35                           {'ids': [], 'notes': None}\n",
       "36                           {'ids': [], 'notes': None}\n",
       "37                           {'ids': [], 'notes': None}\n",
       "38                           {'ids': [], 'notes': None}\n",
       "39                           {'ids': [], 'notes': None}\n",
       "40                           {'ids': [], 'notes': None}\n",
       "41                           {'ids': [], 'notes': None}\n",
       "42                           {'ids': [], 'notes': None}\n",
       "43                           {'ids': [], 'notes': None}\n",
       "44                           {'ids': [], 'notes': None}\n",
       "45                           {'ids': [], 'notes': None}\n",
       "46                           {'ids': [], 'notes': None}\n",
       "47                           {'ids': [], 'notes': None}\n",
       "48                           {'ids': [], 'notes': None}\n",
       "49                           {'ids': [], 'notes': None}\n",
       "Name: content_descriptors, dtype: object"
      ]
     },
     "execution_count": 60,
     "metadata": {},
     "output_type": "execute_result"
    }
   ],
   "source": [
    "steam_app_data['content_descriptors'][3:50]"
   ]
  },
  {
   "cell_type": "code",
   "execution_count": 61,
   "id": "269c3e72-a1ea-43ca-a534-91468c111e87",
   "metadata": {},
   "outputs": [
    {
     "data": {
      "text/plain": [
       "content_descriptors\n",
       "{'ids': [], 'notes': None}                                                                                                                                                                  799\n",
       "{'ids': [2, 5], 'notes': None}                                                                                                                                                               50\n",
       "{'ids': [5], 'notes': None}                                                                                                                                                                  18\n",
       "{'ids': [2, 5], 'notes': 'This Game may contain content not appropriate for all ages, or may not be appropriate for viewing at work: Frequent Violence or Gore, General Mature Content'}      6\n",
       "{'ids': [1, 5], 'notes': None}                                                                                                                                                                6\n",
       "Name: count, dtype: int64"
      ]
     },
     "execution_count": 61,
     "metadata": {},
     "output_type": "execute_result"
    }
   ],
   "source": [
    "steam_app_data['content_descriptors'].value_counts().head()"
   ]
  },
  {
   "cell_type": "code",
   "execution_count": 62,
   "id": "5548da58-5c36-49e5-b836-4774d6b1f715",
   "metadata": {},
   "outputs": [
    {
     "data": {
      "text/plain": [
       "0                                                   NaN\n",
       "1                                                   NaN\n",
       "2                                                   NaN\n",
       "3                                                   NaN\n",
       "4                                                   NaN\n",
       "5                                                   NaN\n",
       "6                                                   NaN\n",
       "7                                                   NaN\n",
       "8                                                   NaN\n",
       "9     {'total': 33, 'highlighted': [{'name': 'Defian...\n",
       "10    {'total': 147, 'highlighted': [{'name': 'Someo...\n",
       "11                                                  NaN\n",
       "12    {'total': 54, 'highlighted': [{'name': 'Double...\n",
       "13                                                  NaN\n",
       "14                                                  NaN\n",
       "15                                                  NaN\n",
       "16    {'total': 13, 'highlighted': [{'name': 'Watch ...\n",
       "17    {'total': 15, 'highlighted': [{'name': 'Lab Ra...\n",
       "18    {'total': 23, 'highlighted': [{'name': 'Acid R...\n",
       "19    {'total': 520, 'highlighted': [{'name': 'Head ...\n",
       "Name: achievements, dtype: object"
      ]
     },
     "execution_count": 62,
     "metadata": {},
     "output_type": "execute_result"
    }
   ],
   "source": [
    "steam_app_data['achievements'].head(20)"
   ]
  },
  {
   "cell_type": "code",
   "execution_count": 63,
   "id": "37458071-8a36-41ed-8019-1a40df06e37d",
   "metadata": {},
   "outputs": [
    {
     "data": {
      "text/plain": [
       "'{\\'total\\': 33, \\'highlighted\\': [{\\'name\\': \\'Defiant\\', \\'path\\': \\'https://cdn.akamai.steamstatic.com/steamcommunity/public/images/apps/220/hl2_hit_cancop_withcan.jpg\\'}, {\\'name\\': \\'Submissive\\', \\'path\\': \\'https://cdn.akamai.steamstatic.com/steamcommunity/public/images/apps/220/hl2_put_canintrash.jpg\\'}, {\\'name\\': \\'Malcontent\\', \\'path\\': \\'https://cdn.akamai.steamstatic.com/steamcommunity/public/images/apps/220/hl2_escape_apartmentraid.jpg\\'}, {\\'name\\': \\'What cat?\\', \\'path\\': \\'https://cdn.akamai.steamstatic.com/steamcommunity/public/images/apps/220/hl2_break_miniteleporter.jpg\\'}, {\\'name\\': \\'Trusty Hardware\\', \\'path\\': \\'https://cdn.akamai.steamstatic.com/steamcommunity/public/images/apps/220/hl2_get_crowbar.jpg\\'}, {\\'name\\': \\'Barnacle Bowling\\', \\'path\\': \\'https://cdn.akamai.steamstatic.com/steamcommunity/public/images/apps/220/hl2_kill_barnacleswithbarrel.jpg\\'}, {\\'name\\': \"Anchor\\'s Aweigh!\", \\'path\\': \\'https://cdn.akamai.steamstatic.com/steamcommunity/public/images/apps/220/hl2_get_airboat.jpg\\'}, {\\'name\\': \\'Heavy Weapons\\', \\'path\\': \\'https://cdn.akamai.steamstatic.com/steamcommunity/public/images/apps/220/hl2_get_airboatgun.jpg\\'}, {\\'name\\': \\'Vorticough\\', \\'path\\': \\'https://cdn.akamai.steamstatic.com/steamcommunity/public/images/apps/220/hl2_find_vortigauntcave.jpg\\'}, {\\'name\\': \\'Revenge!\\', \\'path\\': \\'https://cdn.akamai.steamstatic.com/steamcommunity/public/images/apps/220/hl2_kill_chopper.jpg\\'}]}'"
      ]
     },
     "execution_count": 63,
     "metadata": {},
     "output_type": "execute_result"
    }
   ],
   "source": [
    "steam_app_data['achievements'][9]"
   ]
  },
  {
   "cell_type": "code",
   "execution_count": 64,
   "id": "7236a4a4-d23d-4f18-9ce4-d1acc844354f",
   "metadata": {},
   "outputs": [
    {
     "data": {
      "text/plain": [
       "0    [{'id': '1', 'description': 'Action'}]\n",
       "1    [{'id': '1', 'description': 'Action'}]\n",
       "2    [{'id': '1', 'description': 'Action'}]\n",
       "3    [{'id': '1', 'description': 'Action'}]\n",
       "4    [{'id': '1', 'description': 'Action'}]\n",
       "Name: genres, dtype: object"
      ]
     },
     "execution_count": 64,
     "metadata": {},
     "output_type": "execute_result"
    }
   ],
   "source": [
    "steam_app_data['genres'].head()"
   ]
  },
  {
   "cell_type": "code",
   "execution_count": 65,
   "id": "46089bda-c051-40e8-9f7d-a1ac3ac01f8f",
   "metadata": {},
   "outputs": [
    {
     "data": {
      "text/plain": [
       "0    [{'id': 1, 'description': 'Multi-player'}, {'i...\n",
       "1    [{'id': 1, 'description': 'Multi-player'}, {'i...\n",
       "2    [{'id': 1, 'description': 'Multi-player'}, {'i...\n",
       "3    [{'id': 1, 'description': 'Multi-player'}, {'i...\n",
       "4    [{'id': 2, 'description': 'Single-player'}, {'...\n",
       "Name: categories, dtype: object"
      ]
     },
     "execution_count": 65,
     "metadata": {},
     "output_type": "execute_result"
    }
   ],
   "source": [
    "steam_app_data['categories'].head()"
   ]
  },
  {
   "cell_type": "code",
   "execution_count": 66,
   "id": "b6b1211d-c022-441c-a7c0-602e679f71e4",
   "metadata": {},
   "outputs": [
    {
     "data": {
      "text/plain": [
       "\"[{'id': 1, 'description': 'Multi-player'}, {'id': 49, 'description': 'PvP'}, {'id': 36, 'description': 'Online PvP'}, {'id': 37, 'description': 'Shared/Split Screen PvP'}, {'id': 8, 'description': 'Valve Anti-Cheat enabled'}]\""
      ]
     },
     "execution_count": 66,
     "metadata": {},
     "output_type": "execute_result"
    }
   ],
   "source": [
    "steam_app_data['categories'][0]"
   ]
  },
  {
   "cell_type": "code",
   "execution_count": 67,
   "id": "57f01c86-24c9-4934-a6d9-c2e6da627d71",
   "metadata": {},
   "outputs": [
    {
     "data": {
      "text/plain": [
       "type\n",
       "game    993\n",
       "Name: count, dtype: int64"
      ]
     },
     "execution_count": 67,
     "metadata": {},
     "output_type": "execute_result"
    }
   ],
   "source": [
    "steam_app_data['type'].value_counts()"
   ]
  },
  {
   "cell_type": "code",
   "execution_count": 68,
   "id": "1830b352-6a58-49b2-a2b7-71e586f3a166",
   "metadata": {},
   "outputs": [
    {
     "data": {
      "text/plain": [
       "\"[{'id': 904, 'name': 'Half-Life 2 Trailer', 'thumbnail': 'https://cdn.akamai.steamstatic.com/steam/apps/904/movie.jpg?t=1569623096', 'webm': {'480': 'http://cdn.akamai.steamstatic.com/steam/apps/904/movie480.webm?t=1569623096', 'max': 'http://cdn.akamai.steamstatic.com/steam/apps/904/movie_max.webm?t=1569623096'}, 'mp4': {'480': 'http://cdn.akamai.steamstatic.com/steam/apps/904/movie480.mp4?t=1569623096', 'max': 'http://cdn.akamai.steamstatic.com/steam/apps/904/movie_max.mp4?t=1569623096'}, 'highlight': True}, {'id': 5724, 'name': 'Free Yourself', 'thumbnail': 'https://cdn.akamai.steamstatic.com/steam/apps/5724/movie.293x165.jpg?t=1569623106', 'webm': {'480': 'http://cdn.akamai.steamstatic.com/steam/apps/5724/movie480.webm?t=1569623106', 'max': 'http://cdn.akamai.steamstatic.com/steam/apps/5724/movie_max.webm?t=1569623106'}, 'mp4': {'480': 'http://cdn.akamai.steamstatic.com/steam/apps/5724/movie480.mp4?t=1569623106', 'max': 'http://cdn.akamai.steamstatic.com/steam/apps/5724/movie_max.mp4?t=1569623106'}, 'highlight': False}]\""
      ]
     },
     "execution_count": 68,
     "metadata": {},
     "output_type": "execute_result"
    }
   ],
   "source": [
    "steam_app_data['movies'][9]"
   ]
  },
  {
   "cell_type": "code",
   "execution_count": 69,
   "id": "15690285-1d3a-41eb-80fd-2380f07e3e57",
   "metadata": {},
   "outputs": [
    {
     "data": {
      "text/plain": [
       "0               [574941, 7]\n",
       "1                      [29]\n",
       "2                      [30]\n",
       "3                      [31]\n",
       "4                      [32]\n",
       "5                      [33]\n",
       "6              [34, 292347]\n",
       "7                       [7]\n",
       "8                      [35]\n",
       "9         [36, 289444, 469]\n",
       "10                     [37]\n",
       "11                     [38]\n",
       "12                     [25]\n",
       "13         [39, 404138, 79]\n",
       "14                      NaN\n",
       "15                     [38]\n",
       "16                [79, 469]\n",
       "17       [515, 204527, 469]\n",
       "18               [516, 469]\n",
       "19    [197845, 330198, 469]\n",
       "Name: packages, dtype: object"
      ]
     },
     "execution_count": 69,
     "metadata": {},
     "output_type": "execute_result"
    }
   ],
   "source": [
    "steam_app_data['packages'].head(20)"
   ]
  },
  {
   "cell_type": "code",
   "execution_count": 70,
   "id": "3ff2c9e0-777b-4ac8-b97f-cb588077fa8a",
   "metadata": {},
   "outputs": [
    {
     "data": {
      "text/plain": [
       "0    [{'name': 'default', 'title': 'Buy Counter-Str...\n",
       "1    [{'name': 'default', 'title': 'Buy Team Fortre...\n",
       "2    [{'name': 'default', 'title': 'Buy Day of Defe...\n",
       "3    [{'name': 'default', 'title': 'Buy Deathmatch ...\n",
       "4    [{'name': 'default', 'title': 'Buy Half-Life: ...\n",
       "Name: package_groups, dtype: object"
      ]
     },
     "execution_count": 70,
     "metadata": {},
     "output_type": "execute_result"
    }
   ],
   "source": [
    "steam_app_data['package_groups'].head()"
   ]
  },
  {
   "cell_type": "code",
   "execution_count": 71,
   "id": "7c53d903-900c-451d-a8bd-fd77c100a178",
   "metadata": {},
   "outputs": [
    {
     "data": {
      "text/plain": [
       "\"[{'name': 'default', 'title': 'Buy Counter-Strike', 'description': '', 'selection_text': 'Select a purchase option', 'save_text': '', 'display_type': 0, 'is_recurring_subscription': 'false', 'subs': [{'packageid': 7, 'percent_savings_text': ' ', 'percent_savings': 0, 'option_text': 'Counter-Strike: Condition Zero - A$ 14.50', 'option_description': '', 'can_get_free_license': '0', 'is_free_license': False, 'price_in_cents_with_discount': 1450}, {'packageid': 574941, 'percent_savings_text': ' ', 'percent_savings': 0, 'option_text': 'Counter-Strike - Commercial License - A$ 14.50', 'option_description': '', 'can_get_free_license': '0', 'is_free_license': False, 'price_in_cents_with_discount': 1450}]}]\""
      ]
     },
     "execution_count": 71,
     "metadata": {},
     "output_type": "execute_result"
    }
   ],
   "source": [
    "steam_app_data['package_groups'][0]"
   ]
  },
  {
   "cell_type": "code",
   "execution_count": 72,
   "id": "8f7d8158-277a-427c-91ca-352aa13602c8",
   "metadata": {},
   "outputs": [
    {
     "data": {
      "text/plain": [
       "0                   NaN\n",
       "1                   NaN\n",
       "2                   NaN\n",
       "3                   NaN\n",
       "4                   NaN\n",
       "5                   NaN\n",
       "6              [323130]\n",
       "7                   NaN\n",
       "8                   NaN\n",
       "9              [323140]\n",
       "10                  NaN\n",
       "11                  NaN\n",
       "12                  NaN\n",
       "13                  NaN\n",
       "14                  NaN\n",
       "15                  NaN\n",
       "16             [323150]\n",
       "17    [323170, 2012840]\n",
       "18             [323160]\n",
       "19             [629330]\n",
       "Name: dlc, dtype: object"
      ]
     },
     "execution_count": 72,
     "metadata": {},
     "output_type": "execute_result"
    }
   ],
   "source": [
    "steam_app_data['dlc'].head(20)"
   ]
  },
  {
   "cell_type": "markdown",
   "id": "0edf49ae-8944-4675-8402-0566be948be9",
   "metadata": {},
   "source": [
    "* ## Drop purely descriptive column such as \"detailed_description, about_the_game, legal_notice, etc\" because they are useless for analysis and visualization\n",
    "\n",
    "* ## Drop useless column such as header_image, website, support info\n",
    "\n",
    "* ## Drop redundant columns such as supported languages as they are already present in steamspy data"
   ]
  },
  {
   "cell_type": "code",
   "execution_count": 73,
   "id": "c2e6b084-9039-4e1f-ba01-15ee4ffb8238",
   "metadata": {},
   "outputs": [],
   "source": [
    "columns_to_drop = ['detailed_description', 'about_the_game', 'short_description', \n",
    "                   'header_image', 'website', 'legal_notice', 'support_info', \n",
    "                   'background', 'screenshots', 'pc_requirements', 'mac_requirements', \n",
    "                   'linux_requirements', 'supported_languages', 'content_descriptors', \n",
    "                   'achievements', 'genres', 'categories', 'movies', 'type', 'packages', \n",
    "                   'package_groups', 'dlc']\n",
    "\n",
    "steam_app_data = steam_app_data.drop(columns=columns_to_drop)"
   ]
  },
  {
   "cell_type": "code",
   "execution_count": 74,
   "id": "a4f49760-6ba1-4140-afed-07c96f8a9b60",
   "metadata": {},
   "outputs": [
    {
     "name": "stdout",
     "output_type": "stream",
     "text": [
      "<class 'pandas.core.frame.DataFrame'>\n",
      "Index: 999 entries, 0 to 999\n",
      "Data columns (total 11 columns):\n",
      " #   Column           Non-Null Count  Dtype  \n",
      "---  ------           --------------  -----  \n",
      " 0   name             999 non-null    object \n",
      " 1   steam_appid      999 non-null    int64  \n",
      " 2   required_age     993 non-null    float64\n",
      " 3   is_free          993 non-null    object \n",
      " 4   developers       992 non-null    object \n",
      " 5   publishers       993 non-null    object \n",
      " 6   price_overview   720 non-null    object \n",
      " 7   platforms        993 non-null    object \n",
      " 8   metacritic       585 non-null    object \n",
      " 9   recommendations  917 non-null    object \n",
      " 10  release_date     993 non-null    object \n",
      "dtypes: float64(1), int64(1), object(9)\n",
      "memory usage: 125.9+ KB\n"
     ]
    }
   ],
   "source": [
    "steam_app_data.info()"
   ]
  },
  {
   "cell_type": "code",
   "execution_count": 75,
   "id": "f938eb54-fd9f-455c-a13f-65e12bceef95",
   "metadata": {},
   "outputs": [
    {
     "data": {
      "text/html": [
       "<div>\n",
       "<style scoped>\n",
       "    .dataframe tbody tr th:only-of-type {\n",
       "        vertical-align: middle;\n",
       "    }\n",
       "\n",
       "    .dataframe tbody tr th {\n",
       "        vertical-align: top;\n",
       "    }\n",
       "\n",
       "    .dataframe thead th {\n",
       "        text-align: right;\n",
       "    }\n",
       "</style>\n",
       "<table border=\"1\" class=\"dataframe\">\n",
       "  <thead>\n",
       "    <tr style=\"text-align: right;\">\n",
       "      <th></th>\n",
       "      <th>name</th>\n",
       "      <th>steam_appid</th>\n",
       "      <th>required_age</th>\n",
       "      <th>is_free</th>\n",
       "      <th>developers</th>\n",
       "      <th>publishers</th>\n",
       "      <th>price_overview</th>\n",
       "      <th>platforms</th>\n",
       "      <th>metacritic</th>\n",
       "      <th>recommendations</th>\n",
       "      <th>release_date</th>\n",
       "    </tr>\n",
       "  </thead>\n",
       "  <tbody>\n",
       "    <tr>\n",
       "      <th>0</th>\n",
       "      <td>Counter-Strike</td>\n",
       "      <td>10</td>\n",
       "      <td>0.0</td>\n",
       "      <td>False</td>\n",
       "      <td>['Valve']</td>\n",
       "      <td>['Valve']</td>\n",
       "      <td>{'currency': 'AUD', 'initial': 1450, 'final': ...</td>\n",
       "      <td>{'windows': True, 'mac': True, 'linux': True}</td>\n",
       "      <td>{'score': 88, 'url': 'https://www.metacritic.c...</td>\n",
       "      <td>{'total': 137378}</td>\n",
       "      <td>{'coming_soon': False, 'date': '1 Nov, 2000'}</td>\n",
       "    </tr>\n",
       "    <tr>\n",
       "      <th>1</th>\n",
       "      <td>Team Fortress Classic</td>\n",
       "      <td>20</td>\n",
       "      <td>0.0</td>\n",
       "      <td>False</td>\n",
       "      <td>['Valve']</td>\n",
       "      <td>['Valve']</td>\n",
       "      <td>{'currency': 'AUD', 'initial': 750, 'final': 7...</td>\n",
       "      <td>{'windows': True, 'mac': True, 'linux': True}</td>\n",
       "      <td>NaN</td>\n",
       "      <td>{'total': 5474}</td>\n",
       "      <td>{'coming_soon': False, 'date': '1 Apr, 1999'}</td>\n",
       "    </tr>\n",
       "    <tr>\n",
       "      <th>2</th>\n",
       "      <td>Day of Defeat</td>\n",
       "      <td>30</td>\n",
       "      <td>0.0</td>\n",
       "      <td>False</td>\n",
       "      <td>['Valve']</td>\n",
       "      <td>['Valve']</td>\n",
       "      <td>{'currency': 'AUD', 'initial': 750, 'final': 7...</td>\n",
       "      <td>{'windows': True, 'mac': True, 'linux': True}</td>\n",
       "      <td>{'score': 79, 'url': 'https://www.metacritic.c...</td>\n",
       "      <td>{'total': 3694}</td>\n",
       "      <td>{'coming_soon': False, 'date': '1 May, 2003'}</td>\n",
       "    </tr>\n",
       "    <tr>\n",
       "      <th>3</th>\n",
       "      <td>Deathmatch Classic</td>\n",
       "      <td>40</td>\n",
       "      <td>0.0</td>\n",
       "      <td>False</td>\n",
       "      <td>['Valve']</td>\n",
       "      <td>['Valve']</td>\n",
       "      <td>{'currency': 'AUD', 'initial': 750, 'final': 7...</td>\n",
       "      <td>{'windows': True, 'mac': True, 'linux': True}</td>\n",
       "      <td>NaN</td>\n",
       "      <td>{'total': 1924}</td>\n",
       "      <td>{'coming_soon': False, 'date': '1 Jun, 2001'}</td>\n",
       "    </tr>\n",
       "    <tr>\n",
       "      <th>4</th>\n",
       "      <td>Half-Life: Opposing Force</td>\n",
       "      <td>50</td>\n",
       "      <td>0.0</td>\n",
       "      <td>False</td>\n",
       "      <td>['Gearbox Software']</td>\n",
       "      <td>['Valve']</td>\n",
       "      <td>{'currency': 'AUD', 'initial': 750, 'final': 7...</td>\n",
       "      <td>{'windows': True, 'mac': True, 'linux': True}</td>\n",
       "      <td>NaN</td>\n",
       "      <td>{'total': 15478}</td>\n",
       "      <td>{'coming_soon': False, 'date': '1 Nov, 1999'}</td>\n",
       "    </tr>\n",
       "  </tbody>\n",
       "</table>\n",
       "</div>"
      ],
      "text/plain": [
       "                        name  steam_appid  required_age is_free  \\\n",
       "0             Counter-Strike           10           0.0   False   \n",
       "1      Team Fortress Classic           20           0.0   False   \n",
       "2              Day of Defeat           30           0.0   False   \n",
       "3         Deathmatch Classic           40           0.0   False   \n",
       "4  Half-Life: Opposing Force           50           0.0   False   \n",
       "\n",
       "             developers publishers  \\\n",
       "0             ['Valve']  ['Valve']   \n",
       "1             ['Valve']  ['Valve']   \n",
       "2             ['Valve']  ['Valve']   \n",
       "3             ['Valve']  ['Valve']   \n",
       "4  ['Gearbox Software']  ['Valve']   \n",
       "\n",
       "                                      price_overview  \\\n",
       "0  {'currency': 'AUD', 'initial': 1450, 'final': ...   \n",
       "1  {'currency': 'AUD', 'initial': 750, 'final': 7...   \n",
       "2  {'currency': 'AUD', 'initial': 750, 'final': 7...   \n",
       "3  {'currency': 'AUD', 'initial': 750, 'final': 7...   \n",
       "4  {'currency': 'AUD', 'initial': 750, 'final': 7...   \n",
       "\n",
       "                                       platforms  \\\n",
       "0  {'windows': True, 'mac': True, 'linux': True}   \n",
       "1  {'windows': True, 'mac': True, 'linux': True}   \n",
       "2  {'windows': True, 'mac': True, 'linux': True}   \n",
       "3  {'windows': True, 'mac': True, 'linux': True}   \n",
       "4  {'windows': True, 'mac': True, 'linux': True}   \n",
       "\n",
       "                                          metacritic    recommendations  \\\n",
       "0  {'score': 88, 'url': 'https://www.metacritic.c...  {'total': 137378}   \n",
       "1                                                NaN    {'total': 5474}   \n",
       "2  {'score': 79, 'url': 'https://www.metacritic.c...    {'total': 3694}   \n",
       "3                                                NaN    {'total': 1924}   \n",
       "4                                                NaN   {'total': 15478}   \n",
       "\n",
       "                                    release_date  \n",
       "0  {'coming_soon': False, 'date': '1 Nov, 2000'}  \n",
       "1  {'coming_soon': False, 'date': '1 Apr, 1999'}  \n",
       "2  {'coming_soon': False, 'date': '1 May, 2003'}  \n",
       "3  {'coming_soon': False, 'date': '1 Jun, 2001'}  \n",
       "4  {'coming_soon': False, 'date': '1 Nov, 1999'}  "
      ]
     },
     "execution_count": 75,
     "metadata": {},
     "output_type": "execute_result"
    }
   ],
   "source": [
    "steam_app_data.head()"
   ]
  },
  {
   "cell_type": "code",
   "execution_count": 76,
   "id": "da168c7f-1ea3-40c1-9e89-ddcc86c3e67a",
   "metadata": {},
   "outputs": [
    {
     "data": {
      "text/plain": [
       "0    {'coming_soon': False, 'date': '1 Nov, 2000'}\n",
       "1    {'coming_soon': False, 'date': '1 Apr, 1999'}\n",
       "2    {'coming_soon': False, 'date': '1 May, 2003'}\n",
       "3    {'coming_soon': False, 'date': '1 Jun, 2001'}\n",
       "4    {'coming_soon': False, 'date': '1 Nov, 1999'}\n",
       "Name: release_date, dtype: object"
      ]
     },
     "execution_count": 76,
     "metadata": {},
     "output_type": "execute_result"
    }
   ],
   "source": [
    "steam_app_data['release_date'].head()"
   ]
  },
  {
   "cell_type": "code",
   "execution_count": 77,
   "id": "ec4a9294-3039-4a5d-8cc5-7399e86df33b",
   "metadata": {},
   "outputs": [
    {
     "data": {
      "text/plain": [
       "release_date\n",
       "{'coming_soon': False, 'date': ''}                14\n",
       "{'coming_soon': False, 'date': '18 Jun, 2020'}     6\n",
       "{'coming_soon': False, 'date': '19 May, 2020'}     4\n",
       "{'coming_soon': False, 'date': '27 Oct, 2016'}     4\n",
       "{'coming_soon': False, 'date': '15 Mar, 2007'}     4\n",
       "                                                  ..\n",
       "{'coming_soon': False, 'date': '4 Nov, 2014'}      1\n",
       "{'coming_soon': False, 'date': '17 Apr, 2014'}     1\n",
       "{'coming_soon': False, 'date': '2 Jul, 2015'}      1\n",
       "{'coming_soon': False, 'date': '6 Jan, 2014'}      1\n",
       "{'coming_soon': False, 'date': '28 Feb, 2019'}     1\n",
       "Name: count, Length: 832, dtype: int64"
      ]
     },
     "execution_count": 77,
     "metadata": {},
     "output_type": "execute_result"
    }
   ],
   "source": [
    "steam_app_data['release_date'].value_counts()"
   ]
  },
  {
   "cell_type": "code",
   "execution_count": 78,
   "id": "a34eeb28-443b-4838-9770-9ae5ba8ab45c",
   "metadata": {},
   "outputs": [
    {
     "data": {
      "text/html": [
       "<div>\n",
       "<style scoped>\n",
       "    .dataframe tbody tr th:only-of-type {\n",
       "        vertical-align: middle;\n",
       "    }\n",
       "\n",
       "    .dataframe tbody tr th {\n",
       "        vertical-align: top;\n",
       "    }\n",
       "\n",
       "    .dataframe thead th {\n",
       "        text-align: right;\n",
       "    }\n",
       "</style>\n",
       "<table border=\"1\" class=\"dataframe\">\n",
       "  <thead>\n",
       "    <tr style=\"text-align: right;\">\n",
       "      <th></th>\n",
       "      <th>name</th>\n",
       "      <th>steam_appid</th>\n",
       "      <th>required_age</th>\n",
       "      <th>is_free</th>\n",
       "      <th>developers</th>\n",
       "      <th>publishers</th>\n",
       "      <th>price_overview</th>\n",
       "      <th>platforms</th>\n",
       "      <th>metacritic</th>\n",
       "      <th>recommendations</th>\n",
       "      <th>release_date</th>\n",
       "    </tr>\n",
       "  </thead>\n",
       "  <tbody>\n",
       "    <tr>\n",
       "      <th>405</th>\n",
       "      <td>Hotline Miami 2: Wrong Number</td>\n",
       "      <td>274170</td>\n",
       "      <td>NaN</td>\n",
       "      <td>NaN</td>\n",
       "      <td>NaN</td>\n",
       "      <td>NaN</td>\n",
       "      <td>NaN</td>\n",
       "      <td>NaN</td>\n",
       "      <td>NaN</td>\n",
       "      <td>NaN</td>\n",
       "      <td>NaN</td>\n",
       "    </tr>\n",
       "    <tr>\n",
       "      <th>425</th>\n",
       "      <td>S.K.I.L.L. - Special Force 2 (Shooter)</td>\n",
       "      <td>286940</td>\n",
       "      <td>NaN</td>\n",
       "      <td>NaN</td>\n",
       "      <td>NaN</td>\n",
       "      <td>NaN</td>\n",
       "      <td>NaN</td>\n",
       "      <td>NaN</td>\n",
       "      <td>NaN</td>\n",
       "      <td>NaN</td>\n",
       "      <td>NaN</td>\n",
       "    </tr>\n",
       "    <tr>\n",
       "      <th>686</th>\n",
       "      <td>Digimon Masters Online</td>\n",
       "      <td>537180</td>\n",
       "      <td>NaN</td>\n",
       "      <td>NaN</td>\n",
       "      <td>NaN</td>\n",
       "      <td>NaN</td>\n",
       "      <td>NaN</td>\n",
       "      <td>NaN</td>\n",
       "      <td>NaN</td>\n",
       "      <td>NaN</td>\n",
       "      <td>NaN</td>\n",
       "    </tr>\n",
       "    <tr>\n",
       "      <th>692</th>\n",
       "      <td>Metin2</td>\n",
       "      <td>550900</td>\n",
       "      <td>NaN</td>\n",
       "      <td>NaN</td>\n",
       "      <td>NaN</td>\n",
       "      <td>NaN</td>\n",
       "      <td>NaN</td>\n",
       "      <td>NaN</td>\n",
       "      <td>NaN</td>\n",
       "      <td>NaN</td>\n",
       "      <td>NaN</td>\n",
       "    </tr>\n",
       "    <tr>\n",
       "      <th>737</th>\n",
       "      <td>SoulWorker - Anime Action MMO</td>\n",
       "      <td>630100</td>\n",
       "      <td>NaN</td>\n",
       "      <td>NaN</td>\n",
       "      <td>NaN</td>\n",
       "      <td>NaN</td>\n",
       "      <td>NaN</td>\n",
       "      <td>NaN</td>\n",
       "      <td>NaN</td>\n",
       "      <td>NaN</td>\n",
       "      <td>NaN</td>\n",
       "    </tr>\n",
       "    <tr>\n",
       "      <th>836</th>\n",
       "      <td>Conqueror's Blade</td>\n",
       "      <td>905370</td>\n",
       "      <td>NaN</td>\n",
       "      <td>NaN</td>\n",
       "      <td>NaN</td>\n",
       "      <td>NaN</td>\n",
       "      <td>NaN</td>\n",
       "      <td>NaN</td>\n",
       "      <td>NaN</td>\n",
       "      <td>NaN</td>\n",
       "      <td>NaN</td>\n",
       "    </tr>\n",
       "  </tbody>\n",
       "</table>\n",
       "</div>"
      ],
      "text/plain": [
       "                                       name  steam_appid  required_age  \\\n",
       "405           Hotline Miami 2: Wrong Number       274170           NaN   \n",
       "425  S.K.I.L.L. - Special Force 2 (Shooter)       286940           NaN   \n",
       "686                  Digimon Masters Online       537180           NaN   \n",
       "692                                  Metin2       550900           NaN   \n",
       "737           SoulWorker - Anime Action MMO       630100           NaN   \n",
       "836                       Conqueror's Blade       905370           NaN   \n",
       "\n",
       "    is_free developers publishers price_overview platforms metacritic  \\\n",
       "405     NaN        NaN        NaN            NaN       NaN        NaN   \n",
       "425     NaN        NaN        NaN            NaN       NaN        NaN   \n",
       "686     NaN        NaN        NaN            NaN       NaN        NaN   \n",
       "692     NaN        NaN        NaN            NaN       NaN        NaN   \n",
       "737     NaN        NaN        NaN            NaN       NaN        NaN   \n",
       "836     NaN        NaN        NaN            NaN       NaN        NaN   \n",
       "\n",
       "    recommendations release_date  \n",
       "405             NaN          NaN  \n",
       "425             NaN          NaN  \n",
       "686             NaN          NaN  \n",
       "692             NaN          NaN  \n",
       "737             NaN          NaN  \n",
       "836             NaN          NaN  "
      ]
     },
     "execution_count": 78,
     "metadata": {},
     "output_type": "execute_result"
    }
   ],
   "source": [
    "# show rows with null values in release_date column\n",
    "null_release_date = steam_app_data[steam_app_data['release_date'].isnull()]\n",
    "null_release_date"
   ]
  },
  {
   "cell_type": "code",
   "execution_count": 79,
   "id": "182cab7b-cf21-4ad6-a5a2-d1006e469ef8",
   "metadata": {},
   "outputs": [],
   "source": [
    "# drop rows with null release_date\n",
    "steam_app_data.dropna(subset=['release_date'], inplace=True)"
   ]
  },
  {
   "cell_type": "code",
   "execution_count": 80,
   "id": "638b23fe-9f87-43eb-80c2-e5775ebed1b7",
   "metadata": {},
   "outputs": [
    {
     "data": {
      "text/html": [
       "<div>\n",
       "<style scoped>\n",
       "    .dataframe tbody tr th:only-of-type {\n",
       "        vertical-align: middle;\n",
       "    }\n",
       "\n",
       "    .dataframe tbody tr th {\n",
       "        vertical-align: top;\n",
       "    }\n",
       "\n",
       "    .dataframe thead th {\n",
       "        text-align: right;\n",
       "    }\n",
       "</style>\n",
       "<table border=\"1\" class=\"dataframe\">\n",
       "  <thead>\n",
       "    <tr style=\"text-align: right;\">\n",
       "      <th></th>\n",
       "      <th>name</th>\n",
       "      <th>steam_appid</th>\n",
       "      <th>required_age</th>\n",
       "      <th>is_free</th>\n",
       "      <th>developers</th>\n",
       "      <th>publishers</th>\n",
       "      <th>price_overview</th>\n",
       "      <th>platforms</th>\n",
       "      <th>metacritic</th>\n",
       "      <th>recommendations</th>\n",
       "      <th>release_date</th>\n",
       "    </tr>\n",
       "  </thead>\n",
       "  <tbody>\n",
       "  </tbody>\n",
       "</table>\n",
       "</div>"
      ],
      "text/plain": [
       "Empty DataFrame\n",
       "Columns: [name, steam_appid, required_age, is_free, developers, publishers, price_overview, platforms, metacritic, recommendations, release_date]\n",
       "Index: []"
      ]
     },
     "execution_count": 80,
     "metadata": {},
     "output_type": "execute_result"
    }
   ],
   "source": [
    "null_release_date = steam_app_data[steam_app_data['release_date'].isnull()]\n",
    "null_release_date"
   ]
  },
  {
   "cell_type": "code",
   "execution_count": 81,
   "id": "edd660b9-8431-4375-8ea2-7df5c4f53080",
   "metadata": {},
   "outputs": [
    {
     "data": {
      "text/plain": [
       "63     {'coming_soon': False, 'date': ''}\n",
       "116    {'coming_soon': False, 'date': ''}\n",
       "123    {'coming_soon': False, 'date': ''}\n",
       "162    {'coming_soon': False, 'date': ''}\n",
       "173    {'coming_soon': False, 'date': ''}\n",
       "185    {'coming_soon': False, 'date': ''}\n",
       "212    {'coming_soon': False, 'date': ''}\n",
       "258    {'coming_soon': False, 'date': ''}\n",
       "283    {'coming_soon': False, 'date': ''}\n",
       "289    {'coming_soon': False, 'date': ''}\n",
       "319    {'coming_soon': False, 'date': ''}\n",
       "339    {'coming_soon': False, 'date': ''}\n",
       "705    {'coming_soon': False, 'date': ''}\n",
       "835    {'coming_soon': False, 'date': ''}\n",
       "Name: release_date, dtype: object"
      ]
     },
     "execution_count": 81,
     "metadata": {},
     "output_type": "execute_result"
    }
   ],
   "source": [
    "# Filter rows where 'release_date' contains the string \"'date': ''\"\n",
    "no_release_date = steam_app_data[steam_app_data['release_date'].str.contains(\"'date': ''\", na=False)]\n",
    "no_release_date['release_date']"
   ]
  },
  {
   "cell_type": "code",
   "execution_count": 82,
   "id": "7189bc97-03b8-4019-afb7-1a36247c9731",
   "metadata": {},
   "outputs": [],
   "source": [
    "# Drop rows where 'release_date' contains the string \"'date': ''\" from the DataFrame\n",
    "steam_app_data.drop(no_release_date.index, inplace=True)"
   ]
  },
  {
   "cell_type": "code",
   "execution_count": 83,
   "id": "b7db9dcf-23a5-42ce-84c8-30b9a238e351",
   "metadata": {},
   "outputs": [
    {
     "name": "stdout",
     "output_type": "stream",
     "text": [
      "<class 'pandas.core.frame.DataFrame'>\n",
      "Index: 979 entries, 0 to 999\n",
      "Data columns (total 11 columns):\n",
      " #   Column           Non-Null Count  Dtype  \n",
      "---  ------           --------------  -----  \n",
      " 0   name             979 non-null    object \n",
      " 1   steam_appid      979 non-null    int64  \n",
      " 2   required_age     979 non-null    float64\n",
      " 3   is_free          979 non-null    object \n",
      " 4   developers       978 non-null    object \n",
      " 5   publishers       979 non-null    object \n",
      " 6   price_overview   716 non-null    object \n",
      " 7   platforms        979 non-null    object \n",
      " 8   metacritic       573 non-null    object \n",
      " 9   recommendations  903 non-null    object \n",
      " 10  release_date     979 non-null    object \n",
      "dtypes: float64(1), int64(1), object(9)\n",
      "memory usage: 91.8+ KB\n"
     ]
    }
   ],
   "source": [
    "steam_app_data.info()"
   ]
  },
  {
   "cell_type": "code",
   "execution_count": 84,
   "id": "515ae1be-d0a8-441e-891c-7ae593959fc0",
   "metadata": {},
   "outputs": [
    {
     "data": {
      "text/plain": [
       "release_date\n",
       "{'coming_soon': False, 'date': '18 Jun, 2020'}    6\n",
       "{'coming_soon': False, 'date': '27 Oct, 2016'}    4\n",
       "{'coming_soon': False, 'date': '15 Mar, 2007'}    4\n",
       "{'coming_soon': False, 'date': '19 May, 2020'}    4\n",
       "{'coming_soon': False, 'date': '26 Sep, 2018'}    3\n",
       "                                                 ..\n",
       "{'coming_soon': False, 'date': '4 Nov, 2014'}     1\n",
       "{'coming_soon': False, 'date': '17 Apr, 2014'}    1\n",
       "{'coming_soon': False, 'date': '2 Jul, 2015'}     1\n",
       "{'coming_soon': False, 'date': '6 Jan, 2014'}     1\n",
       "{'coming_soon': False, 'date': '28 Feb, 2019'}    1\n",
       "Name: count, Length: 831, dtype: int64"
      ]
     },
     "execution_count": 84,
     "metadata": {},
     "output_type": "execute_result"
    }
   ],
   "source": [
    "steam_app_data['release_date'].value_counts(dropna=False)"
   ]
  },
  {
   "cell_type": "code",
   "execution_count": 85,
   "id": "8c6d6b5a-cbcf-4481-a6f9-eb2063cc102d",
   "metadata": {},
   "outputs": [],
   "source": [
    "def process_release_date(df):\n",
    "\n",
    "    \"\"\" Process release dates in datframe from dictionary to standard datetime format \"\"\"\n",
    "    \n",
    "    df['coming_soon'] = df['release_date'].apply(lambda x: literal_eval(x)['coming_soon'])\n",
    "    # Only want to keep released games\n",
    "    df = df[df['coming_soon'] == False].copy()\n",
    "    \n",
    "    # extract release date and set missing dates to null\n",
    "    df['date'] = df['release_date'].apply(lambda x: literal_eval(x)['date'])\n",
    "\n",
    "    # Parse the date formats we have discovered\n",
    "    df['datetime'] = pd.to_datetime(df['date'], format=\"%d %b, %Y\", errors='coerce')\n",
    "    df['datetime'] = df['datetime'].fillna(pd.to_datetime(df['date'], format=\"%b %d, %Y\", errors='coerce'))\n",
    "    df['datetime'] = df['datetime'].fillna(pd.to_datetime(df['date'], format=\"%b %Y\", errors='coerce'))\n",
    "    df['datetime'] = df['datetime'].fillna(pd.to_datetime(df['date'], format=\"%Y-%m-%d\", errors='coerce'))\n",
    "    \n",
    "    # Parse the rest of the date formats\n",
    "    df['release_date'] = pd.to_datetime(df['datetime'])\n",
    "    \n",
    "    df = df.drop(['coming_soon', 'date', 'datetime'], axis=1)\n",
    "    return df"
   ]
  },
  {
   "cell_type": "code",
   "execution_count": 86,
   "id": "b462bb62-ef72-41bc-91cd-d2c86401c89f",
   "metadata": {},
   "outputs": [],
   "source": [
    "steam_app_data = process_release_date(steam_app_data)"
   ]
  },
  {
   "cell_type": "code",
   "execution_count": 87,
   "id": "89839a62-9694-4efa-ae15-9587d194dcb3",
   "metadata": {},
   "outputs": [
    {
     "data": {
      "text/plain": [
       "release_date\n",
       "NaT           8\n",
       "2020-06-18    6\n",
       "2016-10-27    4\n",
       "2020-05-19    4\n",
       "2007-03-15    4\n",
       "             ..\n",
       "2014-05-16    1\n",
       "2013-10-11    1\n",
       "2014-08-29    1\n",
       "2014-11-04    1\n",
       "2018-04-30    1\n",
       "Name: count, Length: 819, dtype: int64"
      ]
     },
     "execution_count": 87,
     "metadata": {},
     "output_type": "execute_result"
    }
   ],
   "source": [
    "# check count of unique values in release_date column including null values\n",
    "steam_app_data['release_date'].value_counts(dropna=False)"
   ]
  },
  {
   "cell_type": "code",
   "execution_count": 88,
   "id": "71e12224-3c4d-402d-b7d4-ca65efb2c7c7",
   "metadata": {},
   "outputs": [
    {
     "data": {
      "text/plain": [
       "8"
      ]
     },
     "execution_count": 88,
     "metadata": {},
     "output_type": "execute_result"
    }
   ],
   "source": [
    "steam_app_data['release_date'].isnull().sum()"
   ]
  },
  {
   "cell_type": "code",
   "execution_count": 89,
   "id": "150c6895-1ba1-4327-acda-65a490dbce17",
   "metadata": {},
   "outputs": [],
   "source": [
    "# drop rows with null release dates\n",
    "steam_app_data.dropna(subset=['release_date'], inplace=True)"
   ]
  },
  {
   "cell_type": "code",
   "execution_count": 90,
   "id": "d378d5ad-9f9a-468d-8098-2132d7a19bd9",
   "metadata": {},
   "outputs": [
    {
     "data": {
      "text/plain": [
       "0"
      ]
     },
     "execution_count": 90,
     "metadata": {},
     "output_type": "execute_result"
    }
   ],
   "source": [
    "steam_app_data['release_date'].isnull().sum()"
   ]
  },
  {
   "cell_type": "code",
   "execution_count": 91,
   "id": "eff43c16-df84-4fcd-991c-4910d66252cb",
   "metadata": {},
   "outputs": [
    {
     "data": {
      "text/html": [
       "<div>\n",
       "<style scoped>\n",
       "    .dataframe tbody tr th:only-of-type {\n",
       "        vertical-align: middle;\n",
       "    }\n",
       "\n",
       "    .dataframe tbody tr th {\n",
       "        vertical-align: top;\n",
       "    }\n",
       "\n",
       "    .dataframe thead th {\n",
       "        text-align: right;\n",
       "    }\n",
       "</style>\n",
       "<table border=\"1\" class=\"dataframe\">\n",
       "  <thead>\n",
       "    <tr style=\"text-align: right;\">\n",
       "      <th></th>\n",
       "      <th>name</th>\n",
       "      <th>steam_appid</th>\n",
       "      <th>required_age</th>\n",
       "      <th>is_free</th>\n",
       "      <th>developers</th>\n",
       "      <th>publishers</th>\n",
       "      <th>price_overview</th>\n",
       "      <th>platforms</th>\n",
       "      <th>metacritic</th>\n",
       "      <th>recommendations</th>\n",
       "      <th>release_date</th>\n",
       "    </tr>\n",
       "  </thead>\n",
       "  <tbody>\n",
       "    <tr>\n",
       "      <th>0</th>\n",
       "      <td>Counter-Strike</td>\n",
       "      <td>10</td>\n",
       "      <td>0.0</td>\n",
       "      <td>False</td>\n",
       "      <td>['Valve']</td>\n",
       "      <td>['Valve']</td>\n",
       "      <td>{'currency': 'AUD', 'initial': 1450, 'final': ...</td>\n",
       "      <td>{'windows': True, 'mac': True, 'linux': True}</td>\n",
       "      <td>{'score': 88, 'url': 'https://www.metacritic.c...</td>\n",
       "      <td>{'total': 137378}</td>\n",
       "      <td>2000-11-01</td>\n",
       "    </tr>\n",
       "    <tr>\n",
       "      <th>1</th>\n",
       "      <td>Team Fortress Classic</td>\n",
       "      <td>20</td>\n",
       "      <td>0.0</td>\n",
       "      <td>False</td>\n",
       "      <td>['Valve']</td>\n",
       "      <td>['Valve']</td>\n",
       "      <td>{'currency': 'AUD', 'initial': 750, 'final': 7...</td>\n",
       "      <td>{'windows': True, 'mac': True, 'linux': True}</td>\n",
       "      <td>NaN</td>\n",
       "      <td>{'total': 5474}</td>\n",
       "      <td>1999-04-01</td>\n",
       "    </tr>\n",
       "    <tr>\n",
       "      <th>2</th>\n",
       "      <td>Day of Defeat</td>\n",
       "      <td>30</td>\n",
       "      <td>0.0</td>\n",
       "      <td>False</td>\n",
       "      <td>['Valve']</td>\n",
       "      <td>['Valve']</td>\n",
       "      <td>{'currency': 'AUD', 'initial': 750, 'final': 7...</td>\n",
       "      <td>{'windows': True, 'mac': True, 'linux': True}</td>\n",
       "      <td>{'score': 79, 'url': 'https://www.metacritic.c...</td>\n",
       "      <td>{'total': 3694}</td>\n",
       "      <td>2003-05-01</td>\n",
       "    </tr>\n",
       "    <tr>\n",
       "      <th>3</th>\n",
       "      <td>Deathmatch Classic</td>\n",
       "      <td>40</td>\n",
       "      <td>0.0</td>\n",
       "      <td>False</td>\n",
       "      <td>['Valve']</td>\n",
       "      <td>['Valve']</td>\n",
       "      <td>{'currency': 'AUD', 'initial': 750, 'final': 7...</td>\n",
       "      <td>{'windows': True, 'mac': True, 'linux': True}</td>\n",
       "      <td>NaN</td>\n",
       "      <td>{'total': 1924}</td>\n",
       "      <td>2001-06-01</td>\n",
       "    </tr>\n",
       "    <tr>\n",
       "      <th>4</th>\n",
       "      <td>Half-Life: Opposing Force</td>\n",
       "      <td>50</td>\n",
       "      <td>0.0</td>\n",
       "      <td>False</td>\n",
       "      <td>['Gearbox Software']</td>\n",
       "      <td>['Valve']</td>\n",
       "      <td>{'currency': 'AUD', 'initial': 750, 'final': 7...</td>\n",
       "      <td>{'windows': True, 'mac': True, 'linux': True}</td>\n",
       "      <td>NaN</td>\n",
       "      <td>{'total': 15478}</td>\n",
       "      <td>1999-11-01</td>\n",
       "    </tr>\n",
       "  </tbody>\n",
       "</table>\n",
       "</div>"
      ],
      "text/plain": [
       "                        name  steam_appid  required_age is_free  \\\n",
       "0             Counter-Strike           10           0.0   False   \n",
       "1      Team Fortress Classic           20           0.0   False   \n",
       "2              Day of Defeat           30           0.0   False   \n",
       "3         Deathmatch Classic           40           0.0   False   \n",
       "4  Half-Life: Opposing Force           50           0.0   False   \n",
       "\n",
       "             developers publishers  \\\n",
       "0             ['Valve']  ['Valve']   \n",
       "1             ['Valve']  ['Valve']   \n",
       "2             ['Valve']  ['Valve']   \n",
       "3             ['Valve']  ['Valve']   \n",
       "4  ['Gearbox Software']  ['Valve']   \n",
       "\n",
       "                                      price_overview  \\\n",
       "0  {'currency': 'AUD', 'initial': 1450, 'final': ...   \n",
       "1  {'currency': 'AUD', 'initial': 750, 'final': 7...   \n",
       "2  {'currency': 'AUD', 'initial': 750, 'final': 7...   \n",
       "3  {'currency': 'AUD', 'initial': 750, 'final': 7...   \n",
       "4  {'currency': 'AUD', 'initial': 750, 'final': 7...   \n",
       "\n",
       "                                       platforms  \\\n",
       "0  {'windows': True, 'mac': True, 'linux': True}   \n",
       "1  {'windows': True, 'mac': True, 'linux': True}   \n",
       "2  {'windows': True, 'mac': True, 'linux': True}   \n",
       "3  {'windows': True, 'mac': True, 'linux': True}   \n",
       "4  {'windows': True, 'mac': True, 'linux': True}   \n",
       "\n",
       "                                          metacritic    recommendations  \\\n",
       "0  {'score': 88, 'url': 'https://www.metacritic.c...  {'total': 137378}   \n",
       "1                                                NaN    {'total': 5474}   \n",
       "2  {'score': 79, 'url': 'https://www.metacritic.c...    {'total': 3694}   \n",
       "3                                                NaN    {'total': 1924}   \n",
       "4                                                NaN   {'total': 15478}   \n",
       "\n",
       "  release_date  \n",
       "0   2000-11-01  \n",
       "1   1999-04-01  \n",
       "2   2003-05-01  \n",
       "3   2001-06-01  \n",
       "4   1999-11-01  "
      ]
     },
     "execution_count": 91,
     "metadata": {},
     "output_type": "execute_result"
    }
   ],
   "source": [
    "steam_app_data.head()"
   ]
  },
  {
   "cell_type": "code",
   "execution_count": 92,
   "id": "96ac87c6-aef6-4f83-9a25-005094f90b81",
   "metadata": {},
   "outputs": [
    {
     "name": "stdout",
     "output_type": "stream",
     "text": [
      "<class 'pandas.core.frame.DataFrame'>\n",
      "Index: 971 entries, 0 to 999\n",
      "Data columns (total 11 columns):\n",
      " #   Column           Non-Null Count  Dtype         \n",
      "---  ------           --------------  -----         \n",
      " 0   name             971 non-null    object        \n",
      " 1   steam_appid      971 non-null    int64         \n",
      " 2   required_age     971 non-null    float64       \n",
      " 3   is_free          971 non-null    object        \n",
      " 4   developers       970 non-null    object        \n",
      " 5   publishers       971 non-null    object        \n",
      " 6   price_overview   709 non-null    object        \n",
      " 7   platforms        971 non-null    object        \n",
      " 8   metacritic       567 non-null    object        \n",
      " 9   recommendations  895 non-null    object        \n",
      " 10  release_date     971 non-null    datetime64[ns]\n",
      "dtypes: datetime64[ns](1), float64(1), int64(1), object(8)\n",
      "memory usage: 91.0+ KB\n"
     ]
    }
   ],
   "source": [
    "steam_app_data.info()"
   ]
  },
  {
   "cell_type": "code",
   "execution_count": 93,
   "id": "65706c85-f17f-43ef-a0f3-95883260ec3e",
   "metadata": {},
   "outputs": [
    {
     "data": {
      "text/plain": [
       "name                 0\n",
       "steam_appid          0\n",
       "required_age         0\n",
       "is_free              0\n",
       "developers           1\n",
       "publishers           0\n",
       "price_overview     262\n",
       "platforms            0\n",
       "metacritic         404\n",
       "recommendations     76\n",
       "release_date         0\n",
       "dtype: int64"
      ]
     },
     "execution_count": 93,
     "metadata": {},
     "output_type": "execute_result"
    }
   ],
   "source": [
    "# check null vales in dataframe\n",
    "steam_app_data.isnull().sum()"
   ]
  },
  {
   "cell_type": "markdown",
   "id": "a760c94b-2fbd-4ac3-adc7-c0a224167066",
   "metadata": {},
   "source": [
    "## Metacrictic column has a lot of null values and using fillna will result in outliers "
   ]
  },
  {
   "cell_type": "code",
   "execution_count": 94,
   "id": "8abe1671-7715-41bc-829e-4d18b8bf8b45",
   "metadata": {},
   "outputs": [],
   "source": [
    "steam_app_data = steam_app_data.drop(columns='metacritic')"
   ]
  },
  {
   "cell_type": "code",
   "execution_count": 95,
   "id": "43c52175-93b7-4bef-85de-592401e45efe",
   "metadata": {},
   "outputs": [
    {
     "data": {
      "text/html": [
       "<div>\n",
       "<style scoped>\n",
       "    .dataframe tbody tr th:only-of-type {\n",
       "        vertical-align: middle;\n",
       "    }\n",
       "\n",
       "    .dataframe tbody tr th {\n",
       "        vertical-align: top;\n",
       "    }\n",
       "\n",
       "    .dataframe thead th {\n",
       "        text-align: right;\n",
       "    }\n",
       "</style>\n",
       "<table border=\"1\" class=\"dataframe\">\n",
       "  <thead>\n",
       "    <tr style=\"text-align: right;\">\n",
       "      <th></th>\n",
       "      <th>name</th>\n",
       "      <th>steam_appid</th>\n",
       "      <th>required_age</th>\n",
       "      <th>is_free</th>\n",
       "      <th>developers</th>\n",
       "      <th>publishers</th>\n",
       "      <th>price_overview</th>\n",
       "      <th>platforms</th>\n",
       "      <th>recommendations</th>\n",
       "      <th>release_date</th>\n",
       "    </tr>\n",
       "  </thead>\n",
       "  <tbody>\n",
       "    <tr>\n",
       "      <th>0</th>\n",
       "      <td>Counter-Strike</td>\n",
       "      <td>10</td>\n",
       "      <td>0.0</td>\n",
       "      <td>False</td>\n",
       "      <td>['Valve']</td>\n",
       "      <td>['Valve']</td>\n",
       "      <td>{'currency': 'AUD', 'initial': 1450, 'final': ...</td>\n",
       "      <td>{'windows': True, 'mac': True, 'linux': True}</td>\n",
       "      <td>{'total': 137378}</td>\n",
       "      <td>2000-11-01</td>\n",
       "    </tr>\n",
       "    <tr>\n",
       "      <th>1</th>\n",
       "      <td>Team Fortress Classic</td>\n",
       "      <td>20</td>\n",
       "      <td>0.0</td>\n",
       "      <td>False</td>\n",
       "      <td>['Valve']</td>\n",
       "      <td>['Valve']</td>\n",
       "      <td>{'currency': 'AUD', 'initial': 750, 'final': 7...</td>\n",
       "      <td>{'windows': True, 'mac': True, 'linux': True}</td>\n",
       "      <td>{'total': 5474}</td>\n",
       "      <td>1999-04-01</td>\n",
       "    </tr>\n",
       "    <tr>\n",
       "      <th>2</th>\n",
       "      <td>Day of Defeat</td>\n",
       "      <td>30</td>\n",
       "      <td>0.0</td>\n",
       "      <td>False</td>\n",
       "      <td>['Valve']</td>\n",
       "      <td>['Valve']</td>\n",
       "      <td>{'currency': 'AUD', 'initial': 750, 'final': 7...</td>\n",
       "      <td>{'windows': True, 'mac': True, 'linux': True}</td>\n",
       "      <td>{'total': 3694}</td>\n",
       "      <td>2003-05-01</td>\n",
       "    </tr>\n",
       "    <tr>\n",
       "      <th>3</th>\n",
       "      <td>Deathmatch Classic</td>\n",
       "      <td>40</td>\n",
       "      <td>0.0</td>\n",
       "      <td>False</td>\n",
       "      <td>['Valve']</td>\n",
       "      <td>['Valve']</td>\n",
       "      <td>{'currency': 'AUD', 'initial': 750, 'final': 7...</td>\n",
       "      <td>{'windows': True, 'mac': True, 'linux': True}</td>\n",
       "      <td>{'total': 1924}</td>\n",
       "      <td>2001-06-01</td>\n",
       "    </tr>\n",
       "    <tr>\n",
       "      <th>4</th>\n",
       "      <td>Half-Life: Opposing Force</td>\n",
       "      <td>50</td>\n",
       "      <td>0.0</td>\n",
       "      <td>False</td>\n",
       "      <td>['Gearbox Software']</td>\n",
       "      <td>['Valve']</td>\n",
       "      <td>{'currency': 'AUD', 'initial': 750, 'final': 7...</td>\n",
       "      <td>{'windows': True, 'mac': True, 'linux': True}</td>\n",
       "      <td>{'total': 15478}</td>\n",
       "      <td>1999-11-01</td>\n",
       "    </tr>\n",
       "  </tbody>\n",
       "</table>\n",
       "</div>"
      ],
      "text/plain": [
       "                        name  steam_appid  required_age is_free  \\\n",
       "0             Counter-Strike           10           0.0   False   \n",
       "1      Team Fortress Classic           20           0.0   False   \n",
       "2              Day of Defeat           30           0.0   False   \n",
       "3         Deathmatch Classic           40           0.0   False   \n",
       "4  Half-Life: Opposing Force           50           0.0   False   \n",
       "\n",
       "             developers publishers  \\\n",
       "0             ['Valve']  ['Valve']   \n",
       "1             ['Valve']  ['Valve']   \n",
       "2             ['Valve']  ['Valve']   \n",
       "3             ['Valve']  ['Valve']   \n",
       "4  ['Gearbox Software']  ['Valve']   \n",
       "\n",
       "                                      price_overview  \\\n",
       "0  {'currency': 'AUD', 'initial': 1450, 'final': ...   \n",
       "1  {'currency': 'AUD', 'initial': 750, 'final': 7...   \n",
       "2  {'currency': 'AUD', 'initial': 750, 'final': 7...   \n",
       "3  {'currency': 'AUD', 'initial': 750, 'final': 7...   \n",
       "4  {'currency': 'AUD', 'initial': 750, 'final': 7...   \n",
       "\n",
       "                                       platforms    recommendations  \\\n",
       "0  {'windows': True, 'mac': True, 'linux': True}  {'total': 137378}   \n",
       "1  {'windows': True, 'mac': True, 'linux': True}    {'total': 5474}   \n",
       "2  {'windows': True, 'mac': True, 'linux': True}    {'total': 3694}   \n",
       "3  {'windows': True, 'mac': True, 'linux': True}    {'total': 1924}   \n",
       "4  {'windows': True, 'mac': True, 'linux': True}   {'total': 15478}   \n",
       "\n",
       "  release_date  \n",
       "0   2000-11-01  \n",
       "1   1999-04-01  \n",
       "2   2003-05-01  \n",
       "3   2001-06-01  \n",
       "4   1999-11-01  "
      ]
     },
     "execution_count": 95,
     "metadata": {},
     "output_type": "execute_result"
    }
   ],
   "source": [
    "steam_app_data.head()"
   ]
  },
  {
   "cell_type": "code",
   "execution_count": 96,
   "id": "5fbfb200-8133-44bb-83e5-c6630e938f4b",
   "metadata": {},
   "outputs": [
    {
     "data": {
      "text/plain": [
       "\"{'windows': True, 'mac': True, 'linux': True}\""
      ]
     },
     "execution_count": 96,
     "metadata": {},
     "output_type": "execute_result"
    }
   ],
   "source": [
    "steam_app_data['platforms'][0]"
   ]
  },
  {
   "cell_type": "code",
   "execution_count": 97,
   "id": "cffb49a4-7c7e-4127-8ca3-14713e383e5e",
   "metadata": {},
   "outputs": [],
   "source": [
    "def process_platforms(df):\n",
    "    \"\"\"Split platforms column into separate boolean columns for each platform.\"\"\"\n",
    "    # evaluate values in platforms column, so can index into dictionaries\n",
    "    df = df.copy()\n",
    "    \n",
    "    def parse_platforms(x):\n",
    "        \n",
    "        d = literal_eval(x)\n",
    "        \n",
    "        return ','.join(platform for platform in d.keys() if d[platform])\n",
    "    \n",
    "    df['platforms'] = df['platforms'].apply(parse_platforms)\n",
    "    \n",
    "    return df"
   ]
  },
  {
   "cell_type": "code",
   "execution_count": 98,
   "id": "34f1f172-686f-4ff3-825c-5215f0e0e827",
   "metadata": {},
   "outputs": [],
   "source": [
    "steam_app_data = process_platforms(steam_app_data)"
   ]
  },
  {
   "cell_type": "code",
   "execution_count": 99,
   "id": "0c857e5d-7968-45b8-8734-def6619cbd0a",
   "metadata": {},
   "outputs": [
    {
     "data": {
      "text/html": [
       "<div>\n",
       "<style scoped>\n",
       "    .dataframe tbody tr th:only-of-type {\n",
       "        vertical-align: middle;\n",
       "    }\n",
       "\n",
       "    .dataframe tbody tr th {\n",
       "        vertical-align: top;\n",
       "    }\n",
       "\n",
       "    .dataframe thead th {\n",
       "        text-align: right;\n",
       "    }\n",
       "</style>\n",
       "<table border=\"1\" class=\"dataframe\">\n",
       "  <thead>\n",
       "    <tr style=\"text-align: right;\">\n",
       "      <th></th>\n",
       "      <th>name</th>\n",
       "      <th>steam_appid</th>\n",
       "      <th>required_age</th>\n",
       "      <th>is_free</th>\n",
       "      <th>developers</th>\n",
       "      <th>publishers</th>\n",
       "      <th>price_overview</th>\n",
       "      <th>platforms</th>\n",
       "      <th>recommendations</th>\n",
       "      <th>release_date</th>\n",
       "    </tr>\n",
       "  </thead>\n",
       "  <tbody>\n",
       "    <tr>\n",
       "      <th>0</th>\n",
       "      <td>Counter-Strike</td>\n",
       "      <td>10</td>\n",
       "      <td>0.0</td>\n",
       "      <td>False</td>\n",
       "      <td>['Valve']</td>\n",
       "      <td>['Valve']</td>\n",
       "      <td>{'currency': 'AUD', 'initial': 1450, 'final': ...</td>\n",
       "      <td>windows,mac,linux</td>\n",
       "      <td>{'total': 137378}</td>\n",
       "      <td>2000-11-01</td>\n",
       "    </tr>\n",
       "    <tr>\n",
       "      <th>1</th>\n",
       "      <td>Team Fortress Classic</td>\n",
       "      <td>20</td>\n",
       "      <td>0.0</td>\n",
       "      <td>False</td>\n",
       "      <td>['Valve']</td>\n",
       "      <td>['Valve']</td>\n",
       "      <td>{'currency': 'AUD', 'initial': 750, 'final': 7...</td>\n",
       "      <td>windows,mac,linux</td>\n",
       "      <td>{'total': 5474}</td>\n",
       "      <td>1999-04-01</td>\n",
       "    </tr>\n",
       "    <tr>\n",
       "      <th>2</th>\n",
       "      <td>Day of Defeat</td>\n",
       "      <td>30</td>\n",
       "      <td>0.0</td>\n",
       "      <td>False</td>\n",
       "      <td>['Valve']</td>\n",
       "      <td>['Valve']</td>\n",
       "      <td>{'currency': 'AUD', 'initial': 750, 'final': 7...</td>\n",
       "      <td>windows,mac,linux</td>\n",
       "      <td>{'total': 3694}</td>\n",
       "      <td>2003-05-01</td>\n",
       "    </tr>\n",
       "    <tr>\n",
       "      <th>3</th>\n",
       "      <td>Deathmatch Classic</td>\n",
       "      <td>40</td>\n",
       "      <td>0.0</td>\n",
       "      <td>False</td>\n",
       "      <td>['Valve']</td>\n",
       "      <td>['Valve']</td>\n",
       "      <td>{'currency': 'AUD', 'initial': 750, 'final': 7...</td>\n",
       "      <td>windows,mac,linux</td>\n",
       "      <td>{'total': 1924}</td>\n",
       "      <td>2001-06-01</td>\n",
       "    </tr>\n",
       "    <tr>\n",
       "      <th>4</th>\n",
       "      <td>Half-Life: Opposing Force</td>\n",
       "      <td>50</td>\n",
       "      <td>0.0</td>\n",
       "      <td>False</td>\n",
       "      <td>['Gearbox Software']</td>\n",
       "      <td>['Valve']</td>\n",
       "      <td>{'currency': 'AUD', 'initial': 750, 'final': 7...</td>\n",
       "      <td>windows,mac,linux</td>\n",
       "      <td>{'total': 15478}</td>\n",
       "      <td>1999-11-01</td>\n",
       "    </tr>\n",
       "  </tbody>\n",
       "</table>\n",
       "</div>"
      ],
      "text/plain": [
       "                        name  steam_appid  required_age is_free  \\\n",
       "0             Counter-Strike           10           0.0   False   \n",
       "1      Team Fortress Classic           20           0.0   False   \n",
       "2              Day of Defeat           30           0.0   False   \n",
       "3         Deathmatch Classic           40           0.0   False   \n",
       "4  Half-Life: Opposing Force           50           0.0   False   \n",
       "\n",
       "             developers publishers  \\\n",
       "0             ['Valve']  ['Valve']   \n",
       "1             ['Valve']  ['Valve']   \n",
       "2             ['Valve']  ['Valve']   \n",
       "3             ['Valve']  ['Valve']   \n",
       "4  ['Gearbox Software']  ['Valve']   \n",
       "\n",
       "                                      price_overview          platforms  \\\n",
       "0  {'currency': 'AUD', 'initial': 1450, 'final': ...  windows,mac,linux   \n",
       "1  {'currency': 'AUD', 'initial': 750, 'final': 7...  windows,mac,linux   \n",
       "2  {'currency': 'AUD', 'initial': 750, 'final': 7...  windows,mac,linux   \n",
       "3  {'currency': 'AUD', 'initial': 750, 'final': 7...  windows,mac,linux   \n",
       "4  {'currency': 'AUD', 'initial': 750, 'final': 7...  windows,mac,linux   \n",
       "\n",
       "     recommendations release_date  \n",
       "0  {'total': 137378}   2000-11-01  \n",
       "1    {'total': 5474}   1999-04-01  \n",
       "2    {'total': 3694}   2003-05-01  \n",
       "3    {'total': 1924}   2001-06-01  \n",
       "4   {'total': 15478}   1999-11-01  "
      ]
     },
     "execution_count": 99,
     "metadata": {},
     "output_type": "execute_result"
    }
   ],
   "source": [
    "steam_app_data.head()"
   ]
  },
  {
   "cell_type": "code",
   "execution_count": 100,
   "id": "88b2e262-030f-4362-b1b0-aa54c4c6a920",
   "metadata": {},
   "outputs": [],
   "source": [
    "# fill the null values in recommendations colum with 0\n",
    "steam_app_data['recommendations'].fillna(0, inplace=True)"
   ]
  },
  {
   "cell_type": "code",
   "execution_count": 101,
   "id": "211442b9-d638-4e10-bef5-455f284cad15",
   "metadata": {},
   "outputs": [
    {
     "data": {
      "text/plain": [
       "name                 0\n",
       "steam_appid          0\n",
       "required_age         0\n",
       "is_free              0\n",
       "developers           1\n",
       "publishers           0\n",
       "price_overview     262\n",
       "platforms            0\n",
       "recommendations      0\n",
       "release_date         0\n",
       "dtype: int64"
      ]
     },
     "execution_count": 101,
     "metadata": {},
     "output_type": "execute_result"
    }
   ],
   "source": [
    "steam_app_data.isnull().sum()"
   ]
  },
  {
   "cell_type": "code",
   "execution_count": 102,
   "id": "ba9c8f77-4df3-4cd3-a5a2-2ca7d3973b19",
   "metadata": {},
   "outputs": [
    {
     "data": {
      "text/html": [
       "<div>\n",
       "<style scoped>\n",
       "    .dataframe tbody tr th:only-of-type {\n",
       "        vertical-align: middle;\n",
       "    }\n",
       "\n",
       "    .dataframe tbody tr th {\n",
       "        vertical-align: top;\n",
       "    }\n",
       "\n",
       "    .dataframe thead th {\n",
       "        text-align: right;\n",
       "    }\n",
       "</style>\n",
       "<table border=\"1\" class=\"dataframe\">\n",
       "  <thead>\n",
       "    <tr style=\"text-align: right;\">\n",
       "      <th></th>\n",
       "      <th>name</th>\n",
       "      <th>steam_appid</th>\n",
       "      <th>required_age</th>\n",
       "      <th>is_free</th>\n",
       "      <th>developers</th>\n",
       "      <th>publishers</th>\n",
       "      <th>price_overview</th>\n",
       "      <th>platforms</th>\n",
       "      <th>recommendations</th>\n",
       "      <th>release_date</th>\n",
       "    </tr>\n",
       "  </thead>\n",
       "  <tbody>\n",
       "    <tr>\n",
       "      <th>0</th>\n",
       "      <td>Counter-Strike</td>\n",
       "      <td>10</td>\n",
       "      <td>0.0</td>\n",
       "      <td>False</td>\n",
       "      <td>['Valve']</td>\n",
       "      <td>['Valve']</td>\n",
       "      <td>{'currency': 'AUD', 'initial': 1450, 'final': ...</td>\n",
       "      <td>windows,mac,linux</td>\n",
       "      <td>{'total': 137378}</td>\n",
       "      <td>2000-11-01</td>\n",
       "    </tr>\n",
       "    <tr>\n",
       "      <th>1</th>\n",
       "      <td>Team Fortress Classic</td>\n",
       "      <td>20</td>\n",
       "      <td>0.0</td>\n",
       "      <td>False</td>\n",
       "      <td>['Valve']</td>\n",
       "      <td>['Valve']</td>\n",
       "      <td>{'currency': 'AUD', 'initial': 750, 'final': 7...</td>\n",
       "      <td>windows,mac,linux</td>\n",
       "      <td>{'total': 5474}</td>\n",
       "      <td>1999-04-01</td>\n",
       "    </tr>\n",
       "    <tr>\n",
       "      <th>2</th>\n",
       "      <td>Day of Defeat</td>\n",
       "      <td>30</td>\n",
       "      <td>0.0</td>\n",
       "      <td>False</td>\n",
       "      <td>['Valve']</td>\n",
       "      <td>['Valve']</td>\n",
       "      <td>{'currency': 'AUD', 'initial': 750, 'final': 7...</td>\n",
       "      <td>windows,mac,linux</td>\n",
       "      <td>{'total': 3694}</td>\n",
       "      <td>2003-05-01</td>\n",
       "    </tr>\n",
       "    <tr>\n",
       "      <th>3</th>\n",
       "      <td>Deathmatch Classic</td>\n",
       "      <td>40</td>\n",
       "      <td>0.0</td>\n",
       "      <td>False</td>\n",
       "      <td>['Valve']</td>\n",
       "      <td>['Valve']</td>\n",
       "      <td>{'currency': 'AUD', 'initial': 750, 'final': 7...</td>\n",
       "      <td>windows,mac,linux</td>\n",
       "      <td>{'total': 1924}</td>\n",
       "      <td>2001-06-01</td>\n",
       "    </tr>\n",
       "    <tr>\n",
       "      <th>4</th>\n",
       "      <td>Half-Life: Opposing Force</td>\n",
       "      <td>50</td>\n",
       "      <td>0.0</td>\n",
       "      <td>False</td>\n",
       "      <td>['Gearbox Software']</td>\n",
       "      <td>['Valve']</td>\n",
       "      <td>{'currency': 'AUD', 'initial': 750, 'final': 7...</td>\n",
       "      <td>windows,mac,linux</td>\n",
       "      <td>{'total': 15478}</td>\n",
       "      <td>1999-11-01</td>\n",
       "    </tr>\n",
       "  </tbody>\n",
       "</table>\n",
       "</div>"
      ],
      "text/plain": [
       "                        name  steam_appid  required_age is_free  \\\n",
       "0             Counter-Strike           10           0.0   False   \n",
       "1      Team Fortress Classic           20           0.0   False   \n",
       "2              Day of Defeat           30           0.0   False   \n",
       "3         Deathmatch Classic           40           0.0   False   \n",
       "4  Half-Life: Opposing Force           50           0.0   False   \n",
       "\n",
       "             developers publishers  \\\n",
       "0             ['Valve']  ['Valve']   \n",
       "1             ['Valve']  ['Valve']   \n",
       "2             ['Valve']  ['Valve']   \n",
       "3             ['Valve']  ['Valve']   \n",
       "4  ['Gearbox Software']  ['Valve']   \n",
       "\n",
       "                                      price_overview          platforms  \\\n",
       "0  {'currency': 'AUD', 'initial': 1450, 'final': ...  windows,mac,linux   \n",
       "1  {'currency': 'AUD', 'initial': 750, 'final': 7...  windows,mac,linux   \n",
       "2  {'currency': 'AUD', 'initial': 750, 'final': 7...  windows,mac,linux   \n",
       "3  {'currency': 'AUD', 'initial': 750, 'final': 7...  windows,mac,linux   \n",
       "4  {'currency': 'AUD', 'initial': 750, 'final': 7...  windows,mac,linux   \n",
       "\n",
       "     recommendations release_date  \n",
       "0  {'total': 137378}   2000-11-01  \n",
       "1    {'total': 5474}   1999-04-01  \n",
       "2    {'total': 3694}   2003-05-01  \n",
       "3    {'total': 1924}   2001-06-01  \n",
       "4   {'total': 15478}   1999-11-01  "
      ]
     },
     "execution_count": 102,
     "metadata": {},
     "output_type": "execute_result"
    }
   ],
   "source": [
    "steam_app_data.head()"
   ]
  },
  {
   "cell_type": "code",
   "execution_count": 103,
   "id": "6804e91f-4b06-4f05-abc3-135735a3ee42",
   "metadata": {},
   "outputs": [
    {
     "data": {
      "text/plain": [
       "recommendations\n",
       "0                   76\n",
       "{'total': 153}       3\n",
       "{'total': 150}       3\n",
       "{'total': 21094}     2\n",
       "{'total': 114}       2\n",
       "                    ..\n",
       "{'total': 18011}     1\n",
       "{'total': 74001}     1\n",
       "{'total': 7896}      1\n",
       "{'total': 9371}      1\n",
       "{'total': 8799}      1\n",
       "Name: count, Length: 885, dtype: int64"
      ]
     },
     "execution_count": 103,
     "metadata": {},
     "output_type": "execute_result"
    }
   ],
   "source": [
    "steam_app_data['recommendations'].value_counts()"
   ]
  },
  {
   "cell_type": "code",
   "execution_count": 104,
   "id": "422a748c-a88b-4d68-8af6-e4593894970b",
   "metadata": {},
   "outputs": [],
   "source": [
    "def process_recommendations(df):\n",
    "\n",
    "    \"\"\" Processs and extract numerical vales from recommendations \"\"\"\n",
    "    \n",
    "    df = df.copy()\n",
    "    \n",
    "    # Check if the value is a dictionary before applying literal_eval\n",
    "    df['recommendations'] = df['recommendations'].apply(lambda x: literal_eval(x)['total'] if isinstance(x, str) else x)\n",
    "    \n",
    "    # Convert to int64\n",
    "    df['recommendations'] = df['recommendations'].astype('int64')\n",
    "    \n",
    "    return df\n"
   ]
  },
  {
   "cell_type": "code",
   "execution_count": 105,
   "id": "fd975b80-8b28-4c34-b7b0-62a05aebf320",
   "metadata": {},
   "outputs": [],
   "source": [
    "steam_app_data = process_recommendations(steam_app_data)"
   ]
  },
  {
   "cell_type": "code",
   "execution_count": 106,
   "id": "64bfef9c-5afd-4f4f-a0f5-b4045ae362e8",
   "metadata": {},
   "outputs": [
    {
     "data": {
      "text/html": [
       "<div>\n",
       "<style scoped>\n",
       "    .dataframe tbody tr th:only-of-type {\n",
       "        vertical-align: middle;\n",
       "    }\n",
       "\n",
       "    .dataframe tbody tr th {\n",
       "        vertical-align: top;\n",
       "    }\n",
       "\n",
       "    .dataframe thead th {\n",
       "        text-align: right;\n",
       "    }\n",
       "</style>\n",
       "<table border=\"1\" class=\"dataframe\">\n",
       "  <thead>\n",
       "    <tr style=\"text-align: right;\">\n",
       "      <th></th>\n",
       "      <th>name</th>\n",
       "      <th>steam_appid</th>\n",
       "      <th>required_age</th>\n",
       "      <th>is_free</th>\n",
       "      <th>developers</th>\n",
       "      <th>publishers</th>\n",
       "      <th>price_overview</th>\n",
       "      <th>platforms</th>\n",
       "      <th>recommendations</th>\n",
       "      <th>release_date</th>\n",
       "    </tr>\n",
       "  </thead>\n",
       "  <tbody>\n",
       "    <tr>\n",
       "      <th>0</th>\n",
       "      <td>Counter-Strike</td>\n",
       "      <td>10</td>\n",
       "      <td>0.0</td>\n",
       "      <td>False</td>\n",
       "      <td>['Valve']</td>\n",
       "      <td>['Valve']</td>\n",
       "      <td>{'currency': 'AUD', 'initial': 1450, 'final': ...</td>\n",
       "      <td>windows,mac,linux</td>\n",
       "      <td>137378</td>\n",
       "      <td>2000-11-01</td>\n",
       "    </tr>\n",
       "    <tr>\n",
       "      <th>1</th>\n",
       "      <td>Team Fortress Classic</td>\n",
       "      <td>20</td>\n",
       "      <td>0.0</td>\n",
       "      <td>False</td>\n",
       "      <td>['Valve']</td>\n",
       "      <td>['Valve']</td>\n",
       "      <td>{'currency': 'AUD', 'initial': 750, 'final': 7...</td>\n",
       "      <td>windows,mac,linux</td>\n",
       "      <td>5474</td>\n",
       "      <td>1999-04-01</td>\n",
       "    </tr>\n",
       "    <tr>\n",
       "      <th>2</th>\n",
       "      <td>Day of Defeat</td>\n",
       "      <td>30</td>\n",
       "      <td>0.0</td>\n",
       "      <td>False</td>\n",
       "      <td>['Valve']</td>\n",
       "      <td>['Valve']</td>\n",
       "      <td>{'currency': 'AUD', 'initial': 750, 'final': 7...</td>\n",
       "      <td>windows,mac,linux</td>\n",
       "      <td>3694</td>\n",
       "      <td>2003-05-01</td>\n",
       "    </tr>\n",
       "    <tr>\n",
       "      <th>3</th>\n",
       "      <td>Deathmatch Classic</td>\n",
       "      <td>40</td>\n",
       "      <td>0.0</td>\n",
       "      <td>False</td>\n",
       "      <td>['Valve']</td>\n",
       "      <td>['Valve']</td>\n",
       "      <td>{'currency': 'AUD', 'initial': 750, 'final': 7...</td>\n",
       "      <td>windows,mac,linux</td>\n",
       "      <td>1924</td>\n",
       "      <td>2001-06-01</td>\n",
       "    </tr>\n",
       "    <tr>\n",
       "      <th>4</th>\n",
       "      <td>Half-Life: Opposing Force</td>\n",
       "      <td>50</td>\n",
       "      <td>0.0</td>\n",
       "      <td>False</td>\n",
       "      <td>['Gearbox Software']</td>\n",
       "      <td>['Valve']</td>\n",
       "      <td>{'currency': 'AUD', 'initial': 750, 'final': 7...</td>\n",
       "      <td>windows,mac,linux</td>\n",
       "      <td>15478</td>\n",
       "      <td>1999-11-01</td>\n",
       "    </tr>\n",
       "  </tbody>\n",
       "</table>\n",
       "</div>"
      ],
      "text/plain": [
       "                        name  steam_appid  required_age is_free  \\\n",
       "0             Counter-Strike           10           0.0   False   \n",
       "1      Team Fortress Classic           20           0.0   False   \n",
       "2              Day of Defeat           30           0.0   False   \n",
       "3         Deathmatch Classic           40           0.0   False   \n",
       "4  Half-Life: Opposing Force           50           0.0   False   \n",
       "\n",
       "             developers publishers  \\\n",
       "0             ['Valve']  ['Valve']   \n",
       "1             ['Valve']  ['Valve']   \n",
       "2             ['Valve']  ['Valve']   \n",
       "3             ['Valve']  ['Valve']   \n",
       "4  ['Gearbox Software']  ['Valve']   \n",
       "\n",
       "                                      price_overview          platforms  \\\n",
       "0  {'currency': 'AUD', 'initial': 1450, 'final': ...  windows,mac,linux   \n",
       "1  {'currency': 'AUD', 'initial': 750, 'final': 7...  windows,mac,linux   \n",
       "2  {'currency': 'AUD', 'initial': 750, 'final': 7...  windows,mac,linux   \n",
       "3  {'currency': 'AUD', 'initial': 750, 'final': 7...  windows,mac,linux   \n",
       "4  {'currency': 'AUD', 'initial': 750, 'final': 7...  windows,mac,linux   \n",
       "\n",
       "   recommendations release_date  \n",
       "0           137378   2000-11-01  \n",
       "1             5474   1999-04-01  \n",
       "2             3694   2003-05-01  \n",
       "3             1924   2001-06-01  \n",
       "4            15478   1999-11-01  "
      ]
     },
     "execution_count": 106,
     "metadata": {},
     "output_type": "execute_result"
    }
   ],
   "source": [
    "steam_app_data.head()"
   ]
  },
  {
   "cell_type": "markdown",
   "id": "7339c66e-2eb3-4b2e-8628-dc3592b4fad6",
   "metadata": {},
   "source": [
    "## \"Developers, Publishers and Price_Overview\" column are already present in steamspy data. So, these columns in steamapp data are redundant."
   ]
  },
  {
   "cell_type": "code",
   "execution_count": 107,
   "id": "64a26a76-59cd-486b-a5be-cbf8116a33b8",
   "metadata": {},
   "outputs": [],
   "source": [
    "redundant_columns = ['developers', 'publishers', 'price_overview']\n",
    "\n",
    "steam_app_data = steam_app_data.drop(columns=redundant_columns)"
   ]
  },
  {
   "cell_type": "code",
   "execution_count": 108,
   "id": "737252d7-163f-4405-a391-70d432bfff43",
   "metadata": {},
   "outputs": [
    {
     "data": {
      "text/html": [
       "<div>\n",
       "<style scoped>\n",
       "    .dataframe tbody tr th:only-of-type {\n",
       "        vertical-align: middle;\n",
       "    }\n",
       "\n",
       "    .dataframe tbody tr th {\n",
       "        vertical-align: top;\n",
       "    }\n",
       "\n",
       "    .dataframe thead th {\n",
       "        text-align: right;\n",
       "    }\n",
       "</style>\n",
       "<table border=\"1\" class=\"dataframe\">\n",
       "  <thead>\n",
       "    <tr style=\"text-align: right;\">\n",
       "      <th></th>\n",
       "      <th>name</th>\n",
       "      <th>steam_appid</th>\n",
       "      <th>required_age</th>\n",
       "      <th>is_free</th>\n",
       "      <th>platforms</th>\n",
       "      <th>recommendations</th>\n",
       "      <th>release_date</th>\n",
       "    </tr>\n",
       "  </thead>\n",
       "  <tbody>\n",
       "    <tr>\n",
       "      <th>0</th>\n",
       "      <td>Counter-Strike</td>\n",
       "      <td>10</td>\n",
       "      <td>0.0</td>\n",
       "      <td>False</td>\n",
       "      <td>windows,mac,linux</td>\n",
       "      <td>137378</td>\n",
       "      <td>2000-11-01</td>\n",
       "    </tr>\n",
       "    <tr>\n",
       "      <th>1</th>\n",
       "      <td>Team Fortress Classic</td>\n",
       "      <td>20</td>\n",
       "      <td>0.0</td>\n",
       "      <td>False</td>\n",
       "      <td>windows,mac,linux</td>\n",
       "      <td>5474</td>\n",
       "      <td>1999-04-01</td>\n",
       "    </tr>\n",
       "    <tr>\n",
       "      <th>2</th>\n",
       "      <td>Day of Defeat</td>\n",
       "      <td>30</td>\n",
       "      <td>0.0</td>\n",
       "      <td>False</td>\n",
       "      <td>windows,mac,linux</td>\n",
       "      <td>3694</td>\n",
       "      <td>2003-05-01</td>\n",
       "    </tr>\n",
       "    <tr>\n",
       "      <th>3</th>\n",
       "      <td>Deathmatch Classic</td>\n",
       "      <td>40</td>\n",
       "      <td>0.0</td>\n",
       "      <td>False</td>\n",
       "      <td>windows,mac,linux</td>\n",
       "      <td>1924</td>\n",
       "      <td>2001-06-01</td>\n",
       "    </tr>\n",
       "    <tr>\n",
       "      <th>4</th>\n",
       "      <td>Half-Life: Opposing Force</td>\n",
       "      <td>50</td>\n",
       "      <td>0.0</td>\n",
       "      <td>False</td>\n",
       "      <td>windows,mac,linux</td>\n",
       "      <td>15478</td>\n",
       "      <td>1999-11-01</td>\n",
       "    </tr>\n",
       "    <tr>\n",
       "      <th>...</th>\n",
       "      <td>...</td>\n",
       "      <td>...</td>\n",
       "      <td>...</td>\n",
       "      <td>...</td>\n",
       "      <td>...</td>\n",
       "      <td>...</td>\n",
       "      <td>...</td>\n",
       "    </tr>\n",
       "    <tr>\n",
       "      <th>995</th>\n",
       "      <td>Brotato</td>\n",
       "      <td>1942280</td>\n",
       "      <td>0.0</td>\n",
       "      <td>False</td>\n",
       "      <td>windows</td>\n",
       "      <td>42508</td>\n",
       "      <td>2023-06-23</td>\n",
       "    </tr>\n",
       "    <tr>\n",
       "      <th>996</th>\n",
       "      <td>Escape the Backrooms</td>\n",
       "      <td>1943950</td>\n",
       "      <td>0.0</td>\n",
       "      <td>False</td>\n",
       "      <td>windows</td>\n",
       "      <td>26628</td>\n",
       "      <td>2022-08-11</td>\n",
       "    </tr>\n",
       "    <tr>\n",
       "      <th>997</th>\n",
       "      <td>Broken Edge</td>\n",
       "      <td>1947070</td>\n",
       "      <td>0.0</td>\n",
       "      <td>False</td>\n",
       "      <td>windows</td>\n",
       "      <td>239</td>\n",
       "      <td>2022-11-17</td>\n",
       "    </tr>\n",
       "    <tr>\n",
       "      <th>998</th>\n",
       "      <td>Inside the Backrooms</td>\n",
       "      <td>1987080</td>\n",
       "      <td>0.0</td>\n",
       "      <td>False</td>\n",
       "      <td>windows</td>\n",
       "      <td>29745</td>\n",
       "      <td>2022-06-20</td>\n",
       "    </tr>\n",
       "    <tr>\n",
       "      <th>999</th>\n",
       "      <td>Resident Evil 4</td>\n",
       "      <td>2050650</td>\n",
       "      <td>18.0</td>\n",
       "      <td>False</td>\n",
       "      <td>windows</td>\n",
       "      <td>53998</td>\n",
       "      <td>2023-03-23</td>\n",
       "    </tr>\n",
       "  </tbody>\n",
       "</table>\n",
       "<p>971 rows × 7 columns</p>\n",
       "</div>"
      ],
      "text/plain": [
       "                          name  steam_appid  required_age is_free  \\\n",
       "0               Counter-Strike           10           0.0   False   \n",
       "1        Team Fortress Classic           20           0.0   False   \n",
       "2                Day of Defeat           30           0.0   False   \n",
       "3           Deathmatch Classic           40           0.0   False   \n",
       "4    Half-Life: Opposing Force           50           0.0   False   \n",
       "..                         ...          ...           ...     ...   \n",
       "995                    Brotato      1942280           0.0   False   \n",
       "996       Escape the Backrooms      1943950           0.0   False   \n",
       "997                Broken Edge      1947070           0.0   False   \n",
       "998       Inside the Backrooms      1987080           0.0   False   \n",
       "999            Resident Evil 4      2050650          18.0   False   \n",
       "\n",
       "             platforms  recommendations release_date  \n",
       "0    windows,mac,linux           137378   2000-11-01  \n",
       "1    windows,mac,linux             5474   1999-04-01  \n",
       "2    windows,mac,linux             3694   2003-05-01  \n",
       "3    windows,mac,linux             1924   2001-06-01  \n",
       "4    windows,mac,linux            15478   1999-11-01  \n",
       "..                 ...              ...          ...  \n",
       "995            windows            42508   2023-06-23  \n",
       "996            windows            26628   2022-08-11  \n",
       "997            windows              239   2022-11-17  \n",
       "998            windows            29745   2022-06-20  \n",
       "999            windows            53998   2023-03-23  \n",
       "\n",
       "[971 rows x 7 columns]"
      ]
     },
     "execution_count": 108,
     "metadata": {},
     "output_type": "execute_result"
    }
   ],
   "source": [
    "steam_app_data"
   ]
  },
  {
   "cell_type": "code",
   "execution_count": 109,
   "id": "ef0edcf1-43c7-4cf6-a77c-f9d3813a65d9",
   "metadata": {},
   "outputs": [
    {
     "data": {
      "text/plain": [
       "name               0\n",
       "steam_appid        0\n",
       "required_age       0\n",
       "is_free            0\n",
       "platforms          0\n",
       "recommendations    0\n",
       "release_date       0\n",
       "dtype: int64"
      ]
     },
     "execution_count": 109,
     "metadata": {},
     "output_type": "execute_result"
    }
   ],
   "source": [
    "steam_app_data.isnull().sum()"
   ]
  },
  {
   "cell_type": "code",
   "execution_count": 110,
   "id": "c70ea252-f357-4de3-b412-ea1d675963f9",
   "metadata": {},
   "outputs": [],
   "source": [
    "# Create a new csv file to store the the cleaned steamapp data\n",
    "steamspy_data.to_csv('Top 1000 Steam Games 2023/steam_app_data_clean.csv', index = False)"
   ]
  },
  {
   "cell_type": "markdown",
   "id": "ee4966b7-af07-4229-a5e3-bee598852375",
   "metadata": {},
   "source": [
    "# Merge cleaned and preprocessed steam data and steamapp data"
   ]
  },
  {
   "cell_type": "code",
   "execution_count": 111,
   "id": "f0657cc3-78c4-4c81-87ee-fb9f92ae3b0e",
   "metadata": {},
   "outputs": [
    {
     "data": {
      "text/html": [
       "<div>\n",
       "<style scoped>\n",
       "    .dataframe tbody tr th:only-of-type {\n",
       "        vertical-align: middle;\n",
       "    }\n",
       "\n",
       "    .dataframe tbody tr th {\n",
       "        vertical-align: top;\n",
       "    }\n",
       "\n",
       "    .dataframe thead th {\n",
       "        text-align: right;\n",
       "    }\n",
       "</style>\n",
       "<table border=\"1\" class=\"dataframe\">\n",
       "  <thead>\n",
       "    <tr style=\"text-align: right;\">\n",
       "      <th></th>\n",
       "      <th>appid</th>\n",
       "      <th>name_x</th>\n",
       "      <th>developer</th>\n",
       "      <th>publisher</th>\n",
       "      <th>positive</th>\n",
       "      <th>negative</th>\n",
       "      <th>owners</th>\n",
       "      <th>price</th>\n",
       "      <th>initialprice</th>\n",
       "      <th>discount</th>\n",
       "      <th>languages</th>\n",
       "      <th>genre</th>\n",
       "      <th>ccu</th>\n",
       "      <th>name_y</th>\n",
       "      <th>steam_appid</th>\n",
       "      <th>required_age</th>\n",
       "      <th>is_free</th>\n",
       "      <th>platforms</th>\n",
       "      <th>recommendations</th>\n",
       "      <th>release_date</th>\n",
       "    </tr>\n",
       "  </thead>\n",
       "  <tbody>\n",
       "    <tr>\n",
       "      <th>0</th>\n",
       "      <td>10</td>\n",
       "      <td>Counter-Strike</td>\n",
       "      <td>Valve</td>\n",
       "      <td>Valve</td>\n",
       "      <td>216345</td>\n",
       "      <td>5530</td>\n",
       "      <td>10000000-20000000</td>\n",
       "      <td>9.99</td>\n",
       "      <td>9.99</td>\n",
       "      <td>0</td>\n",
       "      <td>English, French, German, Italian, Spanish - Sp...</td>\n",
       "      <td>Action</td>\n",
       "      <td>10775</td>\n",
       "      <td>Counter-Strike</td>\n",
       "      <td>10</td>\n",
       "      <td>0.0</td>\n",
       "      <td>False</td>\n",
       "      <td>windows,mac,linux</td>\n",
       "      <td>137378</td>\n",
       "      <td>2000-11-01</td>\n",
       "    </tr>\n",
       "    <tr>\n",
       "      <th>1</th>\n",
       "      <td>20</td>\n",
       "      <td>Team Fortress Classic</td>\n",
       "      <td>Valve</td>\n",
       "      <td>Valve</td>\n",
       "      <td>6472</td>\n",
       "      <td>990</td>\n",
       "      <td>5000000-10000000</td>\n",
       "      <td>4.99</td>\n",
       "      <td>4.99</td>\n",
       "      <td>0</td>\n",
       "      <td>English, French, German, Italian, Spanish - Sp...</td>\n",
       "      <td>Action</td>\n",
       "      <td>77</td>\n",
       "      <td>Team Fortress Classic</td>\n",
       "      <td>20</td>\n",
       "      <td>0.0</td>\n",
       "      <td>False</td>\n",
       "      <td>windows,mac,linux</td>\n",
       "      <td>5474</td>\n",
       "      <td>1999-04-01</td>\n",
       "    </tr>\n",
       "    <tr>\n",
       "      <th>2</th>\n",
       "      <td>30</td>\n",
       "      <td>Day of Defeat</td>\n",
       "      <td>Valve</td>\n",
       "      <td>Valve</td>\n",
       "      <td>5686</td>\n",
       "      <td>634</td>\n",
       "      <td>5000000-10000000</td>\n",
       "      <td>4.99</td>\n",
       "      <td>4.99</td>\n",
       "      <td>0</td>\n",
       "      <td>English, French, German, Italian, Spanish - Spain</td>\n",
       "      <td>Action</td>\n",
       "      <td>89</td>\n",
       "      <td>Day of Defeat</td>\n",
       "      <td>30</td>\n",
       "      <td>0.0</td>\n",
       "      <td>False</td>\n",
       "      <td>windows,mac,linux</td>\n",
       "      <td>3694</td>\n",
       "      <td>2003-05-01</td>\n",
       "    </tr>\n",
       "    <tr>\n",
       "      <th>3</th>\n",
       "      <td>40</td>\n",
       "      <td>Deathmatch Classic</td>\n",
       "      <td>Valve</td>\n",
       "      <td>Valve</td>\n",
       "      <td>2242</td>\n",
       "      <td>490</td>\n",
       "      <td>5000000-10000000</td>\n",
       "      <td>4.99</td>\n",
       "      <td>4.99</td>\n",
       "      <td>0</td>\n",
       "      <td>English, French, German, Italian, Spanish - Sp...</td>\n",
       "      <td>Action</td>\n",
       "      <td>8</td>\n",
       "      <td>Deathmatch Classic</td>\n",
       "      <td>40</td>\n",
       "      <td>0.0</td>\n",
       "      <td>False</td>\n",
       "      <td>windows,mac,linux</td>\n",
       "      <td>1924</td>\n",
       "      <td>2001-06-01</td>\n",
       "    </tr>\n",
       "    <tr>\n",
       "      <th>4</th>\n",
       "      <td>50</td>\n",
       "      <td>Half-Life: Opposing Force</td>\n",
       "      <td>Gearbox Software</td>\n",
       "      <td>Valve</td>\n",
       "      <td>17468</td>\n",
       "      <td>890</td>\n",
       "      <td>2000000-5000000</td>\n",
       "      <td>4.99</td>\n",
       "      <td>4.99</td>\n",
       "      <td>0</td>\n",
       "      <td>English, French, German, Korean</td>\n",
       "      <td>Action</td>\n",
       "      <td>162</td>\n",
       "      <td>Half-Life: Opposing Force</td>\n",
       "      <td>50</td>\n",
       "      <td>0.0</td>\n",
       "      <td>False</td>\n",
       "      <td>windows,mac,linux</td>\n",
       "      <td>15478</td>\n",
       "      <td>1999-11-01</td>\n",
       "    </tr>\n",
       "  </tbody>\n",
       "</table>\n",
       "</div>"
      ],
      "text/plain": [
       "   appid                     name_x         developer publisher  positive  \\\n",
       "0     10             Counter-Strike             Valve     Valve    216345   \n",
       "1     20      Team Fortress Classic             Valve     Valve      6472   \n",
       "2     30              Day of Defeat             Valve     Valve      5686   \n",
       "3     40         Deathmatch Classic             Valve     Valve      2242   \n",
       "4     50  Half-Life: Opposing Force  Gearbox Software     Valve     17468   \n",
       "\n",
       "   negative             owners  price  initialprice  discount  \\\n",
       "0      5530  10000000-20000000   9.99          9.99         0   \n",
       "1       990   5000000-10000000   4.99          4.99         0   \n",
       "2       634   5000000-10000000   4.99          4.99         0   \n",
       "3       490   5000000-10000000   4.99          4.99         0   \n",
       "4       890    2000000-5000000   4.99          4.99         0   \n",
       "\n",
       "                                           languages   genre    ccu  \\\n",
       "0  English, French, German, Italian, Spanish - Sp...  Action  10775   \n",
       "1  English, French, German, Italian, Spanish - Sp...  Action     77   \n",
       "2  English, French, German, Italian, Spanish - Spain  Action     89   \n",
       "3  English, French, German, Italian, Spanish - Sp...  Action      8   \n",
       "4                    English, French, German, Korean  Action    162   \n",
       "\n",
       "                      name_y  steam_appid  required_age is_free  \\\n",
       "0             Counter-Strike           10           0.0   False   \n",
       "1      Team Fortress Classic           20           0.0   False   \n",
       "2              Day of Defeat           30           0.0   False   \n",
       "3         Deathmatch Classic           40           0.0   False   \n",
       "4  Half-Life: Opposing Force           50           0.0   False   \n",
       "\n",
       "           platforms  recommendations release_date  \n",
       "0  windows,mac,linux           137378   2000-11-01  \n",
       "1  windows,mac,linux             5474   1999-04-01  \n",
       "2  windows,mac,linux             3694   2003-05-01  \n",
       "3  windows,mac,linux             1924   2001-06-01  \n",
       "4  windows,mac,linux            15478   1999-11-01  "
      ]
     },
     "execution_count": 111,
     "metadata": {},
     "output_type": "execute_result"
    }
   ],
   "source": [
    "# Merge the 'steamspy_data' DataFrame and the 'steam_app_data' DataFrame based on the 'appid' and 'steam_appid' columns\n",
    "steam_data = steamspy_data.merge(steam_app_data, left_on = 'appid', right_on = 'steam_appid')\n",
    "\n",
    "# sow the first five rows of the new merged dataframe\n",
    "steam_data.head()"
   ]
  },
  {
   "cell_type": "code",
   "execution_count": 112,
   "id": "4f23cbf1-d370-4af2-8b13-591a7a18d311",
   "metadata": {},
   "outputs": [
    {
     "data": {
      "text/plain": [
       "appid              0\n",
       "name_x             0\n",
       "developer          0\n",
       "publisher          0\n",
       "positive           0\n",
       "negative           0\n",
       "owners             0\n",
       "price              0\n",
       "initialprice       0\n",
       "discount           0\n",
       "languages          0\n",
       "genre              0\n",
       "ccu                0\n",
       "name_y             0\n",
       "steam_appid        0\n",
       "required_age       0\n",
       "is_free            0\n",
       "platforms          0\n",
       "recommendations    0\n",
       "release_date       0\n",
       "dtype: int64"
      ]
     },
     "execution_count": 112,
     "metadata": {},
     "output_type": "execute_result"
    }
   ],
   "source": [
    "steam_data.isnull().sum()"
   ]
  },
  {
   "cell_type": "code",
   "execution_count": 113,
   "id": "88f5648e-c874-4868-8c56-6d1f045a84f6",
   "metadata": {},
   "outputs": [
    {
     "name": "stdout",
     "output_type": "stream",
     "text": [
      "<class 'pandas.core.frame.DataFrame'>\n",
      "RangeIndex: 966 entries, 0 to 965\n",
      "Data columns (total 20 columns):\n",
      " #   Column           Non-Null Count  Dtype         \n",
      "---  ------           --------------  -----         \n",
      " 0   appid            966 non-null    int64         \n",
      " 1   name_x           966 non-null    object        \n",
      " 2   developer        966 non-null    object        \n",
      " 3   publisher        966 non-null    object        \n",
      " 4   positive         966 non-null    int64         \n",
      " 5   negative         966 non-null    int64         \n",
      " 6   owners           966 non-null    object        \n",
      " 7   price            966 non-null    float64       \n",
      " 8   initialprice     966 non-null    float64       \n",
      " 9   discount         966 non-null    int64         \n",
      " 10  languages        966 non-null    object        \n",
      " 11  genre            966 non-null    object        \n",
      " 12  ccu              966 non-null    int64         \n",
      " 13  name_y           966 non-null    object        \n",
      " 14  steam_appid      966 non-null    int64         \n",
      " 15  required_age     966 non-null    float64       \n",
      " 16  is_free          966 non-null    object        \n",
      " 17  platforms        966 non-null    object        \n",
      " 18  recommendations  966 non-null    int64         \n",
      " 19  release_date     966 non-null    datetime64[ns]\n",
      "dtypes: datetime64[ns](1), float64(3), int64(7), object(9)\n",
      "memory usage: 151.1+ KB\n"
     ]
    }
   ],
   "source": [
    "steam_data.info()"
   ]
  },
  {
   "cell_type": "code",
   "execution_count": 114,
   "id": "3235bbb5-4f51-4d8c-9915-74437f6b32dc",
   "metadata": {},
   "outputs": [
    {
     "data": {
      "text/html": [
       "<div>\n",
       "<style scoped>\n",
       "    .dataframe tbody tr th:only-of-type {\n",
       "        vertical-align: middle;\n",
       "    }\n",
       "\n",
       "    .dataframe tbody tr th {\n",
       "        vertical-align: top;\n",
       "    }\n",
       "\n",
       "    .dataframe thead th {\n",
       "        text-align: right;\n",
       "    }\n",
       "</style>\n",
       "<table border=\"1\" class=\"dataframe\">\n",
       "  <thead>\n",
       "    <tr style=\"text-align: right;\">\n",
       "      <th></th>\n",
       "      <th>steam_appid</th>\n",
       "      <th>name</th>\n",
       "      <th>release_date</th>\n",
       "      <th>is_free</th>\n",
       "      <th>languages</th>\n",
       "      <th>developer</th>\n",
       "      <th>publisher</th>\n",
       "      <th>platforms</th>\n",
       "      <th>required_age</th>\n",
       "      <th>genre</th>\n",
       "      <th>positive_ratings</th>\n",
       "      <th>negative_ratings</th>\n",
       "      <th>recommendations</th>\n",
       "      <th>concurrent_users</th>\n",
       "      <th>owners</th>\n",
       "      <th>original_price</th>\n",
       "      <th>discount_percent</th>\n",
       "      <th>discounted_price</th>\n",
       "    </tr>\n",
       "  </thead>\n",
       "  <tbody>\n",
       "    <tr>\n",
       "      <th>0</th>\n",
       "      <td>10</td>\n",
       "      <td>Counter-Strike</td>\n",
       "      <td>2000-11-01</td>\n",
       "      <td>False</td>\n",
       "      <td>English, French, German, Italian, Spanish - Sp...</td>\n",
       "      <td>Valve</td>\n",
       "      <td>Valve</td>\n",
       "      <td>windows,mac,linux</td>\n",
       "      <td>0.0</td>\n",
       "      <td>Action</td>\n",
       "      <td>216345</td>\n",
       "      <td>5530</td>\n",
       "      <td>137378</td>\n",
       "      <td>10775</td>\n",
       "      <td>10000000-20000000</td>\n",
       "      <td>9.99</td>\n",
       "      <td>0</td>\n",
       "      <td>9.99</td>\n",
       "    </tr>\n",
       "    <tr>\n",
       "      <th>1</th>\n",
       "      <td>20</td>\n",
       "      <td>Team Fortress Classic</td>\n",
       "      <td>1999-04-01</td>\n",
       "      <td>False</td>\n",
       "      <td>English, French, German, Italian, Spanish - Sp...</td>\n",
       "      <td>Valve</td>\n",
       "      <td>Valve</td>\n",
       "      <td>windows,mac,linux</td>\n",
       "      <td>0.0</td>\n",
       "      <td>Action</td>\n",
       "      <td>6472</td>\n",
       "      <td>990</td>\n",
       "      <td>5474</td>\n",
       "      <td>77</td>\n",
       "      <td>5000000-10000000</td>\n",
       "      <td>4.99</td>\n",
       "      <td>0</td>\n",
       "      <td>4.99</td>\n",
       "    </tr>\n",
       "    <tr>\n",
       "      <th>2</th>\n",
       "      <td>30</td>\n",
       "      <td>Day of Defeat</td>\n",
       "      <td>2003-05-01</td>\n",
       "      <td>False</td>\n",
       "      <td>English, French, German, Italian, Spanish - Spain</td>\n",
       "      <td>Valve</td>\n",
       "      <td>Valve</td>\n",
       "      <td>windows,mac,linux</td>\n",
       "      <td>0.0</td>\n",
       "      <td>Action</td>\n",
       "      <td>5686</td>\n",
       "      <td>634</td>\n",
       "      <td>3694</td>\n",
       "      <td>89</td>\n",
       "      <td>5000000-10000000</td>\n",
       "      <td>4.99</td>\n",
       "      <td>0</td>\n",
       "      <td>4.99</td>\n",
       "    </tr>\n",
       "    <tr>\n",
       "      <th>3</th>\n",
       "      <td>40</td>\n",
       "      <td>Deathmatch Classic</td>\n",
       "      <td>2001-06-01</td>\n",
       "      <td>False</td>\n",
       "      <td>English, French, German, Italian, Spanish - Sp...</td>\n",
       "      <td>Valve</td>\n",
       "      <td>Valve</td>\n",
       "      <td>windows,mac,linux</td>\n",
       "      <td>0.0</td>\n",
       "      <td>Action</td>\n",
       "      <td>2242</td>\n",
       "      <td>490</td>\n",
       "      <td>1924</td>\n",
       "      <td>8</td>\n",
       "      <td>5000000-10000000</td>\n",
       "      <td>4.99</td>\n",
       "      <td>0</td>\n",
       "      <td>4.99</td>\n",
       "    </tr>\n",
       "    <tr>\n",
       "      <th>4</th>\n",
       "      <td>50</td>\n",
       "      <td>Half-Life: Opposing Force</td>\n",
       "      <td>1999-11-01</td>\n",
       "      <td>False</td>\n",
       "      <td>English, French, German, Korean</td>\n",
       "      <td>Gearbox Software</td>\n",
       "      <td>Valve</td>\n",
       "      <td>windows,mac,linux</td>\n",
       "      <td>0.0</td>\n",
       "      <td>Action</td>\n",
       "      <td>17468</td>\n",
       "      <td>890</td>\n",
       "      <td>15478</td>\n",
       "      <td>162</td>\n",
       "      <td>2000000-5000000</td>\n",
       "      <td>4.99</td>\n",
       "      <td>0</td>\n",
       "      <td>4.99</td>\n",
       "    </tr>\n",
       "    <tr>\n",
       "      <th>5</th>\n",
       "      <td>60</td>\n",
       "      <td>Ricochet</td>\n",
       "      <td>2000-11-01</td>\n",
       "      <td>False</td>\n",
       "      <td>English, French, German, Italian, Spanish - Sp...</td>\n",
       "      <td>Valve</td>\n",
       "      <td>Valve</td>\n",
       "      <td>windows,mac,linux</td>\n",
       "      <td>0.0</td>\n",
       "      <td>Action</td>\n",
       "      <td>4302</td>\n",
       "      <td>952</td>\n",
       "      <td>3647</td>\n",
       "      <td>9</td>\n",
       "      <td>5000000-10000000</td>\n",
       "      <td>4.99</td>\n",
       "      <td>0</td>\n",
       "      <td>4.99</td>\n",
       "    </tr>\n",
       "    <tr>\n",
       "      <th>6</th>\n",
       "      <td>70</td>\n",
       "      <td>Half-Life</td>\n",
       "      <td>1998-11-08</td>\n",
       "      <td>False</td>\n",
       "      <td>English, French, German, Italian, Spanish - Sp...</td>\n",
       "      <td>Valve</td>\n",
       "      <td>Valve</td>\n",
       "      <td>windows,mac,linux</td>\n",
       "      <td>0.0</td>\n",
       "      <td>Action</td>\n",
       "      <td>87726</td>\n",
       "      <td>3191</td>\n",
       "      <td>74518</td>\n",
       "      <td>925</td>\n",
       "      <td>10000000-20000000</td>\n",
       "      <td>9.99</td>\n",
       "      <td>0</td>\n",
       "      <td>9.99</td>\n",
       "    </tr>\n",
       "    <tr>\n",
       "      <th>7</th>\n",
       "      <td>80</td>\n",
       "      <td>Counter-Strike: Condition Zero</td>\n",
       "      <td>2004-03-01</td>\n",
       "      <td>False</td>\n",
       "      <td>English, French, German, Italian, Spanish - Sp...</td>\n",
       "      <td>Valve</td>\n",
       "      <td>Valve</td>\n",
       "      <td>windows,mac,linux</td>\n",
       "      <td>0.0</td>\n",
       "      <td>Action</td>\n",
       "      <td>21155</td>\n",
       "      <td>2023</td>\n",
       "      <td>16877</td>\n",
       "      <td>451</td>\n",
       "      <td>5000000-10000000</td>\n",
       "      <td>9.99</td>\n",
       "      <td>0</td>\n",
       "      <td>9.99</td>\n",
       "    </tr>\n",
       "    <tr>\n",
       "      <th>8</th>\n",
       "      <td>130</td>\n",
       "      <td>Half-Life: Blue Shift</td>\n",
       "      <td>2001-06-01</td>\n",
       "      <td>False</td>\n",
       "      <td>English, French, German</td>\n",
       "      <td>Gearbox Software</td>\n",
       "      <td>Valve</td>\n",
       "      <td>windows,mac,linux</td>\n",
       "      <td>0.0</td>\n",
       "      <td>Action</td>\n",
       "      <td>12547</td>\n",
       "      <td>1126</td>\n",
       "      <td>11577</td>\n",
       "      <td>74</td>\n",
       "      <td>5000000-10000000</td>\n",
       "      <td>4.99</td>\n",
       "      <td>0</td>\n",
       "      <td>4.99</td>\n",
       "    </tr>\n",
       "    <tr>\n",
       "      <th>9</th>\n",
       "      <td>220</td>\n",
       "      <td>Half-Life 2</td>\n",
       "      <td>2004-11-16</td>\n",
       "      <td>False</td>\n",
       "      <td>English, French, German, Italian, Korean, Span...</td>\n",
       "      <td>Valve</td>\n",
       "      <td>Valve</td>\n",
       "      <td>windows,mac,linux</td>\n",
       "      <td>0.0</td>\n",
       "      <td>Action</td>\n",
       "      <td>164166</td>\n",
       "      <td>4137</td>\n",
       "      <td>130813</td>\n",
       "      <td>1289</td>\n",
       "      <td>5000000-10000000</td>\n",
       "      <td>9.99</td>\n",
       "      <td>0</td>\n",
       "      <td>9.99</td>\n",
       "    </tr>\n",
       "  </tbody>\n",
       "</table>\n",
       "</div>"
      ],
      "text/plain": [
       "   steam_appid                            name release_date is_free  \\\n",
       "0           10                  Counter-Strike   2000-11-01   False   \n",
       "1           20           Team Fortress Classic   1999-04-01   False   \n",
       "2           30                   Day of Defeat   2003-05-01   False   \n",
       "3           40              Deathmatch Classic   2001-06-01   False   \n",
       "4           50       Half-Life: Opposing Force   1999-11-01   False   \n",
       "5           60                        Ricochet   2000-11-01   False   \n",
       "6           70                       Half-Life   1998-11-08   False   \n",
       "7           80  Counter-Strike: Condition Zero   2004-03-01   False   \n",
       "8          130           Half-Life: Blue Shift   2001-06-01   False   \n",
       "9          220                     Half-Life 2   2004-11-16   False   \n",
       "\n",
       "                                           languages         developer  \\\n",
       "0  English, French, German, Italian, Spanish - Sp...             Valve   \n",
       "1  English, French, German, Italian, Spanish - Sp...             Valve   \n",
       "2  English, French, German, Italian, Spanish - Spain             Valve   \n",
       "3  English, French, German, Italian, Spanish - Sp...             Valve   \n",
       "4                    English, French, German, Korean  Gearbox Software   \n",
       "5  English, French, German, Italian, Spanish - Sp...             Valve   \n",
       "6  English, French, German, Italian, Spanish - Sp...             Valve   \n",
       "7  English, French, German, Italian, Spanish - Sp...             Valve   \n",
       "8                            English, French, German  Gearbox Software   \n",
       "9  English, French, German, Italian, Korean, Span...             Valve   \n",
       "\n",
       "  publisher          platforms  required_age   genre  positive_ratings  \\\n",
       "0     Valve  windows,mac,linux           0.0  Action            216345   \n",
       "1     Valve  windows,mac,linux           0.0  Action              6472   \n",
       "2     Valve  windows,mac,linux           0.0  Action              5686   \n",
       "3     Valve  windows,mac,linux           0.0  Action              2242   \n",
       "4     Valve  windows,mac,linux           0.0  Action             17468   \n",
       "5     Valve  windows,mac,linux           0.0  Action              4302   \n",
       "6     Valve  windows,mac,linux           0.0  Action             87726   \n",
       "7     Valve  windows,mac,linux           0.0  Action             21155   \n",
       "8     Valve  windows,mac,linux           0.0  Action             12547   \n",
       "9     Valve  windows,mac,linux           0.0  Action            164166   \n",
       "\n",
       "   negative_ratings  recommendations  concurrent_users             owners  \\\n",
       "0              5530           137378             10775  10000000-20000000   \n",
       "1               990             5474                77   5000000-10000000   \n",
       "2               634             3694                89   5000000-10000000   \n",
       "3               490             1924                 8   5000000-10000000   \n",
       "4               890            15478               162    2000000-5000000   \n",
       "5               952             3647                 9   5000000-10000000   \n",
       "6              3191            74518               925  10000000-20000000   \n",
       "7              2023            16877               451   5000000-10000000   \n",
       "8              1126            11577                74   5000000-10000000   \n",
       "9              4137           130813              1289   5000000-10000000   \n",
       "\n",
       "   original_price  discount_percent  discounted_price  \n",
       "0            9.99                 0              9.99  \n",
       "1            4.99                 0              4.99  \n",
       "2            4.99                 0              4.99  \n",
       "3            4.99                 0              4.99  \n",
       "4            4.99                 0              4.99  \n",
       "5            4.99                 0              4.99  \n",
       "6            9.99                 0              9.99  \n",
       "7            9.99                 0              9.99  \n",
       "8            4.99                 0              4.99  \n",
       "9            9.99                 0              9.99  "
      ]
     },
     "execution_count": 114,
     "metadata": {},
     "output_type": "execute_result"
    }
   ],
   "source": [
    "# remove overlapping columns\n",
    "steam_complete_clean = steam_data.drop(columns = ['name_x', 'appid'])\n",
    "\n",
    "# reindex to reorder columns\n",
    "steam_complete_clean = steam_complete_clean[[\n",
    "    'steam_appid',\n",
    "    'name_y',\n",
    "    'release_date',\n",
    "    'is_free',\n",
    "    'languages',\n",
    "    'developer',\n",
    "    'publisher',\n",
    "    'platforms',\n",
    "    'required_age',\n",
    "    'genre',\n",
    "    'positive',\n",
    "    'negative',\n",
    "    'recommendations',\n",
    "    'ccu',\n",
    "    'owners',\n",
    "    'initialprice',\n",
    "    'discount',\n",
    "    'price'\n",
    "]]\n",
    "\n",
    "# rename columns\n",
    "steam_complete_clean = steam_complete_clean.rename({\n",
    "    'name_y': 'name',\n",
    "    'positive': 'positive_ratings',\n",
    "    'negative': 'negative_ratings',\n",
    "    'ccu': 'concurrent_users',\n",
    "    'initialprice': 'original_price',\n",
    "    'discount' : 'discount_percent',\n",
    "    'price' : 'discounted_price'\n",
    "}, axis=1)\n",
    "\n",
    "steam_complete_clean.head(10)"
   ]
  },
  {
   "cell_type": "code",
   "execution_count": 115,
   "id": "a12ff3bf-2fa7-4bb6-8a17-5d1f87155f17",
   "metadata": {},
   "outputs": [
    {
     "name": "stdout",
     "output_type": "stream",
     "text": [
      "<class 'pandas.core.frame.DataFrame'>\n",
      "RangeIndex: 966 entries, 0 to 965\n",
      "Data columns (total 18 columns):\n",
      " #   Column            Non-Null Count  Dtype         \n",
      "---  ------            --------------  -----         \n",
      " 0   steam_appid       966 non-null    int64         \n",
      " 1   name              966 non-null    object        \n",
      " 2   release_date      966 non-null    datetime64[ns]\n",
      " 3   is_free           966 non-null    object        \n",
      " 4   languages         966 non-null    object        \n",
      " 5   developer         966 non-null    object        \n",
      " 6   publisher         966 non-null    object        \n",
      " 7   platforms         966 non-null    object        \n",
      " 8   required_age      966 non-null    float64       \n",
      " 9   genre             966 non-null    object        \n",
      " 10  positive_ratings  966 non-null    int64         \n",
      " 11  negative_ratings  966 non-null    int64         \n",
      " 12  recommendations   966 non-null    int64         \n",
      " 13  concurrent_users  966 non-null    int64         \n",
      " 14  owners            966 non-null    object        \n",
      " 15  original_price    966 non-null    float64       \n",
      " 16  discount_percent  966 non-null    int64         \n",
      " 17  discounted_price  966 non-null    float64       \n",
      "dtypes: datetime64[ns](1), float64(3), int64(6), object(8)\n",
      "memory usage: 136.0+ KB\n"
     ]
    }
   ],
   "source": [
    "steam_complete_clean.info()"
   ]
  },
  {
   "cell_type": "code",
   "execution_count": 116,
   "id": "49a061b0-68f3-45b9-bb8b-e888bdbce068",
   "metadata": {},
   "outputs": [],
   "source": [
    "# Create a new csv file to store the the new merged dataframe\n",
    "steam_complete_clean.to_csv('Top 1000 Steam Games 2023/steam_complete_clean.csv', index = False)"
   ]
  }
 ],
 "metadata": {
  "kernelspec": {
   "display_name": "Python 3 (ipykernel)",
   "language": "python",
   "name": "python3"
  },
  "language_info": {
   "codemirror_mode": {
    "name": "ipython",
    "version": 3
   },
   "file_extension": ".py",
   "mimetype": "text/x-python",
   "name": "python",
   "nbconvert_exporter": "python",
   "pygments_lexer": "ipython3",
   "version": "3.11.4"
  }
 },
 "nbformat": 4,
 "nbformat_minor": 5
}
